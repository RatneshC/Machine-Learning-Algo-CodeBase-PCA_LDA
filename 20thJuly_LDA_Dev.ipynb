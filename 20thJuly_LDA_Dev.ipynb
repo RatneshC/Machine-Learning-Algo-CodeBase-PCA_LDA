{
  "nbformat": 4,
  "nbformat_minor": 0,
  "metadata": {
    "colab": {
      "provenance": []
    },
    "kernelspec": {
      "name": "python3",
      "display_name": "Python 3"
    },
    "language_info": {
      "name": "python"
    }
  },
  "cells": [
    {
      "cell_type": "markdown",
      "source": [
        "# **Introduction**\n",
        "  **Hey everyone, good morning!**\n",
        "\n",
        "  **Just in case you're grabbing a coffee, I wanted to let you know we're kicking off this seminar on Linear Discriminant Analysis (LDA) at 10:10 AM.**\n",
        "\n",
        "  **In a nutshell, LDA is a cool technique used to categorize data into different groups. It's like being a super organizer, looking for patterns in information to effectively sort things out.  Think of it like separating apples from oranges based on their size and color. LDA does something similar, but with much more complex data and multiple features!**\n",
        "\n",
        "  **We'll be diving deeper into LDA throughout the seminar, so come prepared to unlock the mysteries of data classification!**"
      ],
      "metadata": {
        "id": "BM-NcgeGYyGI"
      }
    },
    {
      "cell_type": "markdown",
      "source": [
        "<hr>\n",
        "\n",
        "# **Importing Libraries**"
      ],
      "metadata": {
        "id": "V7EJNBkAig_j"
      }
    },
    {
      "cell_type": "markdown",
      "source": [
        "**Classical Libraries**"
      ],
      "metadata": {
        "id": "7Sc0diP5i2j9"
      }
    },
    {
      "cell_type": "code",
      "execution_count": 1,
      "metadata": {
        "id": "G6r4u_jlYr6C"
      },
      "outputs": [],
      "source": [
        "import numpy as np\n",
        "import pandas as pd\n",
        "import matplotlib.pyplot as plt"
      ]
    },
    {
      "cell_type": "markdown",
      "source": [
        "**SKLearn**"
      ],
      "metadata": {
        "id": "O9ZCb_ARi5fR"
      }
    },
    {
      "cell_type": "code",
      "source": [
        "from sklearn.metrics import *\n",
        "from sklearn.datasets import load_digits\n",
        "from sklearn.preprocessing import StandardScaler\n",
        "from sklearn.ensemble import RandomForestClassifier\n",
        "from sklearn.model_selection import train_test_split\n",
        "from sklearn.discriminant_analysis import LinearDiscriminantAnalysis"
      ],
      "metadata": {
        "id": "GhsCvUXbi7ig"
      },
      "execution_count": 30,
      "outputs": []
    },
    {
      "cell_type": "markdown",
      "source": [
        "<hr>\n",
        "\n",
        "# **Data Loading**"
      ],
      "metadata": {
        "id": "dWFU3jVdjB7n"
      }
    },
    {
      "cell_type": "markdown",
      "source": [
        "**You can grab the data directly from load_digits(), as the data you are having is in form of dictionary**"
      ],
      "metadata": {
        "id": "JGoJxx44jE8r"
      }
    },
    {
      "cell_type": "code",
      "source": [
        "digits = load_digits()"
      ],
      "metadata": {
        "id": "k_UyIyE_jAuj"
      },
      "execution_count": 3,
      "outputs": []
    },
    {
      "cell_type": "code",
      "source": [
        "digits.keys()"
      ],
      "metadata": {
        "colab": {
          "base_uri": "https://localhost:8080/"
        },
        "id": "CMslri33jQon",
        "outputId": "36c0b24b-7375-4c9c-feb9-761c16f9164a"
      },
      "execution_count": 4,
      "outputs": [
        {
          "output_type": "execute_result",
          "data": {
            "text/plain": [
              "dict_keys(['data', 'target', 'frame', 'feature_names', 'target_names', 'images', 'DESCR'])"
            ]
          },
          "metadata": {},
          "execution_count": 4
        }
      ]
    },
    {
      "cell_type": "code",
      "source": [
        "print(digits.DESCR)"
      ],
      "metadata": {
        "colab": {
          "base_uri": "https://localhost:8080/"
        },
        "id": "egvWM69qjRlu",
        "outputId": "b8e9acac-6436-402a-e2e9-4048b37e65e3"
      },
      "execution_count": 5,
      "outputs": [
        {
          "output_type": "stream",
          "name": "stdout",
          "text": [
            ".. _digits_dataset:\n",
            "\n",
            "Optical recognition of handwritten digits dataset\n",
            "--------------------------------------------------\n",
            "\n",
            "**Data Set Characteristics:**\n",
            "\n",
            "    :Number of Instances: 1797\n",
            "    :Number of Attributes: 64\n",
            "    :Attribute Information: 8x8 image of integer pixels in the range 0..16.\n",
            "    :Missing Attribute Values: None\n",
            "    :Creator: E. Alpaydin (alpaydin '@' boun.edu.tr)\n",
            "    :Date: July; 1998\n",
            "\n",
            "This is a copy of the test set of the UCI ML hand-written digits datasets\n",
            "https://archive.ics.uci.edu/ml/datasets/Optical+Recognition+of+Handwritten+Digits\n",
            "\n",
            "The data set contains images of hand-written digits: 10 classes where\n",
            "each class refers to a digit.\n",
            "\n",
            "Preprocessing programs made available by NIST were used to extract\n",
            "normalized bitmaps of handwritten digits from a preprinted form. From a\n",
            "total of 43 people, 30 contributed to the training set and different 13\n",
            "to the test set. 32x32 bitmaps are divided into nonoverlapping blocks of\n",
            "4x4 and the number of on pixels are counted in each block. This generates\n",
            "an input matrix of 8x8 where each element is an integer in the range\n",
            "0..16. This reduces dimensionality and gives invariance to small\n",
            "distortions.\n",
            "\n",
            "For info on NIST preprocessing routines, see M. D. Garris, J. L. Blue, G.\n",
            "T. Candela, D. L. Dimmick, J. Geist, P. J. Grother, S. A. Janet, and C.\n",
            "L. Wilson, NIST Form-Based Handprint Recognition System, NISTIR 5469,\n",
            "1994.\n",
            "\n",
            ".. topic:: References\n",
            "\n",
            "  - C. Kaynak (1995) Methods of Combining Multiple Classifiers and Their\n",
            "    Applications to Handwritten Digit Recognition, MSc Thesis, Institute of\n",
            "    Graduate Studies in Science and Engineering, Bogazici University.\n",
            "  - E. Alpaydin, C. Kaynak (1998) Cascading Classifiers, Kybernetika.\n",
            "  - Ken Tang and Ponnuthurai N. Suganthan and Xi Yao and A. Kai Qin.\n",
            "    Linear dimensionalityreduction using relevance weighted LDA. School of\n",
            "    Electrical and Electronic Engineering Nanyang Technological University.\n",
            "    2005.\n",
            "  - Claudio Gentile. A New Approximate Maximal Margin Classification\n",
            "    Algorithm. NIPS. 2000.\n",
            "\n"
          ]
        }
      ]
    },
    {
      "cell_type": "markdown",
      "source": [
        "<hr>\n",
        "\n",
        "**Let's create a dataframe**"
      ],
      "metadata": {
        "id": "6tLn92iBjpp4"
      }
    },
    {
      "cell_type": "code",
      "source": [
        "df = pd.DataFrame(digits.data, columns = digits.feature_names)"
      ],
      "metadata": {
        "id": "EvckjdcDjg3H"
      },
      "execution_count": 6,
      "outputs": []
    },
    {
      "cell_type": "code",
      "source": [
        "df.head()"
      ],
      "metadata": {
        "colab": {
          "base_uri": "https://localhost:8080/",
          "height": 255
        },
        "id": "Yh7dY0IQj5CM",
        "outputId": "3b41984b-9e2a-4aab-f5c5-2bc6f9fd0850"
      },
      "execution_count": 7,
      "outputs": [
        {
          "output_type": "execute_result",
          "data": {
            "text/plain": [
              "   pixel_0_0  pixel_0_1  pixel_0_2  pixel_0_3  pixel_0_4  pixel_0_5  \\\n",
              "0        0.0        0.0        5.0       13.0        9.0        1.0   \n",
              "1        0.0        0.0        0.0       12.0       13.0        5.0   \n",
              "2        0.0        0.0        0.0        4.0       15.0       12.0   \n",
              "3        0.0        0.0        7.0       15.0       13.0        1.0   \n",
              "4        0.0        0.0        0.0        1.0       11.0        0.0   \n",
              "\n",
              "   pixel_0_6  pixel_0_7  pixel_1_0  pixel_1_1  ...  pixel_6_6  pixel_6_7  \\\n",
              "0        0.0        0.0        0.0        0.0  ...        0.0        0.0   \n",
              "1        0.0        0.0        0.0        0.0  ...        0.0        0.0   \n",
              "2        0.0        0.0        0.0        0.0  ...        5.0        0.0   \n",
              "3        0.0        0.0        0.0        8.0  ...        9.0        0.0   \n",
              "4        0.0        0.0        0.0        0.0  ...        0.0        0.0   \n",
              "\n",
              "   pixel_7_0  pixel_7_1  pixel_7_2  pixel_7_3  pixel_7_4  pixel_7_5  \\\n",
              "0        0.0        0.0        6.0       13.0       10.0        0.0   \n",
              "1        0.0        0.0        0.0       11.0       16.0       10.0   \n",
              "2        0.0        0.0        0.0        3.0       11.0       16.0   \n",
              "3        0.0        0.0        7.0       13.0       13.0        9.0   \n",
              "4        0.0        0.0        0.0        2.0       16.0        4.0   \n",
              "\n",
              "   pixel_7_6  pixel_7_7  \n",
              "0        0.0        0.0  \n",
              "1        0.0        0.0  \n",
              "2        9.0        0.0  \n",
              "3        0.0        0.0  \n",
              "4        0.0        0.0  \n",
              "\n",
              "[5 rows x 64 columns]"
            ],
            "text/html": [
              "\n",
              "  <div id=\"df-125f8ffa-354b-4193-9a43-3309a4a0282b\" class=\"colab-df-container\">\n",
              "    <div>\n",
              "<style scoped>\n",
              "    .dataframe tbody tr th:only-of-type {\n",
              "        vertical-align: middle;\n",
              "    }\n",
              "\n",
              "    .dataframe tbody tr th {\n",
              "        vertical-align: top;\n",
              "    }\n",
              "\n",
              "    .dataframe thead th {\n",
              "        text-align: right;\n",
              "    }\n",
              "</style>\n",
              "<table border=\"1\" class=\"dataframe\">\n",
              "  <thead>\n",
              "    <tr style=\"text-align: right;\">\n",
              "      <th></th>\n",
              "      <th>pixel_0_0</th>\n",
              "      <th>pixel_0_1</th>\n",
              "      <th>pixel_0_2</th>\n",
              "      <th>pixel_0_3</th>\n",
              "      <th>pixel_0_4</th>\n",
              "      <th>pixel_0_5</th>\n",
              "      <th>pixel_0_6</th>\n",
              "      <th>pixel_0_7</th>\n",
              "      <th>pixel_1_0</th>\n",
              "      <th>pixel_1_1</th>\n",
              "      <th>...</th>\n",
              "      <th>pixel_6_6</th>\n",
              "      <th>pixel_6_7</th>\n",
              "      <th>pixel_7_0</th>\n",
              "      <th>pixel_7_1</th>\n",
              "      <th>pixel_7_2</th>\n",
              "      <th>pixel_7_3</th>\n",
              "      <th>pixel_7_4</th>\n",
              "      <th>pixel_7_5</th>\n",
              "      <th>pixel_7_6</th>\n",
              "      <th>pixel_7_7</th>\n",
              "    </tr>\n",
              "  </thead>\n",
              "  <tbody>\n",
              "    <tr>\n",
              "      <th>0</th>\n",
              "      <td>0.0</td>\n",
              "      <td>0.0</td>\n",
              "      <td>5.0</td>\n",
              "      <td>13.0</td>\n",
              "      <td>9.0</td>\n",
              "      <td>1.0</td>\n",
              "      <td>0.0</td>\n",
              "      <td>0.0</td>\n",
              "      <td>0.0</td>\n",
              "      <td>0.0</td>\n",
              "      <td>...</td>\n",
              "      <td>0.0</td>\n",
              "      <td>0.0</td>\n",
              "      <td>0.0</td>\n",
              "      <td>0.0</td>\n",
              "      <td>6.0</td>\n",
              "      <td>13.0</td>\n",
              "      <td>10.0</td>\n",
              "      <td>0.0</td>\n",
              "      <td>0.0</td>\n",
              "      <td>0.0</td>\n",
              "    </tr>\n",
              "    <tr>\n",
              "      <th>1</th>\n",
              "      <td>0.0</td>\n",
              "      <td>0.0</td>\n",
              "      <td>0.0</td>\n",
              "      <td>12.0</td>\n",
              "      <td>13.0</td>\n",
              "      <td>5.0</td>\n",
              "      <td>0.0</td>\n",
              "      <td>0.0</td>\n",
              "      <td>0.0</td>\n",
              "      <td>0.0</td>\n",
              "      <td>...</td>\n",
              "      <td>0.0</td>\n",
              "      <td>0.0</td>\n",
              "      <td>0.0</td>\n",
              "      <td>0.0</td>\n",
              "      <td>0.0</td>\n",
              "      <td>11.0</td>\n",
              "      <td>16.0</td>\n",
              "      <td>10.0</td>\n",
              "      <td>0.0</td>\n",
              "      <td>0.0</td>\n",
              "    </tr>\n",
              "    <tr>\n",
              "      <th>2</th>\n",
              "      <td>0.0</td>\n",
              "      <td>0.0</td>\n",
              "      <td>0.0</td>\n",
              "      <td>4.0</td>\n",
              "      <td>15.0</td>\n",
              "      <td>12.0</td>\n",
              "      <td>0.0</td>\n",
              "      <td>0.0</td>\n",
              "      <td>0.0</td>\n",
              "      <td>0.0</td>\n",
              "      <td>...</td>\n",
              "      <td>5.0</td>\n",
              "      <td>0.0</td>\n",
              "      <td>0.0</td>\n",
              "      <td>0.0</td>\n",
              "      <td>0.0</td>\n",
              "      <td>3.0</td>\n",
              "      <td>11.0</td>\n",
              "      <td>16.0</td>\n",
              "      <td>9.0</td>\n",
              "      <td>0.0</td>\n",
              "    </tr>\n",
              "    <tr>\n",
              "      <th>3</th>\n",
              "      <td>0.0</td>\n",
              "      <td>0.0</td>\n",
              "      <td>7.0</td>\n",
              "      <td>15.0</td>\n",
              "      <td>13.0</td>\n",
              "      <td>1.0</td>\n",
              "      <td>0.0</td>\n",
              "      <td>0.0</td>\n",
              "      <td>0.0</td>\n",
              "      <td>8.0</td>\n",
              "      <td>...</td>\n",
              "      <td>9.0</td>\n",
              "      <td>0.0</td>\n",
              "      <td>0.0</td>\n",
              "      <td>0.0</td>\n",
              "      <td>7.0</td>\n",
              "      <td>13.0</td>\n",
              "      <td>13.0</td>\n",
              "      <td>9.0</td>\n",
              "      <td>0.0</td>\n",
              "      <td>0.0</td>\n",
              "    </tr>\n",
              "    <tr>\n",
              "      <th>4</th>\n",
              "      <td>0.0</td>\n",
              "      <td>0.0</td>\n",
              "      <td>0.0</td>\n",
              "      <td>1.0</td>\n",
              "      <td>11.0</td>\n",
              "      <td>0.0</td>\n",
              "      <td>0.0</td>\n",
              "      <td>0.0</td>\n",
              "      <td>0.0</td>\n",
              "      <td>0.0</td>\n",
              "      <td>...</td>\n",
              "      <td>0.0</td>\n",
              "      <td>0.0</td>\n",
              "      <td>0.0</td>\n",
              "      <td>0.0</td>\n",
              "      <td>0.0</td>\n",
              "      <td>2.0</td>\n",
              "      <td>16.0</td>\n",
              "      <td>4.0</td>\n",
              "      <td>0.0</td>\n",
              "      <td>0.0</td>\n",
              "    </tr>\n",
              "  </tbody>\n",
              "</table>\n",
              "<p>5 rows × 64 columns</p>\n",
              "</div>\n",
              "    <div class=\"colab-df-buttons\">\n",
              "\n",
              "  <div class=\"colab-df-container\">\n",
              "    <button class=\"colab-df-convert\" onclick=\"convertToInteractive('df-125f8ffa-354b-4193-9a43-3309a4a0282b')\"\n",
              "            title=\"Convert this dataframe to an interactive table.\"\n",
              "            style=\"display:none;\">\n",
              "\n",
              "  <svg xmlns=\"http://www.w3.org/2000/svg\" height=\"24px\" viewBox=\"0 -960 960 960\">\n",
              "    <path d=\"M120-120v-720h720v720H120Zm60-500h600v-160H180v160Zm220 220h160v-160H400v160Zm0 220h160v-160H400v160ZM180-400h160v-160H180v160Zm440 0h160v-160H620v160ZM180-180h160v-160H180v160Zm440 0h160v-160H620v160Z\"/>\n",
              "  </svg>\n",
              "    </button>\n",
              "\n",
              "  <style>\n",
              "    .colab-df-container {\n",
              "      display:flex;\n",
              "      gap: 12px;\n",
              "    }\n",
              "\n",
              "    .colab-df-convert {\n",
              "      background-color: #E8F0FE;\n",
              "      border: none;\n",
              "      border-radius: 50%;\n",
              "      cursor: pointer;\n",
              "      display: none;\n",
              "      fill: #1967D2;\n",
              "      height: 32px;\n",
              "      padding: 0 0 0 0;\n",
              "      width: 32px;\n",
              "    }\n",
              "\n",
              "    .colab-df-convert:hover {\n",
              "      background-color: #E2EBFA;\n",
              "      box-shadow: 0px 1px 2px rgba(60, 64, 67, 0.3), 0px 1px 3px 1px rgba(60, 64, 67, 0.15);\n",
              "      fill: #174EA6;\n",
              "    }\n",
              "\n",
              "    .colab-df-buttons div {\n",
              "      margin-bottom: 4px;\n",
              "    }\n",
              "\n",
              "    [theme=dark] .colab-df-convert {\n",
              "      background-color: #3B4455;\n",
              "      fill: #D2E3FC;\n",
              "    }\n",
              "\n",
              "    [theme=dark] .colab-df-convert:hover {\n",
              "      background-color: #434B5C;\n",
              "      box-shadow: 0px 1px 3px 1px rgba(0, 0, 0, 0.15);\n",
              "      filter: drop-shadow(0px 1px 2px rgba(0, 0, 0, 0.3));\n",
              "      fill: #FFFFFF;\n",
              "    }\n",
              "  </style>\n",
              "\n",
              "    <script>\n",
              "      const buttonEl =\n",
              "        document.querySelector('#df-125f8ffa-354b-4193-9a43-3309a4a0282b button.colab-df-convert');\n",
              "      buttonEl.style.display =\n",
              "        google.colab.kernel.accessAllowed ? 'block' : 'none';\n",
              "\n",
              "      async function convertToInteractive(key) {\n",
              "        const element = document.querySelector('#df-125f8ffa-354b-4193-9a43-3309a4a0282b');\n",
              "        const dataTable =\n",
              "          await google.colab.kernel.invokeFunction('convertToInteractive',\n",
              "                                                    [key], {});\n",
              "        if (!dataTable) return;\n",
              "\n",
              "        const docLinkHtml = 'Like what you see? Visit the ' +\n",
              "          '<a target=\"_blank\" href=https://colab.research.google.com/notebooks/data_table.ipynb>data table notebook</a>'\n",
              "          + ' to learn more about interactive tables.';\n",
              "        element.innerHTML = '';\n",
              "        dataTable['output_type'] = 'display_data';\n",
              "        await google.colab.output.renderOutput(dataTable, element);\n",
              "        const docLink = document.createElement('div');\n",
              "        docLink.innerHTML = docLinkHtml;\n",
              "        element.appendChild(docLink);\n",
              "      }\n",
              "    </script>\n",
              "  </div>\n",
              "\n",
              "\n",
              "<div id=\"df-d23b7563-32cb-49fb-9f6a-3ffe8f07cb90\">\n",
              "  <button class=\"colab-df-quickchart\" onclick=\"quickchart('df-d23b7563-32cb-49fb-9f6a-3ffe8f07cb90')\"\n",
              "            title=\"Suggest charts\"\n",
              "            style=\"display:none;\">\n",
              "\n",
              "<svg xmlns=\"http://www.w3.org/2000/svg\" height=\"24px\"viewBox=\"0 0 24 24\"\n",
              "     width=\"24px\">\n",
              "    <g>\n",
              "        <path d=\"M19 3H5c-1.1 0-2 .9-2 2v14c0 1.1.9 2 2 2h14c1.1 0 2-.9 2-2V5c0-1.1-.9-2-2-2zM9 17H7v-7h2v7zm4 0h-2V7h2v10zm4 0h-2v-4h2v4z\"/>\n",
              "    </g>\n",
              "</svg>\n",
              "  </button>\n",
              "\n",
              "<style>\n",
              "  .colab-df-quickchart {\n",
              "      --bg-color: #E8F0FE;\n",
              "      --fill-color: #1967D2;\n",
              "      --hover-bg-color: #E2EBFA;\n",
              "      --hover-fill-color: #174EA6;\n",
              "      --disabled-fill-color: #AAA;\n",
              "      --disabled-bg-color: #DDD;\n",
              "  }\n",
              "\n",
              "  [theme=dark] .colab-df-quickchart {\n",
              "      --bg-color: #3B4455;\n",
              "      --fill-color: #D2E3FC;\n",
              "      --hover-bg-color: #434B5C;\n",
              "      --hover-fill-color: #FFFFFF;\n",
              "      --disabled-bg-color: #3B4455;\n",
              "      --disabled-fill-color: #666;\n",
              "  }\n",
              "\n",
              "  .colab-df-quickchart {\n",
              "    background-color: var(--bg-color);\n",
              "    border: none;\n",
              "    border-radius: 50%;\n",
              "    cursor: pointer;\n",
              "    display: none;\n",
              "    fill: var(--fill-color);\n",
              "    height: 32px;\n",
              "    padding: 0;\n",
              "    width: 32px;\n",
              "  }\n",
              "\n",
              "  .colab-df-quickchart:hover {\n",
              "    background-color: var(--hover-bg-color);\n",
              "    box-shadow: 0 1px 2px rgba(60, 64, 67, 0.3), 0 1px 3px 1px rgba(60, 64, 67, 0.15);\n",
              "    fill: var(--button-hover-fill-color);\n",
              "  }\n",
              "\n",
              "  .colab-df-quickchart-complete:disabled,\n",
              "  .colab-df-quickchart-complete:disabled:hover {\n",
              "    background-color: var(--disabled-bg-color);\n",
              "    fill: var(--disabled-fill-color);\n",
              "    box-shadow: none;\n",
              "  }\n",
              "\n",
              "  .colab-df-spinner {\n",
              "    border: 2px solid var(--fill-color);\n",
              "    border-color: transparent;\n",
              "    border-bottom-color: var(--fill-color);\n",
              "    animation:\n",
              "      spin 1s steps(1) infinite;\n",
              "  }\n",
              "\n",
              "  @keyframes spin {\n",
              "    0% {\n",
              "      border-color: transparent;\n",
              "      border-bottom-color: var(--fill-color);\n",
              "      border-left-color: var(--fill-color);\n",
              "    }\n",
              "    20% {\n",
              "      border-color: transparent;\n",
              "      border-left-color: var(--fill-color);\n",
              "      border-top-color: var(--fill-color);\n",
              "    }\n",
              "    30% {\n",
              "      border-color: transparent;\n",
              "      border-left-color: var(--fill-color);\n",
              "      border-top-color: var(--fill-color);\n",
              "      border-right-color: var(--fill-color);\n",
              "    }\n",
              "    40% {\n",
              "      border-color: transparent;\n",
              "      border-right-color: var(--fill-color);\n",
              "      border-top-color: var(--fill-color);\n",
              "    }\n",
              "    60% {\n",
              "      border-color: transparent;\n",
              "      border-right-color: var(--fill-color);\n",
              "    }\n",
              "    80% {\n",
              "      border-color: transparent;\n",
              "      border-right-color: var(--fill-color);\n",
              "      border-bottom-color: var(--fill-color);\n",
              "    }\n",
              "    90% {\n",
              "      border-color: transparent;\n",
              "      border-bottom-color: var(--fill-color);\n",
              "    }\n",
              "  }\n",
              "</style>\n",
              "\n",
              "  <script>\n",
              "    async function quickchart(key) {\n",
              "      const quickchartButtonEl =\n",
              "        document.querySelector('#' + key + ' button');\n",
              "      quickchartButtonEl.disabled = true;  // To prevent multiple clicks.\n",
              "      quickchartButtonEl.classList.add('colab-df-spinner');\n",
              "      try {\n",
              "        const charts = await google.colab.kernel.invokeFunction(\n",
              "            'suggestCharts', [key], {});\n",
              "      } catch (error) {\n",
              "        console.error('Error during call to suggestCharts:', error);\n",
              "      }\n",
              "      quickchartButtonEl.classList.remove('colab-df-spinner');\n",
              "      quickchartButtonEl.classList.add('colab-df-quickchart-complete');\n",
              "    }\n",
              "    (() => {\n",
              "      let quickchartButtonEl =\n",
              "        document.querySelector('#df-d23b7563-32cb-49fb-9f6a-3ffe8f07cb90 button');\n",
              "      quickchartButtonEl.style.display =\n",
              "        google.colab.kernel.accessAllowed ? 'block' : 'none';\n",
              "    })();\n",
              "  </script>\n",
              "</div>\n",
              "\n",
              "    </div>\n",
              "  </div>\n"
            ],
            "application/vnd.google.colaboratory.intrinsic+json": {
              "type": "dataframe",
              "variable_name": "df"
            }
          },
          "metadata": {},
          "execution_count": 7
        }
      ]
    },
    {
      "cell_type": "code",
      "source": [
        "df[\"Target\"] = digits.target"
      ],
      "metadata": {
        "id": "X_Ibxh3bmivi"
      },
      "execution_count": 8,
      "outputs": []
    },
    {
      "cell_type": "code",
      "source": [
        "df[\"Target\"].unique()"
      ],
      "metadata": {
        "colab": {
          "base_uri": "https://localhost:8080/"
        },
        "id": "OaIrQlRLx0uF",
        "outputId": "d1dc87a1-68f7-457f-c210-f1e9d2e4182e"
      },
      "execution_count": 9,
      "outputs": [
        {
          "output_type": "execute_result",
          "data": {
            "text/plain": [
              "array([0, 1, 2, 3, 4, 5, 6, 7, 8, 9])"
            ]
          },
          "metadata": {},
          "execution_count": 9
        }
      ]
    },
    {
      "cell_type": "code",
      "source": [
        "df.head()"
      ],
      "metadata": {
        "colab": {
          "base_uri": "https://localhost:8080/",
          "height": 255
        },
        "id": "551Duheqmn9C",
        "outputId": "6ad790c9-3313-47d6-9c43-25ca50bac29d"
      },
      "execution_count": 10,
      "outputs": [
        {
          "output_type": "execute_result",
          "data": {
            "text/plain": [
              "   pixel_0_0  pixel_0_1  pixel_0_2  pixel_0_3  pixel_0_4  pixel_0_5  \\\n",
              "0        0.0        0.0        5.0       13.0        9.0        1.0   \n",
              "1        0.0        0.0        0.0       12.0       13.0        5.0   \n",
              "2        0.0        0.0        0.0        4.0       15.0       12.0   \n",
              "3        0.0        0.0        7.0       15.0       13.0        1.0   \n",
              "4        0.0        0.0        0.0        1.0       11.0        0.0   \n",
              "\n",
              "   pixel_0_6  pixel_0_7  pixel_1_0  pixel_1_1  ...  pixel_6_7  pixel_7_0  \\\n",
              "0        0.0        0.0        0.0        0.0  ...        0.0        0.0   \n",
              "1        0.0        0.0        0.0        0.0  ...        0.0        0.0   \n",
              "2        0.0        0.0        0.0        0.0  ...        0.0        0.0   \n",
              "3        0.0        0.0        0.0        8.0  ...        0.0        0.0   \n",
              "4        0.0        0.0        0.0        0.0  ...        0.0        0.0   \n",
              "\n",
              "   pixel_7_1  pixel_7_2  pixel_7_3  pixel_7_4  pixel_7_5  pixel_7_6  \\\n",
              "0        0.0        6.0       13.0       10.0        0.0        0.0   \n",
              "1        0.0        0.0       11.0       16.0       10.0        0.0   \n",
              "2        0.0        0.0        3.0       11.0       16.0        9.0   \n",
              "3        0.0        7.0       13.0       13.0        9.0        0.0   \n",
              "4        0.0        0.0        2.0       16.0        4.0        0.0   \n",
              "\n",
              "   pixel_7_7  Target  \n",
              "0        0.0       0  \n",
              "1        0.0       1  \n",
              "2        0.0       2  \n",
              "3        0.0       3  \n",
              "4        0.0       4  \n",
              "\n",
              "[5 rows x 65 columns]"
            ],
            "text/html": [
              "\n",
              "  <div id=\"df-04ce25d0-ca1d-40d9-9a45-b59f913733b1\" class=\"colab-df-container\">\n",
              "    <div>\n",
              "<style scoped>\n",
              "    .dataframe tbody tr th:only-of-type {\n",
              "        vertical-align: middle;\n",
              "    }\n",
              "\n",
              "    .dataframe tbody tr th {\n",
              "        vertical-align: top;\n",
              "    }\n",
              "\n",
              "    .dataframe thead th {\n",
              "        text-align: right;\n",
              "    }\n",
              "</style>\n",
              "<table border=\"1\" class=\"dataframe\">\n",
              "  <thead>\n",
              "    <tr style=\"text-align: right;\">\n",
              "      <th></th>\n",
              "      <th>pixel_0_0</th>\n",
              "      <th>pixel_0_1</th>\n",
              "      <th>pixel_0_2</th>\n",
              "      <th>pixel_0_3</th>\n",
              "      <th>pixel_0_4</th>\n",
              "      <th>pixel_0_5</th>\n",
              "      <th>pixel_0_6</th>\n",
              "      <th>pixel_0_7</th>\n",
              "      <th>pixel_1_0</th>\n",
              "      <th>pixel_1_1</th>\n",
              "      <th>...</th>\n",
              "      <th>pixel_6_7</th>\n",
              "      <th>pixel_7_0</th>\n",
              "      <th>pixel_7_1</th>\n",
              "      <th>pixel_7_2</th>\n",
              "      <th>pixel_7_3</th>\n",
              "      <th>pixel_7_4</th>\n",
              "      <th>pixel_7_5</th>\n",
              "      <th>pixel_7_6</th>\n",
              "      <th>pixel_7_7</th>\n",
              "      <th>Target</th>\n",
              "    </tr>\n",
              "  </thead>\n",
              "  <tbody>\n",
              "    <tr>\n",
              "      <th>0</th>\n",
              "      <td>0.0</td>\n",
              "      <td>0.0</td>\n",
              "      <td>5.0</td>\n",
              "      <td>13.0</td>\n",
              "      <td>9.0</td>\n",
              "      <td>1.0</td>\n",
              "      <td>0.0</td>\n",
              "      <td>0.0</td>\n",
              "      <td>0.0</td>\n",
              "      <td>0.0</td>\n",
              "      <td>...</td>\n",
              "      <td>0.0</td>\n",
              "      <td>0.0</td>\n",
              "      <td>0.0</td>\n",
              "      <td>6.0</td>\n",
              "      <td>13.0</td>\n",
              "      <td>10.0</td>\n",
              "      <td>0.0</td>\n",
              "      <td>0.0</td>\n",
              "      <td>0.0</td>\n",
              "      <td>0</td>\n",
              "    </tr>\n",
              "    <tr>\n",
              "      <th>1</th>\n",
              "      <td>0.0</td>\n",
              "      <td>0.0</td>\n",
              "      <td>0.0</td>\n",
              "      <td>12.0</td>\n",
              "      <td>13.0</td>\n",
              "      <td>5.0</td>\n",
              "      <td>0.0</td>\n",
              "      <td>0.0</td>\n",
              "      <td>0.0</td>\n",
              "      <td>0.0</td>\n",
              "      <td>...</td>\n",
              "      <td>0.0</td>\n",
              "      <td>0.0</td>\n",
              "      <td>0.0</td>\n",
              "      <td>0.0</td>\n",
              "      <td>11.0</td>\n",
              "      <td>16.0</td>\n",
              "      <td>10.0</td>\n",
              "      <td>0.0</td>\n",
              "      <td>0.0</td>\n",
              "      <td>1</td>\n",
              "    </tr>\n",
              "    <tr>\n",
              "      <th>2</th>\n",
              "      <td>0.0</td>\n",
              "      <td>0.0</td>\n",
              "      <td>0.0</td>\n",
              "      <td>4.0</td>\n",
              "      <td>15.0</td>\n",
              "      <td>12.0</td>\n",
              "      <td>0.0</td>\n",
              "      <td>0.0</td>\n",
              "      <td>0.0</td>\n",
              "      <td>0.0</td>\n",
              "      <td>...</td>\n",
              "      <td>0.0</td>\n",
              "      <td>0.0</td>\n",
              "      <td>0.0</td>\n",
              "      <td>0.0</td>\n",
              "      <td>3.0</td>\n",
              "      <td>11.0</td>\n",
              "      <td>16.0</td>\n",
              "      <td>9.0</td>\n",
              "      <td>0.0</td>\n",
              "      <td>2</td>\n",
              "    </tr>\n",
              "    <tr>\n",
              "      <th>3</th>\n",
              "      <td>0.0</td>\n",
              "      <td>0.0</td>\n",
              "      <td>7.0</td>\n",
              "      <td>15.0</td>\n",
              "      <td>13.0</td>\n",
              "      <td>1.0</td>\n",
              "      <td>0.0</td>\n",
              "      <td>0.0</td>\n",
              "      <td>0.0</td>\n",
              "      <td>8.0</td>\n",
              "      <td>...</td>\n",
              "      <td>0.0</td>\n",
              "      <td>0.0</td>\n",
              "      <td>0.0</td>\n",
              "      <td>7.0</td>\n",
              "      <td>13.0</td>\n",
              "      <td>13.0</td>\n",
              "      <td>9.0</td>\n",
              "      <td>0.0</td>\n",
              "      <td>0.0</td>\n",
              "      <td>3</td>\n",
              "    </tr>\n",
              "    <tr>\n",
              "      <th>4</th>\n",
              "      <td>0.0</td>\n",
              "      <td>0.0</td>\n",
              "      <td>0.0</td>\n",
              "      <td>1.0</td>\n",
              "      <td>11.0</td>\n",
              "      <td>0.0</td>\n",
              "      <td>0.0</td>\n",
              "      <td>0.0</td>\n",
              "      <td>0.0</td>\n",
              "      <td>0.0</td>\n",
              "      <td>...</td>\n",
              "      <td>0.0</td>\n",
              "      <td>0.0</td>\n",
              "      <td>0.0</td>\n",
              "      <td>0.0</td>\n",
              "      <td>2.0</td>\n",
              "      <td>16.0</td>\n",
              "      <td>4.0</td>\n",
              "      <td>0.0</td>\n",
              "      <td>0.0</td>\n",
              "      <td>4</td>\n",
              "    </tr>\n",
              "  </tbody>\n",
              "</table>\n",
              "<p>5 rows × 65 columns</p>\n",
              "</div>\n",
              "    <div class=\"colab-df-buttons\">\n",
              "\n",
              "  <div class=\"colab-df-container\">\n",
              "    <button class=\"colab-df-convert\" onclick=\"convertToInteractive('df-04ce25d0-ca1d-40d9-9a45-b59f913733b1')\"\n",
              "            title=\"Convert this dataframe to an interactive table.\"\n",
              "            style=\"display:none;\">\n",
              "\n",
              "  <svg xmlns=\"http://www.w3.org/2000/svg\" height=\"24px\" viewBox=\"0 -960 960 960\">\n",
              "    <path d=\"M120-120v-720h720v720H120Zm60-500h600v-160H180v160Zm220 220h160v-160H400v160Zm0 220h160v-160H400v160ZM180-400h160v-160H180v160Zm440 0h160v-160H620v160ZM180-180h160v-160H180v160Zm440 0h160v-160H620v160Z\"/>\n",
              "  </svg>\n",
              "    </button>\n",
              "\n",
              "  <style>\n",
              "    .colab-df-container {\n",
              "      display:flex;\n",
              "      gap: 12px;\n",
              "    }\n",
              "\n",
              "    .colab-df-convert {\n",
              "      background-color: #E8F0FE;\n",
              "      border: none;\n",
              "      border-radius: 50%;\n",
              "      cursor: pointer;\n",
              "      display: none;\n",
              "      fill: #1967D2;\n",
              "      height: 32px;\n",
              "      padding: 0 0 0 0;\n",
              "      width: 32px;\n",
              "    }\n",
              "\n",
              "    .colab-df-convert:hover {\n",
              "      background-color: #E2EBFA;\n",
              "      box-shadow: 0px 1px 2px rgba(60, 64, 67, 0.3), 0px 1px 3px 1px rgba(60, 64, 67, 0.15);\n",
              "      fill: #174EA6;\n",
              "    }\n",
              "\n",
              "    .colab-df-buttons div {\n",
              "      margin-bottom: 4px;\n",
              "    }\n",
              "\n",
              "    [theme=dark] .colab-df-convert {\n",
              "      background-color: #3B4455;\n",
              "      fill: #D2E3FC;\n",
              "    }\n",
              "\n",
              "    [theme=dark] .colab-df-convert:hover {\n",
              "      background-color: #434B5C;\n",
              "      box-shadow: 0px 1px 3px 1px rgba(0, 0, 0, 0.15);\n",
              "      filter: drop-shadow(0px 1px 2px rgba(0, 0, 0, 0.3));\n",
              "      fill: #FFFFFF;\n",
              "    }\n",
              "  </style>\n",
              "\n",
              "    <script>\n",
              "      const buttonEl =\n",
              "        document.querySelector('#df-04ce25d0-ca1d-40d9-9a45-b59f913733b1 button.colab-df-convert');\n",
              "      buttonEl.style.display =\n",
              "        google.colab.kernel.accessAllowed ? 'block' : 'none';\n",
              "\n",
              "      async function convertToInteractive(key) {\n",
              "        const element = document.querySelector('#df-04ce25d0-ca1d-40d9-9a45-b59f913733b1');\n",
              "        const dataTable =\n",
              "          await google.colab.kernel.invokeFunction('convertToInteractive',\n",
              "                                                    [key], {});\n",
              "        if (!dataTable) return;\n",
              "\n",
              "        const docLinkHtml = 'Like what you see? Visit the ' +\n",
              "          '<a target=\"_blank\" href=https://colab.research.google.com/notebooks/data_table.ipynb>data table notebook</a>'\n",
              "          + ' to learn more about interactive tables.';\n",
              "        element.innerHTML = '';\n",
              "        dataTable['output_type'] = 'display_data';\n",
              "        await google.colab.output.renderOutput(dataTable, element);\n",
              "        const docLink = document.createElement('div');\n",
              "        docLink.innerHTML = docLinkHtml;\n",
              "        element.appendChild(docLink);\n",
              "      }\n",
              "    </script>\n",
              "  </div>\n",
              "\n",
              "\n",
              "<div id=\"df-170bef0f-7c30-4b7d-b613-024723709cbc\">\n",
              "  <button class=\"colab-df-quickchart\" onclick=\"quickchart('df-170bef0f-7c30-4b7d-b613-024723709cbc')\"\n",
              "            title=\"Suggest charts\"\n",
              "            style=\"display:none;\">\n",
              "\n",
              "<svg xmlns=\"http://www.w3.org/2000/svg\" height=\"24px\"viewBox=\"0 0 24 24\"\n",
              "     width=\"24px\">\n",
              "    <g>\n",
              "        <path d=\"M19 3H5c-1.1 0-2 .9-2 2v14c0 1.1.9 2 2 2h14c1.1 0 2-.9 2-2V5c0-1.1-.9-2-2-2zM9 17H7v-7h2v7zm4 0h-2V7h2v10zm4 0h-2v-4h2v4z\"/>\n",
              "    </g>\n",
              "</svg>\n",
              "  </button>\n",
              "\n",
              "<style>\n",
              "  .colab-df-quickchart {\n",
              "      --bg-color: #E8F0FE;\n",
              "      --fill-color: #1967D2;\n",
              "      --hover-bg-color: #E2EBFA;\n",
              "      --hover-fill-color: #174EA6;\n",
              "      --disabled-fill-color: #AAA;\n",
              "      --disabled-bg-color: #DDD;\n",
              "  }\n",
              "\n",
              "  [theme=dark] .colab-df-quickchart {\n",
              "      --bg-color: #3B4455;\n",
              "      --fill-color: #D2E3FC;\n",
              "      --hover-bg-color: #434B5C;\n",
              "      --hover-fill-color: #FFFFFF;\n",
              "      --disabled-bg-color: #3B4455;\n",
              "      --disabled-fill-color: #666;\n",
              "  }\n",
              "\n",
              "  .colab-df-quickchart {\n",
              "    background-color: var(--bg-color);\n",
              "    border: none;\n",
              "    border-radius: 50%;\n",
              "    cursor: pointer;\n",
              "    display: none;\n",
              "    fill: var(--fill-color);\n",
              "    height: 32px;\n",
              "    padding: 0;\n",
              "    width: 32px;\n",
              "  }\n",
              "\n",
              "  .colab-df-quickchart:hover {\n",
              "    background-color: var(--hover-bg-color);\n",
              "    box-shadow: 0 1px 2px rgba(60, 64, 67, 0.3), 0 1px 3px 1px rgba(60, 64, 67, 0.15);\n",
              "    fill: var(--button-hover-fill-color);\n",
              "  }\n",
              "\n",
              "  .colab-df-quickchart-complete:disabled,\n",
              "  .colab-df-quickchart-complete:disabled:hover {\n",
              "    background-color: var(--disabled-bg-color);\n",
              "    fill: var(--disabled-fill-color);\n",
              "    box-shadow: none;\n",
              "  }\n",
              "\n",
              "  .colab-df-spinner {\n",
              "    border: 2px solid var(--fill-color);\n",
              "    border-color: transparent;\n",
              "    border-bottom-color: var(--fill-color);\n",
              "    animation:\n",
              "      spin 1s steps(1) infinite;\n",
              "  }\n",
              "\n",
              "  @keyframes spin {\n",
              "    0% {\n",
              "      border-color: transparent;\n",
              "      border-bottom-color: var(--fill-color);\n",
              "      border-left-color: var(--fill-color);\n",
              "    }\n",
              "    20% {\n",
              "      border-color: transparent;\n",
              "      border-left-color: var(--fill-color);\n",
              "      border-top-color: var(--fill-color);\n",
              "    }\n",
              "    30% {\n",
              "      border-color: transparent;\n",
              "      border-left-color: var(--fill-color);\n",
              "      border-top-color: var(--fill-color);\n",
              "      border-right-color: var(--fill-color);\n",
              "    }\n",
              "    40% {\n",
              "      border-color: transparent;\n",
              "      border-right-color: var(--fill-color);\n",
              "      border-top-color: var(--fill-color);\n",
              "    }\n",
              "    60% {\n",
              "      border-color: transparent;\n",
              "      border-right-color: var(--fill-color);\n",
              "    }\n",
              "    80% {\n",
              "      border-color: transparent;\n",
              "      border-right-color: var(--fill-color);\n",
              "      border-bottom-color: var(--fill-color);\n",
              "    }\n",
              "    90% {\n",
              "      border-color: transparent;\n",
              "      border-bottom-color: var(--fill-color);\n",
              "    }\n",
              "  }\n",
              "</style>\n",
              "\n",
              "  <script>\n",
              "    async function quickchart(key) {\n",
              "      const quickchartButtonEl =\n",
              "        document.querySelector('#' + key + ' button');\n",
              "      quickchartButtonEl.disabled = true;  // To prevent multiple clicks.\n",
              "      quickchartButtonEl.classList.add('colab-df-spinner');\n",
              "      try {\n",
              "        const charts = await google.colab.kernel.invokeFunction(\n",
              "            'suggestCharts', [key], {});\n",
              "      } catch (error) {\n",
              "        console.error('Error during call to suggestCharts:', error);\n",
              "      }\n",
              "      quickchartButtonEl.classList.remove('colab-df-spinner');\n",
              "      quickchartButtonEl.classList.add('colab-df-quickchart-complete');\n",
              "    }\n",
              "    (() => {\n",
              "      let quickchartButtonEl =\n",
              "        document.querySelector('#df-170bef0f-7c30-4b7d-b613-024723709cbc button');\n",
              "      quickchartButtonEl.style.display =\n",
              "        google.colab.kernel.accessAllowed ? 'block' : 'none';\n",
              "    })();\n",
              "  </script>\n",
              "</div>\n",
              "\n",
              "    </div>\n",
              "  </div>\n"
            ],
            "application/vnd.google.colaboratory.intrinsic+json": {
              "type": "dataframe",
              "variable_name": "df"
            }
          },
          "metadata": {},
          "execution_count": 10
        }
      ]
    },
    {
      "cell_type": "code",
      "source": [
        "plt.gray()\n",
        "plt.matshow(digits.data[4].reshape(8, 8))\n",
        "plt.show()"
      ],
      "metadata": {
        "colab": {
          "base_uri": "https://localhost:8080/",
          "height": 454
        },
        "id": "8ckzN8lWj7sC",
        "outputId": "d19521eb-a2c6-466c-f3d7-61b25208917b"
      },
      "execution_count": 11,
      "outputs": [
        {
          "output_type": "display_data",
          "data": {
            "text/plain": [
              "<Figure size 640x480 with 0 Axes>"
            ]
          },
          "metadata": {}
        },
        {
          "output_type": "display_data",
          "data": {
            "text/plain": [
              "<Figure size 480x480 with 1 Axes>"
            ],
            "image/png": "[encoded data removed]"
          },
          "metadata": {}
        }
      ]
    },
    {
      "cell_type": "markdown",
      "source": [
        "<hr>\n",
        "\n",
        "**Let's split this data into features**"
      ],
      "metadata": {
        "id": "cDYvyYiRlXEk"
      }
    },
    {
      "cell_type": "code",
      "source": [
        "# Independent Features\n",
        "X = digits.data\n",
        "\n",
        "# Dependent Features\n",
        "Y = digits.target"
      ],
      "metadata": {
        "id": "SDDdO0vEkHWY"
      },
      "execution_count": 12,
      "outputs": []
    },
    {
      "cell_type": "code",
      "source": [
        "# Independent Columns\n",
        "x_Df = df.drop(\"Target\", axis = 1)\n",
        "\n",
        "# Dependent\n",
        "y_Df = df[\"Target\"]"
      ],
      "metadata": {
        "id": "J_OqEPPJmsh_"
      },
      "execution_count": 13,
      "outputs": []
    },
    {
      "cell_type": "markdown",
      "source": [
        "<hr>\n",
        "\n",
        "**Training and testing data**"
      ],
      "metadata": {
        "id": "vQpWu5YTlkX6"
      }
    },
    {
      "cell_type": "code",
      "source": [
        "x_train, x_test, y_train, y_test = train_test_split(X, Y, test_size = 0.25, random_state = 42)"
      ],
      "metadata": {
        "id": "1Bzdh2LWlvA0"
      },
      "execution_count": 14,
      "outputs": []
    },
    {
      "cell_type": "markdown",
      "source": [
        "<hr>\n",
        "\n",
        "**Standardize the data**"
      ],
      "metadata": {
        "id": "UyHY6OehpBkS"
      }
    },
    {
      "cell_type": "code",
      "source": [
        "# OBject to the scaled\n",
        "scaler = StandardScaler()"
      ],
      "metadata": {
        "id": "yoWoFhs3nXR3"
      },
      "execution_count": 15,
      "outputs": []
    },
    {
      "cell_type": "code",
      "source": [
        "# We can pass our data\n",
        "x_train = scaler.fit_transform(x_train)"
      ],
      "metadata": {
        "id": "iOVyOYYcpQSW"
      },
      "execution_count": 16,
      "outputs": []
    },
    {
      "cell_type": "code",
      "source": [
        "# Now let change the test data\n",
        "x_test = scaler.transform(x_test)"
      ],
      "metadata": {
        "id": "UUtSMFBepXg8"
      },
      "execution_count": 17,
      "outputs": []
    },
    {
      "cell_type": "markdown",
      "source": [
        "<hr>\n",
        "\n",
        "#**Linear Discriminant Analysis**\n",
        "\n",
        "  **Inorder to find the number of components required for LDA, we can use a simple formula that is `n-1`**\n",
        "\n",
        "  **Just assume there are n persons, so how many lines we would need to distinguish between the given n persons**\n",
        "\n",
        "  **If incase, you are having less number of features as compared to your classes, you need to use `min(no of features, no_of_classes - 1)`**"
      ],
      "metadata": {
        "id": "KaymSbhkrcuk"
      }
    },
    {
      "cell_type": "code",
      "source": [
        "# if we having 19 classses and there are only 8 features\n",
        "min(8, 19-1)"
      ],
      "metadata": {
        "colab": {
          "base_uri": "https://localhost:8080/"
        },
        "id": "i72S6H5upm-B",
        "outputId": "6c1298f3-1031-4d9c-e835-aab22d57813a"
      },
      "execution_count": 18,
      "outputs": [
        {
          "output_type": "execute_result",
          "data": {
            "text/plain": [
              "8"
            ]
          },
          "metadata": {},
          "execution_count": 18
        }
      ]
    },
    {
      "cell_type": "markdown",
      "source": [
        "**In this data, we are having 64 features, and number of classes are 10**\n",
        "  * **So, in this case we would use (n-1) = 9**"
      ],
      "metadata": {
        "id": "dLzi7N3-xBhI"
      }
    },
    {
      "cell_type": "code",
      "source": [
        "# Object to LDA\n",
        "LDA = LinearDiscriminantAnalysis(n_components = 9)"
      ],
      "metadata": {
        "id": "Ciihp0iEw7pX"
      },
      "execution_count": 19,
      "outputs": []
    },
    {
      "cell_type": "code",
      "source": [
        "x_train = LDA.fit_transform(x_train, y_train)"
      ],
      "metadata": {
        "id": "zQogxut1xnA5"
      },
      "execution_count": 20,
      "outputs": []
    },
    {
      "cell_type": "code",
      "source": [
        "x_test = LDA.transform(x_test)"
      ],
      "metadata": {
        "id": "w6UtTxKLyQb-"
      },
      "execution_count": 21,
      "outputs": []
    },
    {
      "cell_type": "markdown",
      "source": [
        "<hr>\n",
        "\n",
        "**LDA Coefficients**"
      ],
      "metadata": {
        "id": "LHKolExcyXbU"
      }
    },
    {
      "cell_type": "code",
      "source": [
        "# New shape of x_train\n",
        "x_train.shape"
      ],
      "metadata": {
        "colab": {
          "base_uri": "https://localhost:8080/"
        },
        "id": "bc12XL7syVjH",
        "outputId": "3b4fd209-3adf-4533-f680-676acf8d336c"
      },
      "execution_count": 22,
      "outputs": [
        {
          "output_type": "execute_result",
          "data": {
            "text/plain": [
              "(1347, 9)"
            ]
          },
          "metadata": {},
          "execution_count": 22
        }
      ]
    },
    {
      "cell_type": "code",
      "source": [
        "sum(LDA.explained_variance_ratio_)"
      ],
      "metadata": {
        "colab": {
          "base_uri": "https://localhost:8080/"
        },
        "id": "_ec8D4bhyd3R",
        "outputId": "69ce83d5-04c1-4120-c830-7ac6c8d49ca9"
      },
      "execution_count": 24,
      "outputs": [
        {
          "output_type": "execute_result",
          "data": {
            "text/plain": [
              "1.0"
            ]
          },
          "metadata": {},
          "execution_count": 24
        }
      ]
    },
    {
      "cell_type": "markdown",
      "source": [
        "<hr>\n",
        "\n",
        "# **Model Building**"
      ],
      "metadata": {
        "id": "qAl_C4UpyzvM"
      }
    },
    {
      "cell_type": "code",
      "source": [
        "x_train.shape, x_test.shape"
      ],
      "metadata": {
        "colab": {
          "base_uri": "https://localhost:8080/"
        },
        "id": "-k5id_4y0Dny",
        "outputId": "0def2cfd-eae5-44cc-9ed0-1151a7c17cdb"
      },
      "execution_count": 27,
      "outputs": [
        {
          "output_type": "execute_result",
          "data": {
            "text/plain": [
              "((1347, 9), (450, 9))"
            ]
          },
          "metadata": {},
          "execution_count": 27
        }
      ]
    },
    {
      "cell_type": "code",
      "source": [
        "model = RandomForestClassifier()"
      ],
      "metadata": {
        "id": "hr3a9N3dyjTS"
      },
      "execution_count": 26,
      "outputs": []
    },
    {
      "cell_type": "code",
      "source": [
        "model.fit(x_train, y_train)"
      ],
      "metadata": {
        "colab": {
          "base_uri": "https://localhost:8080/",
          "height": 74
        },
        "id": "O8NefqD5zS56",
        "outputId": "efee9698-d7cd-43e6-e3b3-f89fc8626573"
      },
      "execution_count": 28,
      "outputs": [
        {
          "output_type": "execute_result",
          "data": {
            "text/plain": [
              "RandomForestClassifier()"
            ],
            "text/html": [
              "<style>#sk-container-id-1 {color: black;background-color: white;}#sk-container-id-1 pre{padding: 0;}#sk-container-id-1 div.sk-toggleable {background-color: white;}#sk-container-id-1 label.sk-toggleable__label {cursor: pointer;display: block;width: 100%;margin-bottom: 0;padding: 0.3em;box-sizing: border-box;text-align: center;}#sk-container-id-1 label.sk-toggleable__label-arrow:before {content: \"▸\";float: left;margin-right: 0.25em;color: #696969;}#sk-container-id-1 label.sk-toggleable__label-arrow:hover:before {color: black;}#sk-container-id-1 div.sk-estimator:hover label.sk-toggleable__label-arrow:before {color: black;}#sk-container-id-1 div.sk-toggleable__content {max-height: 0;max-width: 0;overflow: hidden;text-align: left;background-color: #f0f8ff;}#sk-container-id-1 div.sk-toggleable__content pre {margin: 0.2em;color: black;border-radius: 0.25em;background-color: #f0f8ff;}#sk-container-id-1 input.sk-toggleable__control:checked~div.sk-toggleable__content {max-height: 200px;max-width: 100%;overflow: auto;}#sk-container-id-1 input.sk-toggleable__control:checked~label.sk-toggleable__label-arrow:before {content: \"▾\";}#sk-container-id-1 div.sk-estimator input.sk-toggleable__control:checked~label.sk-toggleable__label {background-color: #d4ebff;}#sk-container-id-1 div.sk-label input.sk-toggleable__control:checked~label.sk-toggleable__label {background-color: #d4ebff;}#sk-container-id-1 input.sk-hidden--visually {border: 0;clip: rect(1px 1px 1px 1px);clip: rect(1px, 1px, 1px, 1px);height: 1px;margin: -1px;overflow: hidden;padding: 0;position: absolute;width: 1px;}#sk-container-id-1 div.sk-estimator {font-family: monospace;background-color: #f0f8ff;border: 1px dotted black;border-radius: 0.25em;box-sizing: border-box;margin-bottom: 0.5em;}#sk-container-id-1 div.sk-estimator:hover {background-color: #d4ebff;}#sk-container-id-1 div.sk-parallel-item::after {content: \"\";width: 100%;border-bottom: 1px solid gray;flex-grow: 1;}#sk-container-id-1 div.sk-label:hover label.sk-toggleable__label {background-color: #d4ebff;}#sk-container-id-1 div.sk-serial::before {content: \"\";position: absolute;border-left: 1px solid gray;box-sizing: border-box;top: 0;bottom: 0;left: 50%;z-index: 0;}#sk-container-id-1 div.sk-serial {display: flex;flex-direction: column;align-items: center;background-color: white;padding-right: 0.2em;padding-left: 0.2em;position: relative;}#sk-container-id-1 div.sk-item {position: relative;z-index: 1;}#sk-container-id-1 div.sk-parallel {display: flex;align-items: stretch;justify-content: center;background-color: white;position: relative;}#sk-container-id-1 div.sk-item::before, #sk-container-id-1 div.sk-parallel-item::before {content: \"\";position: absolute;border-left: 1px solid gray;box-sizing: border-box;top: 0;bottom: 0;left: 50%;z-index: -1;}#sk-container-id-1 div.sk-parallel-item {display: flex;flex-direction: column;z-index: 1;position: relative;background-color: white;}#sk-container-id-1 div.sk-parallel-item:first-child::after {align-self: flex-end;width: 50%;}#sk-container-id-1 div.sk-parallel-item:last-child::after {align-self: flex-start;width: 50%;}#sk-container-id-1 div.sk-parallel-item:only-child::after {width: 0;}#sk-container-id-1 div.sk-dashed-wrapped {border: 1px dashed gray;margin: 0 0.4em 0.5em 0.4em;box-sizing: border-box;padding-bottom: 0.4em;background-color: white;}#sk-container-id-1 div.sk-label label {font-family: monospace;font-weight: bold;display: inline-block;line-height: 1.2em;}#sk-container-id-1 div.sk-label-container {text-align: center;}#sk-container-id-1 div.sk-container {/* jupyter's `normalize.less` sets `[hidden] { display: none; }` but bootstrap.min.css set `[hidden] { display: none !important; }` so we also need the `!important` here to be able to override the default hidden behavior on the sphinx rendered scikit-learn.org. See: https://github.com/scikit-learn/scikit-learn/issues/21755 */display: inline-block !important;position: relative;}#sk-container-id-1 div.sk-text-repr-fallback {display: none;}</style><div id=\"sk-container-id-1\" class=\"sk-top-container\"><div class=\"sk-text-repr-fallback\"><pre>RandomForestClassifier()</pre><b>In a Jupyter environment, please rerun this cell to show the HTML representation or trust the notebook. <br />On GitHub, the HTML representation is unable to render, please try loading this page with nbviewer.org.</b></div><div class=\"sk-container\" hidden><div class=\"sk-item\"><div class=\"sk-estimator sk-toggleable\"><input class=\"sk-toggleable__control sk-hidden--visually\" id=\"sk-estimator-id-1\" type=\"checkbox\" checked><label for=\"sk-estimator-id-1\" class=\"sk-toggleable__label sk-toggleable__label-arrow\">RandomForestClassifier</label><div class=\"sk-toggleable__content\"><pre>RandomForestClassifier()</pre></div></div></div></div></div>"
            ]
          },
          "metadata": {},
          "execution_count": 28
        }
      ]
    },
    {
      "cell_type": "code",
      "source": [
        "pred = model.predict(x_test)"
      ],
      "metadata": {
        "id": "M2YBCEsu0Jin"
      },
      "execution_count": 29,
      "outputs": []
    },
    {
      "cell_type": "markdown",
      "source": [
        "<hr>\n",
        "\n",
        "**Evaluate**"
      ],
      "metadata": {
        "id": "DDHZnKW90Saw"
      }
    },
    {
      "cell_type": "code",
      "source": [
        "print(f\"Accuracy Score: {accuracy_score(y_test, pred)}\")"
      ],
      "metadata": {
        "colab": {
          "base_uri": "https://localhost:8080/"
        },
        "id": "9jZR0WnF0MCQ",
        "outputId": "e5c83336-c84b-4718-fedc-247320209ba6"
      },
      "execution_count": 31,
      "outputs": [
        {
          "output_type": "stream",
          "name": "stdout",
          "text": [
            "Accuracy Score: 0.9577777777777777\n"
          ]
        }
      ]
    },
    {
      "cell_type": "code",
      "source": [
        "print(confusion_matrix(y_test, pred))"
      ],
      "metadata": {
        "colab": {
          "base_uri": "https://localhost:8080/"
        },
        "id": "kreSeqPA0ZaT",
        "outputId": "9e66e450-030f-405f-e88c-7f086a2c01f7"
      },
      "execution_count": 32,
      "outputs": [
        {
          "output_type": "stream",
          "name": "stdout",
          "text": [
            "[[41  0  0  1  1  0  0  0  0  0]\n",
            " [ 0 34  1  0  1  0  0  0  1  0]\n",
            " [ 0  0 36  2  0  0  0  0  0  0]\n",
            " [ 0  0  1 44  0  1  0  0  0  0]\n",
            " [ 0  0  0  0 54  0  0  1  0  0]\n",
            " [ 0  0  0  1  0 58  0  0  0  0]\n",
            " [ 0  0  0  0  1  0 44  0  0  0]\n",
            " [ 0  0  0  0  0  0  0 40  0  1]\n",
            " [ 0  1  0  0  0  1  0  0 36  0]\n",
            " [ 0  0  0  1  1  0  0  0  2 44]]\n"
          ]
        }
      ]
    },
    {
      "cell_type": "code",
      "source": [
        "print(classification_report(y_test, pred))"
      ],
      "metadata": {
        "colab": {
          "base_uri": "https://localhost:8080/"
        },
        "id": "j5gQooKh0qnt",
        "outputId": "946c32af-e86f-4c12-c190-5ad279f8be15"
      },
      "execution_count": 33,
      "outputs": [
        {
          "output_type": "stream",
          "name": "stdout",
          "text": [
            "              precision    recall  f1-score   support\n",
            "\n",
            "           0       1.00      0.95      0.98        43\n",
            "           1       0.97      0.92      0.94        37\n",
            "           2       0.95      0.95      0.95        38\n",
            "           3       0.90      0.96      0.93        46\n",
            "           4       0.93      0.98      0.96        55\n",
            "           5       0.97      0.98      0.97        59\n",
            "           6       1.00      0.98      0.99        45\n",
            "           7       0.98      0.98      0.98        41\n",
            "           8       0.92      0.95      0.94        38\n",
            "           9       0.98      0.92      0.95        48\n",
            "\n",
            "    accuracy                           0.96       450\n",
            "   macro avg       0.96      0.96      0.96       450\n",
            "weighted avg       0.96      0.96      0.96       450\n",
            "\n"
          ]
        }
      ]
    },
    {
      "cell_type": "markdown",
      "source": [
        "<hr>\n",
        "\n",
        "**`Accuracy: All correct / All values`**\n",
        "\n",
        "* **Precision: `TP / (TP + TN)`**\n",
        "* **Recall / Sensitivity: `TP / (TP + FN)`**\n",
        "* **F1-Score: `(2 * Precision * Recall) / (Precision + Recall)`**\n",
        "* **Specificity: Opposite of Precision `(TN / TN + FP)`**"
      ],
      "metadata": {
        "id": "45UkrrKS2yzv"
      }
    },
    {
      "cell_type": "markdown",
      "source": [
        "<hr>\n",
        "\n",
        "**Visualize**"
      ],
      "metadata": {
        "id": "V6Og2YMN5a6_"
      }
    },
    {
      "cell_type": "code",
      "source": [
        "import plotly.express as px\n",
        "fig = px.scatter(df, x = x_train[:,8], y = y_train,\n",
        "                 labels={\n",
        "                     \"x\": \"LD1\",\n",
        "                     \"y\": \"LD2\",\n",
        "                 },\n",
        "                 opacity=1, color = y_train)\n",
        "\n",
        "\n",
        "fig.update_layout(dict(plot_bgcolor = 'white'))\n",
        "\n",
        "\n",
        "fig.update_xaxes(showgrid=True, gridwidth=1, gridcolor='lightgrey',\n",
        "                 zeroline=True, zerolinewidth=1, zerolinecolor='lightgrey',\n",
        "                 showline=True, linewidth=1, linecolor='black')\n",
        "\n",
        "fig.update_yaxes(showgrid=True, gridwidth=1, gridcolor='lightgrey',\n",
        "                 zeroline=True, zerolinewidth=1, zerolinecolor='lightgrey',\n",
        "                 showline=True, linewidth=1, linecolor='black')\n",
        "\n",
        "\n",
        "fig.update_layout(title_text=\"LDA Scatter Plot\")\n",
        "\n",
        "fig.update_traces(marker=dict(size=3))\n",
        "\n",
        "fig.show()"
      ],
      "metadata": {
        "colab": {
          "base_uri": "https://localhost:8080/",
          "height": 542
        },
        "id": "2sfvQiI40y_W",
        "outputId": "3b06c942-213c-422f-b213-32d0794a328b"
      },
      "execution_count": 35,
      "outputs": [
        {
          "output_type": "display_data",
          "data": {
            "text/html": [
              "<html>\n",
              "<head><meta charset=\"utf-8\" /></head>\n",
              "<body>\n",
              "    <div>            <script src=\"https://cdnjs.cloudflare.com/ajax/libs/mathjax/2.7.5/MathJax.js?config=TeX-AMS-MML_SVG\"></script><script type=\"text/javascript\">if (window.MathJax && window.MathJax.Hub && window.MathJax.Hub.Config) {window.MathJax.Hub.Config({SVG: {font: \"STIX-Web\"}});}</script>                <script type=\"text/javascript\">window.PlotlyConfig = {MathJaxConfig: 'local'};</script>\n",
              "        <script charset=\"utf-8\" src=\"https://cdn.plot.ly/plotly-2.24.1.min.js\"></script>                <div id=\"fb7ed75d-7ce4-4608-bc3c-945a7193ffdd\" class=\"plotly-graph-div\" style=\"height:525px; width:100%;\"></div>            <script type=\"text/javascript\">                                    window.PLOTLYENV=window.PLOTLYENV || {};                                    if (document.getElementById(\"fb7ed75d-7ce4-4608-bc3c-945a7193ffdd\")) {                    Plotly.newPlot(                        \"fb7ed75d-7ce4-4608-bc3c-945a7193ffdd\",                        [{\"hovertemplate\":\"LD1=%{x}\\u003cbr\\u003eLD2=%{y}\\u003cbr\\u003ecolor=%{marker.color}\\u003cextra\\u003e\\u003c\\u002fextra\\u003e\",\"legendgroup\":\"\",\"marker\":{\"color\":[5,2,0,8,7,3,7,0,2,2,3,5,8,7,3,6,5,9,9,2,5,6,3,0,7,1,1,9,6,1,1,0,0,2,9,3,9,9,3,7,7,1,3,5,4,6,1,2,1,1,8,7,6,9,2,0,4,4,8,8,7,1,3,1,7,1,9,5,1,7,0,0,2,2,6,9,4,1,9,0,6,7,7,9,5,4,7,0,7,6,8,7,1,4,6,2,8,7,5,9,0,3,9,6,6,1,9,8,2,9,8,9,7,4,8,5,5,9,7,7,6,8,1,3,5,7,9,5,5,2,1,1,2,2,4,8,7,5,8,8,9,4,9,0,1,1,8,9,3,4,2,9,1,7,3,3,3,1,7,6,3,0,6,5,2,3,5,7,8,0,9,5,2,2,1,4,1,8,2,4,1,6,2,0,8,1,0,6,9,7,7,8,2,3,2,6,9,5,7,1,4,8,1,2,9,3,4,8,4,0,3,5,1,8,1,5,0,3,0,2,4,1,1,0,3,9,2,6,0,4,6,6,5,4,0,3,8,6,6,4,1,5,7,4,0,5,4,8,9,7,0,4,7,6,3,3,4,8,8,1,6,5,9,3,2,2,1,8,2,7,6,0,4,3,0,8,2,6,2,1,6,3,8,2,6,7,5,5,6,9,1,8,9,4,6,4,6,1,4,0,2,9,8,6,0,6,5,6,9,0,3,5,6,7,4,3,0,9,2,0,8,1,2,7,0,7,0,7,3,6,3,4,9,2,4,3,4,9,6,6,2,7,8,5,3,3,3,5,1,9,6,5,8,2,0,7,3,9,6,7,2,1,0,1,4,3,2,2,5,3,3,3,3,8,0,7,6,5,7,9,4,9,6,8,4,6,7,1,8,6,8,3,6,0,2,8,3,6,1,1,5,2,8,5,9,6,1,6,3,5,1,5,4,8,9,0,1,7,1,2,9,8,3,1,4,3,5,6,6,7,3,4,7,7,4,0,5,6,6,1,8,6,2,9,8,1,8,5,2,4,9,5,9,7,6,5,6,5,6,2,6,8,0,2,3,9,7,5,1,1,7,1,9,6,9,8,5,0,3,2,3,7,7,0,7,5,1,1,1,4,6,1,0,4,3,5,9,7,7,0,7,0,6,2,9,6,3,3,7,6,9,5,4,2,7,4,9,4,0,9,2,7,4,5,3,3,4,9,0,8,6,4,4,0,2,3,9,3,3,3,4,8,5,7,4,0,4,9,5,0,1,4,9,5,2,7,1,9,4,8,2,4,1,9,8,8,7,8,0,2,1,9,9,3,5,0,7,5,8,3,3,6,6,4,3,3,6,5,0,5,6,6,3,8,1,9,2,6,2,1,1,0,5,6,7,8,6,7,5,7,6,3,1,4,2,0,8,6,3,0,5,7,4,6,8,7,8,8,0,1,6,1,6,2,3,8,3,6,5,7,5,2,4,0,5,5,9,3,3,8,6,3,3,9,5,7,5,5,1,2,1,4,9,1,3,2,9,2,2,2,1,4,0,6,7,3,6,4,3,0,7,4,1,5,0,8,0,5,1,2,3,2,8,5,1,7,7,3,0,9,7,7,9,3,7,8,6,1,8,8,6,1,9,1,8,6,9,4,6,2,6,8,0,7,8,9,7,9,2,1,3,5,6,1,6,7,8,5,2,9,0,7,1,7,0,7,8,1,9,2,0,1,7,9,5,6,5,4,8,2,6,9,5,3,9,0,1,0,7,8,2,9,2,0,2,6,7,9,2,7,9,7,4,1,9,8,6,6,6,5,0,2,4,8,9,7,6,6,2,3,0,0,2,1,7,1,0,8,9,6,7,8,6,7,2,9,9,2,1,0,4,0,8,8,8,8,2,3,5,9,2,5,2,4,5,0,2,3,4,3,6,1,1,4,1,1,1,4,6,2,2,4,6,3,0,4,8,3,4,2,0,8,7,3,0,7,8,9,5,0,5,8,3,8,4,2,7,2,2,9,0,4,9,2,2,9,0,5,1,5,4,1,4,8,3,8,4,5,7,7,5,3,2,0,0,7,6,0,7,2,9,4,1,6,2,1,1,2,6,9,2,9,7,3,9,4,9,8,5,0,2,5,1,5,1,7,5,1,5,4,8,3,4,3,2,4,5,9,2,8,1,7,8,3,8,3,2,0,7,3,7,3,1,2,1,2,3,4,7,9,6,3,1,8,8,1,7,7,8,6,7,0,0,2,0,7,3,2,2,7,1,0,4,6,0,2,0,0,0,9,3,6,4,3,5,4,4,2,8,9,7,1,0,8,3,8,4,0,2,9,3,9,0,8,2,7,8,7,1,7,3,0,8,1,5,2,8,1,7,5,2,9,6,9,8,2,1,9,6,8,8,5,5,6,6,1,3,4,6,6,3,0,7,4,7,3,6,3,5,7,4,6,7,6,7,5,3,1,2,3,1,5,6,9,3,9,9,0,6,1,3,9,4,4,8,2,0,1,3,5,4,9,1,0,1,9,9,0,3,9,1,7,7,0,5,0,8,8,7,4,3,0,9,5,1,6,4,7,1,4,2,7,2,9,4,3,6,9,1,4,2,9,2,4,3,3,4,7,2,8,6,6,0,4,9,8,4,4,8,5,7,6,5,6,8,0,4,9,5,0,5,3,6,9,1,1,8,4,0,9,2,6,9,8,6,8,7,1,5,7,2,8,0,8,8,6,7,0,9,3,8,2,0,2,1,7,4,3,1,4,2,8,2,5,3,8,5,5,5,8,1,5,3,1,1,9,1,4,4,4,3,5,6,8,2,5,7,5,1,5,7,9,9,2,7,1,9,0,9,3,7,5,9,0,3,5,1,1,5,0,0,5,0,4,1,2,2,6,8,8,0,3,4,3,3,8,4,0,6,0,2,3,3,2,1,0,0,4,0,0,1,8,2,0,4,1,5,6,8,0,3,9,8,2,8,4,0,6,4,1,0,0,1,2,9,7,0,8,6,3,9,2,4,4,8,3,8,0,0,6,8,5,4,6,5,7,1,4,4,5,2,4,3,7,2,7,1],\"coloraxis\":\"coloraxis\",\"opacity\":1,\"symbol\":\"circle\",\"size\":3},\"mode\":\"markers\",\"name\":\"\",\"showlegend\":false,\"x\":[0.43778712593058106,0.4503482867158751,0.46290324366403196,1.4034158382603816,-0.5809449352180555,1.4880411939160287,-0.40076609280862147,-0.3060528400599047,-2.2540021599289424,0.23393381742828112,1.0778130652257762,-0.8823360363391222,0.41427747007691335,0.47762678205199394,2.0098929418447473,-0.42887747698873635,-1.4871701536261008,-0.2843392626262736,-1.6188713690219994,-0.15258645071641688,0.9815011602011646,-0.5922033644279764,1.8892802192226479,0.07812588859779102,-1.0426241148502637,-1.689108922657302,-0.21408373345230855,-1.8529561012501545,-0.8201083088546833,-1.9156667435074581,1.6270880849272011,1.2804742277577923,1.6308999489135727,-0.2078436978508734,-0.9663220047389565,0.45749204302298296,0.7651267321452629,-0.3942980639098749,-1.7307467251300126,-0.36494926092064955,1.0131236818628393,-0.6275430668606413,0.4284823434044777,-0.4333519628398916,1.1380227918788868,-2.1021390526230608,1.385698462311632,-0.6487161615887949,-0.6677713692485087,1.1360254701809272e-05,2.2862421340864656,-2.321233523644719,0.15265696521224956,-1.6620825903321874,-0.600297061922797,1.7221825660184948,1.768328463221513,0.4865553806561973,3.7229977182063627,1.8067687566282704,-1.067484503710166,-2.9133924568344978,2.747820233380803,-0.8801697204174933,0.11498378983382326,0.8758131127238952,1.5587025393245062,-0.11657656375579604,0.09606891002147518,0.7005843100793879,-0.054392560406365385,0.13189319902743651,-1.484539077306403,-0.7704854284710071,-0.804689135585629,-2.0940246827203746,0.47207108977900186,1.4879479747275386,-2.124961923047568,0.40156672626119516,-0.792901856920035,-1.11985083448167,0.15514966992694043,-1.940240167514031,-2.010084821225112,0.26613361940613467,0.8271160704706658,0.888373811963776,-1.1899040635486005,0.2730110443865988,1.2487133546358642,-0.13770866665598927,-1.9011579004947072,-0.19303298599035326,-1.341248480208945,-0.527561847938218,0.9340143020146098,-0.8143848379709414,-0.4108319873815828,-3.0134370715153476,1.4678490889742921,0.8338495055165859,0.08837197737726962,-0.9753323187356919,0.11519175474283752,-0.8245957939985331,-2.8889432964443595,-1.254733116786265,0.2764246693436522,-2.3129646679771403,0.6081622902382815,-2.070031823120753,0.07901041377859372,1.0553235406838308,2.6561395362765894,-0.45650382194447303,2.8365276215369444,-1.3508931271816176,-1.2138090308862843,-1.1467251518176238,-0.2372223474434571,-0.2559375437799207,-1.3282927593508727,0.11855867647334933,-0.401714502779372,1.9937038163052343,-0.5661463560189913,0.467845396836192,-1.0965531488351365,-0.03071324059902957,-1.0358166746194946,-1.5646797401578802,-0.6759170615644738,-0.6751499829125017,-1.0086209307009841,0.884037045921946,-0.26813906740926535,0.1373106265039181,3.0485742570118335,1.955450267090402,-2.1002542228321377,1.5143151062845526,-0.856904132284682,1.5213922960697381,-0.298356435565867,-0.38385460519414544,2.2631376584882092,-3.8220656618050897,0.42336894148048054,1.645684638668863,-0.8908200713907565,-3.1607487606671576,-0.068146531690682,-1.3759460312247038,0.41031963757979867,-0.4148650971498132,1.374833377195077,1.2026615083812,0.34735912571810434,-0.6513739762215595,1.1545859101219786,-0.20006867919550478,0.040596119600831995,0.8177109008025507,-1.2348563763389406,1.1541728804270441,-0.6803011569479969,-0.32021903183015094,-0.8889919035416806,-1.403753550381564,-2.5835984680277395,1.069180326163545,2.201708033178489,-1.159384744769498,0.8890772492051889,0.4910496195932378,1.1566303903389064,2.320826781139494,-0.973210763458121,1.2734298863788145,-1.7104684819409572,-1.9129515502546508,0.18198144493460333,2.8502363654798173,3.482528534203831,0.8765662638913183,-1.0740735925630946,0.32273489770270647,-2.4477773044727202,0.31878592577952725,-0.6175882101348699,2.8256567968839215,0.40169246172237344,1.2567141590700162,0.7043294146536337,-0.7754152919471214,-1.7595825990450569,-1.726806167824978,0.9251362349274189,0.09965582674611258,0.14452352852942116,2.724448726175881,-0.5342834972825142,-0.2892516726182548,-1.6196557968747023,1.7207021389429602,-0.02738832056877951,3.0606858448397825,-0.048401139090046084,-0.17148245189010689,-0.044641353774110513,1.3420857597209541,-0.14773193716504976,1.494281286390548,0.039979679242680505,0.9239884601886084,-1.850994725804687,-0.9376509098541691,0.9077113891579487,0.11877673611874966,0.9405124389358324,-1.9357744726030446,-0.2628357528423934,1.46757942117605,-0.8277455769433815,-0.5553093703440873,-0.46879398377117343,-1.6023902172971838,0.3938817397709603,-0.8646773084066409,0.18664338103678482,0.27383075855460276,-1.1269472326227248,1.2115230127406804,0.8343402043364053,1.3712183966812808,0.057662636801678685,-1.8884655489740856,-2.6842410738130438,0.37721090490972525,0.40040215352270764,0.619837179212827,-1.3091197299851427,-0.3220474075998247,1.7881606694614698,0.7482709062217583,2.258534943947711,1.6940252240555311,-0.17767185433378566,-0.36758756143086707,0.16152162323224917,-0.06277696075216611,-0.9064240510737623,0.22610174049658066,-0.2828542432208152,0.8794223268144987,0.887258340208713,1.7359944681152866,0.362304625978426,-0.5013638567595609,-1.3658210505016295,2.274963756303386,-1.270087805010633,-0.29826504604554416,-0.739728329790277,0.22095599438732608,-0.09852161611221691,-0.5876769326259412,-0.8451871282462753,-1.7239115028396286,-2.104402164571283,0.009933647800887381,1.5937929395560888,-0.05526912490628504,-0.5877613328390578,0.9797705347781739,1.2570799816687077,-0.9371700446366834,-0.5912667481300475,0.7212795081522512,-0.6821287142403872,-0.16215094320399484,2.5471247436800377,0.9021996717844271,-2.32310496399907,0.6833493055007374,0.39028285424714476,-0.5903739303965437,-2.2975225317045114,-3.213262362353095,-0.8236710228293235,1.6910757477400307,-0.09875928773848681,0.8427564106245967,-0.5992504149912524,0.06120684954716285,0.18966385862347182,-2.1088724589480212,0.8885652747583537,0.7765941261132272,0.37653325965333956,0.49243544813969675,2.0340914486483945,0.38825352360712073,1.302310211430675,-0.4356154444242515,0.36496665259700733,0.19963595480711918,0.3077677455315571,0.7200283503573444,1.785326987749793,-0.6999465663194747,-0.5968833541941662,-0.8926290118405268,0.8865736008870329,0.5561205865295469,0.49963878411127916,-1.276366979654239,0.588826777498147,-2.0874366002976052,0.8790852293317062,-1.764865267802054,-0.12417288757304372,-0.8244820109902083,0.47284448600467627,-0.04900484342304392,1.0569322407301578,-1.8461554707940826,-0.20469114900551752,-2.504214776520914,1.8294831463477854,0.19683146565552193,-2.331851002478788,-1.3786135502510568,1.1749887062963396,0.4527069277511905,-1.7502611773498618,-1.592864551646189,-2.2213457110535124,-1.0684398185476351,-0.6884947165953854,-0.8065312248392574,3.4509568940798467,-0.624636220963844,1.6829689287720029,-0.10625556283231508,-0.40224663760828133,1.3562650425595224,-1.9789011315760932,-2.7129327152399982,-0.10780932203408251,-0.31257127730443807,0.9672248097306271,0.5739243670187614,0.8047778953738272,0.004946556875880502,-0.2359867669772147,-0.22197077549517166,0.8336834564545632,-0.8187464320321934,0.46395929518704915,0.3006778912111463,-0.003263367777706844,-0.13058571420797543,1.2854028281154892,1.5936735492776761,-0.2955774917739586,-0.8849993662602743,0.7166091667627605,-0.4515324065544822,0.6003822926976333,1.7325642806673183,0.13857993519558867,1.8084527597050144,-0.5672399647781464,-2.164559249131261,-1.5837288530161842,-1.10522318723295,-0.08987383637078086,0.987095427880768,1.1157892139100394,-1.528089144635723,0.0576251059898497,2.1244131131673982,0.6816649976872825,-0.6442379140023472,-0.25014713639362085,-0.8610746048524991,3.3182946199249765,-1.890695262703415,-0.27048772862103404,1.0058047097357954,-0.03142487892646655,0.9449276759823437,0.49893503760768176,2.162550669412248,1.4609735995481572,1.340283928329342,0.5391144826437032,1.332013606550061,1.19338434241858,0.3376793240199782,2.212129400130082,-1.003847429647926,-0.15122003828390226,0.02734869487794326,-0.5235154162631571,-1.5908823570462796,0.7221996497970726,1.5640439422747436,0.030452185915045706,1.2031157112898008,-0.5000925910595162,1.6714884547227085,-0.9881663540251444,1.238043263570628,-0.3017731287563726,1.530322190721465,-0.3950705763655303,-0.5892584167353323,-1.1077598141602452,1.202155434063537,2.5309580495841812,0.01346218551844126,0.859134908742243,-1.3684192664996493,-1.7016010882356907,0.13677219411409222,-0.9194398953260519,-1.4144942619383223,-1.0238603332944571,-0.3644168996273786,-1.4141954039640663,0.9230106652447684,-0.004428709609978009,2.060756405010713,-0.16974031249430624,-2.374855064610545,0.5056968313218516,0.08095275948328512,2.520032696418873,-0.9014051409428072,-0.6927296930375638,0.11439693324320596,2.3503639216174785,-0.6588563641365232,0.6386834185769337,2.085622157205301,1.308948439398203,1.0982720958725278,-0.1290699625774578,1.040873997090394,-0.7920048383928329,-0.13030241637530063,-1.9237066360205124,-0.18773914498030767,-1.2342976000539976,-0.6055443077234545,1.97907198620108,-0.10951661296861358,-0.7924104699178247,0.9213402617758779,0.9393854753953917,0.5651816131690764,0.2207563204737518,-2.7530149006678863,1.6147410849902302,-0.8094601579529717,1.111901392562989,-0.38506414092225477,0.5080254472258325,0.10797174446985779,-0.8727786570824372,0.4435761716746731,-1.6809887158564527,1.0141622747997094,-1.1912796755533142,1.026839506130401,1.364538424851449,-0.0941466975557008,0.4310290973404083,-0.3050498265831109,-1.481118178866504,1.0419714770106046,-0.9333125824986052,0.5442008286900051,0.8250927155881301,-1.9812512981502512,0.2833167278525499,-0.2500755781287562,-1.2027944209800974,-0.9506100006517912,-0.46021854373325327,1.4238724549765978,1.68563304180738,-0.1803287677125295,-1.0047834542349048,-0.8526451570015069,-0.4287959629045715,0.00715588062285115,1.6911074261673358,1.4794567073734033,-2.826993190285932,-0.16697486147983717,-2.9744059332053627,-0.8124769559314763,-1.213065218605406,1.2551390980769195,-0.6985169118264484,-0.31041353309872816,-3.230766662863548,1.9538321748849812,0.42312575384558104,1.2878933076439965,-0.4704692873284316,0.8353503818209529,-2.5621402253886485,1.0436616932880716,-1.5072108033371492,-0.6885691390014179,0.041495982587654925,-0.8188432255957777,-0.14214458098640828,0.3638146481864594,-0.35906156816171775,0.9762952652869253,1.0390289660377627,0.00048242012354863124,0.6329947616709644,0.057738719562701865,-0.7208082102666677,1.3069267320802362,-0.42607669301757506,0.8992033608447942,-0.9633651378792408,0.08703474360819445,0.2438629713947075,-1.8842465080180273,2.0314755389386225,1.1948956239453585,0.4810399576224846,2.4175835141969566,0.5223460727112067,-1.0595575607405396,1.2163779356045967,1.6148290768566667,-0.07178340482208048,-0.9966317861206823,0.06203612834527647,0.11371725370990707,0.4215461975915894,-1.6236905009015536,0.2536488257400411,-0.04048524352508522,0.9720803294217046,0.6123162370735096,-0.41392110009928196,-2.036639901813895,-1.8965108887386948,-0.306680053831866,-0.624015893660663,0.4009385498684905,0.5820903711796372,0.640420208604416,1.3692668525726543,2.325682208950364,0.22791495676765408,0.8089325651667644,0.8469703834162727,-0.33441531533941427,-1.5304832707771305,-1.3354838920704784,-3.0846970273407384,-1.0120860067803037,-0.49245761783004777,0.5917624804184988,-0.6394777609642038,-0.5776350005791534,1.8463991116665308,-0.7910018562001258,1.8027091235454809,0.454797664520128,-0.8137368437399262,-0.8427877644663098,1.5875869321483387,0.7377627120870037,-1.0725876177427696,0.9050114789262022,-0.6261076804359759,0.620058412202376,-1.7130659252459652,0.02266141041460605,0.12412552941288485,0.2880459159547626,-1.429931687633782,-1.322406051211064,1.702152131877837,-1.4621110854800419,-0.9047894898937665,-1.4725181822239588,1.0906164588945724,0.6921646241899132,0.6967417282936856,0.11504392358465573,-0.20401656877929034,1.68183440245593,-2.312851746137669,0.2608126005321475,1.6636724490956818,-0.8943603533935341,-1.179001824292357,1.0530362627310674,-0.5397335472766301,-0.6202398189427291,-1.4166186446271458,0.8732473237243729,1.894329942909723,-0.916754063668877,0.2817357627810844,-0.00621121226804436,1.1242544649501718,0.3231880827456465,-1.428654825117038,-1.939879316441488,-0.08770899402829822,-0.24337659283923221,2.4866586126315973,2.473856897832474,-0.5636608769313871,-0.07249392718901042,0.8056809645624303,0.4666809923481088,1.2386357529240586,-0.31089545005591934,0.13194753598533634,0.33893633436368276,0.3372534935647314,-1.439108329948155,1.5311083903630096,1.0424381853118427,0.2853251987207594,1.420788540210259,-0.6487303959786844,1.062652787483538,-0.7421386235624803,1.5214233339968415,-2.074704098948706,-1.595480667343711,-0.030301667646633498,1.334001747844896,0.5822170315441633,1.1146755048355355,-0.8453011407683417,-2.5297125897148782,0.8301681873788759,1.3788861833182386,0.6632925291099113,1.5882777710063,0.06454889069687264,-0.9626681247886905,0.69760731827637,1.0031056513972336,-1.0416541652073243,-0.180477375091765,-0.24440504887025272,1.602004316603919,0.39533560581456834,0.08318931258944884,-1.3150368836694797,0.9768014516049621,-0.8418746152110926,-1.2261433084830684,-0.7077350453868996,-0.5809092934502625,0.9550055843363945,0.12598384174806482,-0.9676068035543177,1.2253697320460768,0.3827148533250898,0.7057959625208121,-0.05528836526226146,0.6943667455160476,-1.4117371103601009,-0.048676830623277566,0.098056873113321,-0.26839744498120627,0.8703388691600981,0.9113187495994314,-0.3573057968629321,-0.10563916514772542,0.8895684294272536,-0.37753923580924814,1.9122189811005985,-1.3501877168665857,0.06731068445524808,-1.0315035232095306,0.003621831492359705,1.129744916415842,0.6423477435577777,-2.537217560453212,-1.1141123581701868,-1.2988143658996194,-2.7409167502051894,-0.028750670482083428,-0.5126507537638235,1.3488781207955947,-1.7168675200364865,-1.1519426214106914,-1.2801991969112652,0.23001732773555053,0.5159605069053095,-0.16853983521902458,-1.0367161208999112,0.2444901237552242,0.5726822874466991,-1.995091196219555,-0.08842047639603993,1.0452574173309188,-1.0505719991513007,-1.4202595193651437,-0.9553048695503461,2.9981156820079757,1.3306629573058846,1.2522887633495055,2.4767852819971714,-3.1213874607880596,0.36065725814380484,-1.8522357467193353,-0.09035367255442739,-0.3603097628681528,-0.6097827307438255,-0.2345341914543313,-1.4646311995992671,0.5108710562047398,-1.6115425029498895,0.4538742031562447,2.8271470939003187,0.7505856248959275,0.5513858025101755,-3.0749273922807103,-1.7204518166575875,0.8332059620535732,-0.3679486880225327,-1.0796670977902356,0.7927384654467032,-0.012680891575120668,-0.27577254628425835,-1.2352955408110877,-2.1901552580413766,-0.028414728429000932,1.6221848460566373,-0.23767935306783758,0.7826673391509124,-0.9459443907510251,1.1351276212658805,-2.809546383526544,1.1951172836888362,0.505607791300828,0.8936813527554411,0.09259062107704358,1.1208529796131672,-1.0578925572156062,1.4550389155180214,-1.299643940533119,-1.4625526042590071,-0.2737774783959165,0.22773403350730806,1.2287095254993285,1.6575836806671513,-0.9767216736128698,-1.3135463312040585,-0.5463417704575904,0.8051073270624594,0.10590251794571338,0.3229558519535401,-1.4982919632391163,0.249919615143012,-3.1438809183503653,-0.6975373346894973,1.2393448634238047,-2.6006414123074553,-1.03647780735871,0.37851488007968176,-1.1841208718464964,-3.3367628778869,0.7985422806749083,-3.3274058541004643,-1.2337244865161645,0.14604510552485012,1.1903476436239613,0.3133361091987126,-1.0090309238288522,0.6825106729925692,1.3199386891623393,-1.4053917443483064,-0.1293876863756728,0.5056715047874537,2.15609622972426,-0.30255040662773725,0.642692694706783,-0.09567008988314657,0.8257217370276475,-0.9482824406172358,0.7443948645112893,-1.7487242699859908,-0.4864805326684227,0.6752479226054331,0.49510750877083254,-2.5531355386941845,-0.8378908235265291,0.24491608441086035,-0.7799407865864627,-0.201198798287269,0.6427923738715284,-0.6117592565621451,-2.3768878106657145,-1.6272931971491513,-1.6615396357379197,1.0727911582552383,0.3146289479631099,0.21527270698862103,0.16788441129130977,2.0977334950912914,1.2008933658351113,1.6068714533217474,0.1407942765448452,1.889734605370665,1.5052213916858166,0.24125335651325772,-1.1781323328267355,0.7332453926303384,-0.41176153083214634,-1.45650461595282,-0.3771927820459236,1.703549488651398,-0.9907291620751869,0.20829117974276612,0.5902912529619153,-0.2599828571591501,1.2770206480808683,0.42004238611696004,-0.272242057105726,-0.8189478422520942,0.7429601682220286,0.8133402349614423,-0.9023358236317386,-0.37280433704190324,1.5279749337529656,-2.520395810822681,-0.007787491220167376,1.1165454851508974,-0.6025068360735858,-1.1928890278128097,2.9731985160922387,-0.15161754479175207,-0.6171049112505705,2.38478264205585,1.339538665138517,0.13962690105793815,-0.46481675778078063,1.2268530461076566,1.1083885554619435,0.7738556170400532,2.4105187960509293,-0.33020755923008627,0.645505055735827,0.9419086355565442,-3.2310846739655217,-0.1441102812343195,0.4817227117047622,-2.256201478927617,1.6494212146669682,1.3165612373705642,2.689737346928794,1.6560629782916383,0.3701746230865355,0.8669017163070964,0.2633797544827246,0.7500555209559495,-3.5001041957716565,1.3635192223825627,0.541265066146545,-2.698485841428617,0.3951366343913686,-0.13493334583632657,-1.4406323076724554,-0.10757167723685744,0.5178879751159271,0.9697018294956631,0.7699945917428594,0.5389333485373187,0.1748912079097447,2.020317568224174,1.0036538989685395,3.182941395680564,0.8495039724633175,-0.052946799805581056,0.8675571256954049,0.18920658559782946,-1.4486293493171505,-1.616212393504861,1.1596247528683132,-0.40210627179116026,1.0552261586200196,-1.2555280618123579,-0.33132909838126073,-0.20178980646920644,-0.9060777901667273,0.8463537082751968,0.44359691216013064,-1.4707343206329535,0.5857138372129649,-0.6034450965366641,2.0629666124504284,0.2342699355832051,-0.750295497210756,0.018203834041044434,-0.3113404340554669,-2.5096599246938025,-1.8718455228063446,-1.276426899836508,-3.664139379109425,-1.0520421963293671,0.7864216834487542,0.2447859057231769,-0.22413605421082808,-3.49705655053087,2.108597743487986,0.45195962942355233,-0.854747203144449,-0.3957718754905681,-0.025918086684572537,-0.5707965939147307,-0.9237569744791546,-1.0505072847988297,1.1505240748822834,2.1785550655187675,0.16191402410204087,-0.7648072856969169,0.12300534490927392,-0.01888241124647788,0.4114776458573123,1.233164652558222,-1.0810678265598024,-0.9156034200799922,0.020345199327056376,-0.07291189694485754,-2.528746400032723,-0.3260377259461577,0.6658554188418568,-0.4306057694605446,0.6724500386979787,0.8411348048391186,2.7015099136339233,1.4523512783252623,0.9674180619019253,-0.21334881470032774,1.6726493666520783,0.523056886855842,0.9685823648937382,-0.9096915472684705,0.3729985672970179,0.6514495981380201,0.287285300707575,-3.137672334930289,-0.3784694485175868,-0.09183659769089644,0.05296626363157102,-0.6647698560564442,-0.4007444737474712,-0.7060060607497058,-0.7272427153857309,-0.2877226681202732,1.9898551925321926,2.665260959384129,-0.661404646406614,-0.08022534290740482,-1.6840512102804757,1.7713099799259127,-1.3147925554596673,1.621192704288298,-1.5239508546589968,1.1813648686134084,0.7628257400117711,0.2972205255207856,-1.1781880329223264,0.10139145472650896,-1.6140864254446008,1.4949334435584718,0.6554639526662023,0.712284409754868,-0.8658450455639791,0.549181835124591,-0.48556760791739634,-1.625973591561884,-0.9956416533282542,0.38904040457853345,-0.35697713159217137,0.47018743874218194,-2.3405328086702055,1.7533211456815718,-0.9660924655096153,1.212632014860231,0.39338970613031127,-2.2048549689603805,0.38857491893828155,0.06555263679477705,-0.8754305226602163,1.4940939421258035,0.14230263428855472,-0.3727298136865607,-1.0304197952351162,0.7227075636455453,0.27420689960729294,0.2549127586221392,1.899226959946553,1.1871736594013256,0.5359453062517575,-1.5306340744082858,-0.8166668094014022,1.2035642812069367,0.11018360617583393,0.5563619659817437,3.1448454214669654,-0.083158477958627,1.1759619577257094,2.7209322728346517,-1.086471425159963,0.059198450068875266,0.6479368543879436,0.7631412953799196,0.07494764326540823,-1.1871591140851951,-0.08527377441967482,0.5591419590249952,-0.9009094912604466,2.8845406743585658,-1.3047295114877289,-1.6289894785582992,0.6690377931244003,-0.8250483960636787,-1.7648718808785078,-2.217186388413353,-2.0613630298765107,2.174688992831812,-1.850404897173864,-0.15766165238250554,-0.3812121896866734,0.8913103761426395,0.8129891711977878,1.5273877481459524,0.05492079927038426,0.005595169165011992,-0.764733482132814,0.3246470160201844,-0.9076155419968518,1.5294345042125197,0.8396038072468874,0.16255324814046473,-2.6942170139684873,0.4044513450400146,-1.542451579714741,-1.08883009451317,0.8147330937155963,-0.6749189619429222,0.31325003582829297,1.317380841342454,-0.14999818169886028,0.6853601417502364,1.0870014952133986,0.430697873993097,-1.3115522325584212,1.9215399563130067,0.9392398897311633,0.6701542296227179,-1.026327729170543,-0.2783878083027527,-0.48052505503074616,-0.9295735373488468,-0.6373623485010234,-0.5521140449893597,2.5595300244516803,-0.5474634008029787,-1.4936573841214824,0.6288307329957423,-1.9754563555912943,-0.09308854073242476,0.11011128974145203,0.707508844120729,0.725179684044673,0.5986981144501847,0.7236051755314207,0.5521050362038191,1.022470091455113,2.3472184598570975,0.18247924429471168,-0.20728150599326547,-2.8862233325493434,1.8775116653410058,0.33048180773441227,0.5869776401723307,-0.14039018635823278,-0.23196284888476879,0.45170592771213697,-1.4503915506633365,0.24370964659412755,0.42273948695052604,0.7392315008499976,1.9324399651023096,-0.9709203215635932,-1.1069270513097018,0.7694962601216784,0.19297568391905937,1.0244057447833728,-3.078919521203409,-0.6060975686408511,1.7100189648377409,1.3188303726421273,-0.2629182730414329,-0.12291775697708161,2.0122427696470617,0.3730240385179563,-2.4268361982550344,1.0007786819062372,-1.0463868673655792,-0.8861481928301982,0.5079259789539207,-0.7327347548796207,-0.2197451162256018,0.5763605872493327,-0.3264962291889031,-0.4459117898967598,1.831380260999706,-1.8354252747560236,1.192296125502007,1.2624766691091032,-2.463868535276188,-1.4761617827195814,-0.5187233458873072,1.0633090570697368,-1.257478285348874,-2.1797177664203673,-1.4366583994956985,1.1326282413465552,0.9536090033042065,1.4279141683999614,0.8321370227278299,-0.12593497441692428,-0.8922972877121093,0.39624117258854574,-0.9158876787970088,0.8844774323091291,0.8152103993632519,0.03782638463231656,-1.4801464397332689,0.7804567478094877,0.9996729467321164,0.2667792083342127,1.3775027110837434,2.61346741310579,-0.7626385711602935,-1.409324432377868,-1.3090725076824303,-1.7102295897279538,1.5216994287753336,0.6596951048431045,1.5073397952448844,-0.8862465556319429,0.01157304393547395,0.29930908526072847,-0.6137956050813417,-0.08949954835185456,-0.37205595802181995,-1.6408509515151908,-1.3065491346034024,0.02950386181364515,2.1827566360404065,0.290298542182396,-1.7192035233428793,-3.0108042240562916,-0.25804124263887024,-1.3197073980892924,-1.6498328428412743,1.0006349517198794,0.6414630613881463,-0.3182888019623974,-1.1003448386478305,-0.028385903418019724,0.8421287041698302,0.9808510273913287,0.16688769253928837,1.8925412224099871,0.5004062469874468,2.4707816623448964,1.6309450352707127,1.090263409881372,-0.08832721687430226,-0.02121519837702331,-1.884193181803796,1.659985339108363,0.8732768078773353,-1.3370471407855231,-0.46421209570301425,-0.57509765141825,0.7413441741492447,0.1050308262751943,0.31824464477922165,-0.04437072741234578,0.8485611942425556,-0.9327453084738512,-0.6896018190658479,3.3676312194084805,-0.0861967258720001,-0.8981810868171817,-0.5090157699649783,0.40204436234966096,-0.5704867628691456,0.7919934359105318,-0.15507115981272349,0.5376366257673929,-1.054070626079419,0.6502887539075306,0.6930850155184655,-2.818717595635111,0.7452985338902616,-2.279697900054118,-0.20288364848442886,0.6736162583254931,1.0795010923094281,0.8572365109160208,-0.4508599755915379,0.5018358431365789,1.9709513217556638,1.4641740638411613,-0.09997982300269147,0.30290133241816547,-0.5706349909474041,-0.9249559766761563,-0.5536843209842687,0.26832204871618043,1.8300230535880602,-1.8643984755645449,-2.0731015497731056,-1.488333714314433,-1.3809735996686923,-2.3653407396645028,-0.986711353579431,0.41676192427044756,-0.8909337375811784,0.48615914433475027,0.7259789081018898,1.127128795566936,-1.795304583469024,-0.15895998968933958,0.7551798507157652,0.9967021099225708,0.1792777605923874,-0.0933413354004374,1.7454366486114639,0.08171364136802045,-0.3510262967027026,-0.6402055938412056,-0.2768286333147141,0.17419890032231608,-0.3511247293590721,-0.017600265451329006,-0.11476556055868041,-0.773248893822362,2.014475700225759,2.283853990054875,-0.21208977047381386,0.25541100348116136,0.3294031308822586,0.9609483704349294,2.2880250138026375,0.10165913963000629,1.7501128986134225,-0.9255354689421257,-0.39412137139690445,1.867814227401812,-0.3739974947714577,0.8196793368624532,0.39828130159956476,-0.8286575397182463,-1.3696412094601267,-0.28278083223403766,0.4829574958531343,1.211903028853311,-0.8273869041608667,0.004006750833137213,-2.125275273403929,2.650463321296847,-0.5610621945398733,0.5974528358681779,0.07639121647925098,-0.036223746228611374,-0.0044505067786054535,-0.32491081117309756,2.365953757328672,0.2604071576557864,0.7583193534554308,-3.0539198958768865,2.353501456042356,-0.18892817662715017,1.7116413860666304,1.8033585469281987,0.1894873657932191,-2.251102035855567,0.29399484700663536,0.18368436590547918,0.08363192858232987,-0.6749616793581599,-0.823479252426147,0.09920116272648277,-1.1813108721743948,-0.2566355030921804,0.8379592035054083,0.8465384141686068,-1.8093980324218086,1.7829829683712124,-2.934768137547855,-0.5103241254620456,0.4265260341682392,-0.3388502468859383,-0.09052643749608372,-0.6379218612951535,2.5911660068167066,-0.2828452529500591,-0.13468832775257047,-1.32406084623749,1.374424300004377,0.8728868162703517,0.13978262279286344,-1.2482424038832514,-0.47251866144246396,-0.39631411202021366,-0.3429096230711763,-1.6442733455057457,0.36608194950172757,-0.37672344876430547,1.1364234439014413,-0.40061617042278913,0.9163579112988527,-0.2478942820472371,0.05635317402428995,0.06535135492789332,-0.5067257941076374],\"xaxis\":\"x\",\"y\":[5,2,0,8,7,3,7,0,2,2,3,5,8,7,3,6,5,9,9,2,5,6,3,0,7,1,1,9,6,1,1,0,0,2,9,3,9,9,3,7,7,1,3,5,4,6,1,2,1,1,8,7,6,9,2,0,4,4,8,8,7,1,3,1,7,1,9,5,1,7,0,0,2,2,6,9,4,1,9,0,6,7,7,9,5,4,7,0,7,6,8,7,1,4,6,2,8,7,5,9,0,3,9,6,6,1,9,8,2,9,8,9,7,4,8,5,5,9,7,7,6,8,1,3,5,7,9,5,5,2,1,1,2,2,4,8,7,5,8,8,9,4,9,0,1,1,8,9,3,4,2,9,1,7,3,3,3,1,7,6,3,0,6,5,2,3,5,7,8,0,9,5,2,2,1,4,1,8,2,4,1,6,2,0,8,1,0,6,9,7,7,8,2,3,2,6,9,5,7,1,4,8,1,2,9,3,4,8,4,0,3,5,1,8,1,5,0,3,0,2,4,1,1,0,3,9,2,6,0,4,6,6,5,4,0,3,8,6,6,4,1,5,7,4,0,5,4,8,9,7,0,4,7,6,3,3,4,8,8,1,6,5,9,3,2,2,1,8,2,7,6,0,4,3,0,8,2,6,2,1,6,3,8,2,6,7,5,5,6,9,1,8,9,4,6,4,6,1,4,0,2,9,8,6,0,6,5,6,9,0,3,5,6,7,4,3,0,9,2,0,8,1,2,7,0,7,0,7,3,6,3,4,9,2,4,3,4,9,6,6,2,7,8,5,3,3,3,5,1,9,6,5,8,2,0,7,3,9,6,7,2,1,0,1,4,3,2,2,5,3,3,3,3,8,0,7,6,5,7,9,4,9,6,8,4,6,7,1,8,6,8,3,6,0,2,8,3,6,1,1,5,2,8,5,9,6,1,6,3,5,1,5,4,8,9,0,1,7,1,2,9,8,3,1,4,3,5,6,6,7,3,4,7,7,4,0,5,6,6,1,8,6,2,9,8,1,8,5,2,4,9,5,9,7,6,5,6,5,6,2,6,8,0,2,3,9,7,5,1,1,7,1,9,6,9,8,5,0,3,2,3,7,7,0,7,5,1,1,1,4,6,1,0,4,3,5,9,7,7,0,7,0,6,2,9,6,3,3,7,6,9,5,4,2,7,4,9,4,0,9,2,7,4,5,3,3,4,9,0,8,6,4,4,0,2,3,9,3,3,3,4,8,5,7,4,0,4,9,5,0,1,4,9,5,2,7,1,9,4,8,2,4,1,9,8,8,7,8,0,2,1,9,9,3,5,0,7,5,8,3,3,6,6,4,3,3,6,5,0,5,6,6,3,8,1,9,2,6,2,1,1,0,5,6,7,8,6,7,5,7,6,3,1,4,2,0,8,6,3,0,5,7,4,6,8,7,8,8,0,1,6,1,6,2,3,8,3,6,5,7,5,2,4,0,5,5,9,3,3,8,6,3,3,9,5,7,5,5,1,2,1,4,9,1,3,2,9,2,2,2,1,4,0,6,7,3,6,4,3,0,7,4,1,5,0,8,0,5,1,2,3,2,8,5,1,7,7,3,0,9,7,7,9,3,7,8,6,1,8,8,6,1,9,1,8,6,9,4,6,2,6,8,0,7,8,9,7,9,2,1,3,5,6,1,6,7,8,5,2,9,0,7,1,7,0,7,8,1,9,2,0,1,7,9,5,6,5,4,8,2,6,9,5,3,9,0,1,0,7,8,2,9,2,0,2,6,7,9,2,7,9,7,4,1,9,8,6,6,6,5,0,2,4,8,9,7,6,6,2,3,0,0,2,1,7,1,0,8,9,6,7,8,6,7,2,9,9,2,1,0,4,0,8,8,8,8,2,3,5,9,2,5,2,4,5,0,2,3,4,3,6,1,1,4,1,1,1,4,6,2,2,4,6,3,0,4,8,3,4,2,0,8,7,3,0,7,8,9,5,0,5,8,3,8,4,2,7,2,2,9,0,4,9,2,2,9,0,5,1,5,4,1,4,8,3,8,4,5,7,7,5,3,2,0,0,7,6,0,7,2,9,4,1,6,2,1,1,2,6,9,2,9,7,3,9,4,9,8,5,0,2,5,1,5,1,7,5,1,5,4,8,3,4,3,2,4,5,9,2,8,1,7,8,3,8,3,2,0,7,3,7,3,1,2,1,2,3,4,7,9,6,3,1,8,8,1,7,7,8,6,7,0,0,2,0,7,3,2,2,7,1,0,4,6,0,2,0,0,0,9,3,6,4,3,5,4,4,2,8,9,7,1,0,8,3,8,4,0,2,9,3,9,0,8,2,7,8,7,1,7,3,0,8,1,5,2,8,1,7,5,2,9,6,9,8,2,1,9,6,8,8,5,5,6,6,1,3,4,6,6,3,0,7,4,7,3,6,3,5,7,4,6,7,6,7,5,3,1,2,3,1,5,6,9,3,9,9,0,6,1,3,9,4,4,8,2,0,1,3,5,4,9,1,0,1,9,9,0,3,9,1,7,7,0,5,0,8,8,7,4,3,0,9,5,1,6,4,7,1,4,2,7,2,9,4,3,6,9,1,4,2,9,2,4,3,3,4,7,2,8,6,6,0,4,9,8,4,4,8,5,7,6,5,6,8,0,4,9,5,0,5,3,6,9,1,1,8,4,0,9,2,6,9,8,6,8,7,1,5,7,2,8,0,8,8,6,7,0,9,3,8,2,0,2,1,7,4,3,1,4,2,8,2,5,3,8,5,5,5,8,1,5,3,1,1,9,1,4,4,4,3,5,6,8,2,5,7,5,1,5,7,9,9,2,7,1,9,0,9,3,7,5,9,0,3,5,1,1,5,0,0,5,0,4,1,2,2,6,8,8,0,3,4,3,3,8,4,0,6,0,2,3,3,2,1,0,0,4,0,0,1,8,2,0,4,1,5,6,8,0,3,9,8,2,8,4,0,6,4,1,0,0,1,2,9,7,0,8,6,3,9,2,4,4,8,3,8,0,0,6,8,5,4,6,5,7,1,4,4,5,2,4,3,7,2,7,1],\"yaxis\":\"y\",\"type\":\"scattergl\"}],                        {\"template\":{\"data\":{\"histogram2dcontour\":[{\"type\":\"histogram2dcontour\",\"colorbar\":{\"outlinewidth\":0,\"ticks\":\"\"},\"colorscale\":[[0.0,\"#0d0887\"],[0.1111111111111111,\"#46039f\"],[0.2222222222222222,\"#7201a8\"],[0.3333333333333333,\"#9c179e\"],[0.4444444444444444,\"#bd3786\"],[0.5555555555555556,\"#d8576b\"],[0.6666666666666666,\"#ed7953\"],[0.7777777777777778,\"#fb9f3a\"],[0.8888888888888888,\"#fdca26\"],[1.0,\"#f0f921\"]]}],\"choropleth\":[{\"type\":\"choropleth\",\"colorbar\":{\"outlinewidth\":0,\"ticks\":\"\"}}],\"histogram2d\":[{\"type\":\"histogram2d\",\"colorbar\":{\"outlinewidth\":0,\"ticks\":\"\"},\"colorscale\":[[0.0,\"#0d0887\"],[0.1111111111111111,\"#46039f\"],[0.2222222222222222,\"#7201a8\"],[0.3333333333333333,\"#9c179e\"],[0.4444444444444444,\"#bd3786\"],[0.5555555555555556,\"#d8576b\"],[0.6666666666666666,\"#ed7953\"],[0.7777777777777778,\"#fb9f3a\"],[0.8888888888888888,\"#fdca26\"],[1.0,\"#f0f921\"]]}],\"heatmap\":[{\"type\":\"heatmap\",\"colorbar\":{\"outlinewidth\":0,\"ticks\":\"\"},\"colorscale\":[[0.0,\"#0d0887\"],[0.1111111111111111,\"#46039f\"],[0.2222222222222222,\"#7201a8\"],[0.3333333333333333,\"#9c179e\"],[0.4444444444444444,\"#bd3786\"],[0.5555555555555556,\"#d8576b\"],[0.6666666666666666,\"#ed7953\"],[0.7777777777777778,\"#fb9f3a\"],[0.8888888888888888,\"#fdca26\"],[1.0,\"#f0f921\"]]}],\"heatmapgl\":[{\"type\":\"heatmapgl\",\"colorbar\":{\"outlinewidth\":0,\"ticks\":\"\"},\"colorscale\":[[0.0,\"#0d0887\"],[0.1111111111111111,\"#46039f\"],[0.2222222222222222,\"#7201a8\"],[0.3333333333333333,\"#9c179e\"],[0.4444444444444444,\"#bd3786\"],[0.5555555555555556,\"#d8576b\"],[0.6666666666666666,\"#ed7953\"],[0.7777777777777778,\"#fb9f3a\"],[0.8888888888888888,\"#fdca26\"],[1.0,\"#f0f921\"]]}],\"contourcarpet\":[{\"type\":\"contourcarpet\",\"colorbar\":{\"outlinewidth\":0,\"ticks\":\"\"}}],\"contour\":[{\"type\":\"contour\",\"colorbar\":{\"outlinewidth\":0,\"ticks\":\"\"},\"colorscale\":[[0.0,\"#0d0887\"],[0.1111111111111111,\"#46039f\"],[0.2222222222222222,\"#7201a8\"],[0.3333333333333333,\"#9c179e\"],[0.4444444444444444,\"#bd3786\"],[0.5555555555555556,\"#d8576b\"],[0.6666666666666666,\"#ed7953\"],[0.7777777777777778,\"#fb9f3a\"],[0.8888888888888888,\"#fdca26\"],[1.0,\"#f0f921\"]]}],\"surface\":[{\"type\":\"surface\",\"colorbar\":{\"outlinewidth\":0,\"ticks\":\"\"},\"colorscale\":[[0.0,\"#0d0887\"],[0.1111111111111111,\"#46039f\"],[0.2222222222222222,\"#7201a8\"],[0.3333333333333333,\"#9c179e\"],[0.4444444444444444,\"#bd3786\"],[0.5555555555555556,\"#d8576b\"],[0.6666666666666666,\"#ed7953\"],[0.7777777777777778,\"#fb9f3a\"],[0.8888888888888888,\"#fdca26\"],[1.0,\"#f0f921\"]]}],\"mesh3d\":[{\"type\":\"mesh3d\",\"colorbar\":{\"outlinewidth\":0,\"ticks\":\"\"}}],\"scatter\":[{\"fillpattern\":{\"fillmode\":\"overlay\",\"size\":10,\"solidity\":0.2},\"type\":\"scatter\"}],\"parcoords\":[{\"type\":\"parcoords\",\"line\":{\"colorbar\":{\"outlinewidth\":0,\"ticks\":\"\"}}}],\"scatterpolargl\":[{\"type\":\"scatterpolargl\",\"marker\":{\"colorbar\":{\"outlinewidth\":0,\"ticks\":\"\"}}}],\"bar\":[{\"error_x\":{\"color\":\"#2a3f5f\"},\"error_y\":{\"color\":\"#2a3f5f\"},\"marker\":{\"line\":{\"color\":\"#E5ECF6\",\"width\":0.5},\"pattern\":{\"fillmode\":\"overlay\",\"size\":10,\"solidity\":0.2}},\"type\":\"bar\"}],\"scattergeo\":[{\"type\":\"scattergeo\",\"marker\":{\"colorbar\":{\"outlinewidth\":0,\"ticks\":\"\"}}}],\"scatterpolar\":[{\"type\":\"scatterpolar\",\"marker\":{\"colorbar\":{\"outlinewidth\":0,\"ticks\":\"\"}}}],\"histogram\":[{\"marker\":{\"pattern\":{\"fillmode\":\"overlay\",\"size\":10,\"solidity\":0.2}},\"type\":\"histogram\"}],\"scattergl\":[{\"type\":\"scattergl\",\"marker\":{\"colorbar\":{\"outlinewidth\":0,\"ticks\":\"\"}}}],\"scatter3d\":[{\"type\":\"scatter3d\",\"line\":{\"colorbar\":{\"outlinewidth\":0,\"ticks\":\"\"}},\"marker\":{\"colorbar\":{\"outlinewidth\":0,\"ticks\":\"\"}}}],\"scattermapbox\":[{\"type\":\"scattermapbox\",\"marker\":{\"colorbar\":{\"outlinewidth\":0,\"ticks\":\"\"}}}],\"scatterternary\":[{\"type\":\"scatterternary\",\"marker\":{\"colorbar\":{\"outlinewidth\":0,\"ticks\":\"\"}}}],\"scattercarpet\":[{\"type\":\"scattercarpet\",\"marker\":{\"colorbar\":{\"outlinewidth\":0,\"ticks\":\"\"}}}],\"carpet\":[{\"aaxis\":{\"endlinecolor\":\"#2a3f5f\",\"gridcolor\":\"white\",\"linecolor\":\"white\",\"minorgridcolor\":\"white\",\"startlinecolor\":\"#2a3f5f\"},\"baxis\":{\"endlinecolor\":\"#2a3f5f\",\"gridcolor\":\"white\",\"linecolor\":\"white\",\"minorgridcolor\":\"white\",\"startlinecolor\":\"#2a3f5f\"},\"type\":\"carpet\"}],\"table\":[{\"cells\":{\"fill\":{\"color\":\"#EBF0F8\"},\"line\":{\"color\":\"white\"}},\"header\":{\"fill\":{\"color\":\"#C8D4E3\"},\"line\":{\"color\":\"white\"}},\"type\":\"table\"}],\"barpolar\":[{\"marker\":{\"line\":{\"color\":\"#E5ECF6\",\"width\":0.5},\"pattern\":{\"fillmode\":\"overlay\",\"size\":10,\"solidity\":0.2}},\"type\":\"barpolar\"}],\"pie\":[{\"automargin\":true,\"type\":\"pie\"}]},\"layout\":{\"autotypenumbers\":\"strict\",\"colorway\":[\"#636efa\",\"#EF553B\",\"#00cc96\",\"#ab63fa\",\"#FFA15A\",\"#19d3f3\",\"#FF6692\",\"#B6E880\",\"#FF97FF\",\"#FECB52\"],\"font\":{\"color\":\"#2a3f5f\"},\"hovermode\":\"closest\",\"hoverlabel\":{\"align\":\"left\"},\"paper_bgcolor\":\"white\",\"plot_bgcolor\":\"#E5ECF6\",\"polar\":{\"bgcolor\":\"#E5ECF6\",\"angularaxis\":{\"gridcolor\":\"white\",\"linecolor\":\"white\",\"ticks\":\"\"},\"radialaxis\":{\"gridcolor\":\"white\",\"linecolor\":\"white\",\"ticks\":\"\"}},\"ternary\":{\"bgcolor\":\"#E5ECF6\",\"aaxis\":{\"gridcolor\":\"white\",\"linecolor\":\"white\",\"ticks\":\"\"},\"baxis\":{\"gridcolor\":\"white\",\"linecolor\":\"white\",\"ticks\":\"\"},\"caxis\":{\"gridcolor\":\"white\",\"linecolor\":\"white\",\"ticks\":\"\"}},\"coloraxis\":{\"colorbar\":{\"outlinewidth\":0,\"ticks\":\"\"}},\"colorscale\":{\"sequential\":[[0.0,\"#0d0887\"],[0.1111111111111111,\"#46039f\"],[0.2222222222222222,\"#7201a8\"],[0.3333333333333333,\"#9c179e\"],[0.4444444444444444,\"#bd3786\"],[0.5555555555555556,\"#d8576b\"],[0.6666666666666666,\"#ed7953\"],[0.7777777777777778,\"#fb9f3a\"],[0.8888888888888888,\"#fdca26\"],[1.0,\"#f0f921\"]],\"sequentialminus\":[[0.0,\"#0d0887\"],[0.1111111111111111,\"#46039f\"],[0.2222222222222222,\"#7201a8\"],[0.3333333333333333,\"#9c179e\"],[0.4444444444444444,\"#bd3786\"],[0.5555555555555556,\"#d8576b\"],[0.6666666666666666,\"#ed7953\"],[0.7777777777777778,\"#fb9f3a\"],[0.8888888888888888,\"#fdca26\"],[1.0,\"#f0f921\"]],\"diverging\":[[0,\"#8e0152\"],[0.1,\"#c51b7d\"],[0.2,\"#de77ae\"],[0.3,\"#f1b6da\"],[0.4,\"#fde0ef\"],[0.5,\"#f7f7f7\"],[0.6,\"#e6f5d0\"],[0.7,\"#b8e186\"],[0.8,\"#7fbc41\"],[0.9,\"#4d9221\"],[1,\"#276419\"]]},\"xaxis\":{\"gridcolor\":\"white\",\"linecolor\":\"white\",\"ticks\":\"\",\"title\":{\"standoff\":15},\"zerolinecolor\":\"white\",\"automargin\":true,\"zerolinewidth\":2},\"yaxis\":{\"gridcolor\":\"white\",\"linecolor\":\"white\",\"ticks\":\"\",\"title\":{\"standoff\":15},\"zerolinecolor\":\"white\",\"automargin\":true,\"zerolinewidth\":2},\"scene\":{\"xaxis\":{\"backgroundcolor\":\"#E5ECF6\",\"gridcolor\":\"white\",\"linecolor\":\"white\",\"showbackground\":true,\"ticks\":\"\",\"zerolinecolor\":\"white\",\"gridwidth\":2},\"yaxis\":{\"backgroundcolor\":\"#E5ECF6\",\"gridcolor\":\"white\",\"linecolor\":\"white\",\"showbackground\":true,\"ticks\":\"\",\"zerolinecolor\":\"white\",\"gridwidth\":2},\"zaxis\":{\"backgroundcolor\":\"#E5ECF6\",\"gridcolor\":\"white\",\"linecolor\":\"white\",\"showbackground\":true,\"ticks\":\"\",\"zerolinecolor\":\"white\",\"gridwidth\":2}},\"shapedefaults\":{\"line\":{\"color\":\"#2a3f5f\"}},\"annotationdefaults\":{\"arrowcolor\":\"#2a3f5f\",\"arrowhead\":0,\"arrowwidth\":1},\"geo\":{\"bgcolor\":\"white\",\"landcolor\":\"#E5ECF6\",\"subunitcolor\":\"white\",\"showland\":true,\"showlakes\":true,\"lakecolor\":\"white\"},\"title\":{\"x\":0.05},\"mapbox\":{\"style\":\"light\"}}},\"xaxis\":{\"anchor\":\"y\",\"domain\":[0.0,1.0],\"title\":{\"text\":\"LD1\"},\"showgrid\":true,\"gridwidth\":1,\"gridcolor\":\"lightgrey\",\"zeroline\":true,\"zerolinewidth\":1,\"zerolinecolor\":\"lightgrey\",\"showline\":true,\"linewidth\":1,\"linecolor\":\"black\"},\"yaxis\":{\"anchor\":\"x\",\"domain\":[0.0,1.0],\"title\":{\"text\":\"LD2\"},\"showgrid\":true,\"gridwidth\":1,\"gridcolor\":\"lightgrey\",\"zeroline\":true,\"zerolinewidth\":1,\"zerolinecolor\":\"lightgrey\",\"showline\":true,\"linewidth\":1,\"linecolor\":\"black\"},\"coloraxis\":{\"colorbar\":{\"title\":{\"text\":\"color\"}},\"colorscale\":[[0.0,\"#0d0887\"],[0.1111111111111111,\"#46039f\"],[0.2222222222222222,\"#7201a8\"],[0.3333333333333333,\"#9c179e\"],[0.4444444444444444,\"#bd3786\"],[0.5555555555555556,\"#d8576b\"],[0.6666666666666666,\"#ed7953\"],[0.7777777777777778,\"#fb9f3a\"],[0.8888888888888888,\"#fdca26\"],[1.0,\"#f0f921\"]]},\"legend\":{\"tracegroupgap\":0},\"margin\":{\"t\":60},\"plot_bgcolor\":\"white\",\"title\":{\"text\":\"LDA Scatter Plot\"}},                        {\"responsive\": true}                    ).then(function(){\n",
              "                            \n",
              "var gd = document.getElementById('fb7ed75d-7ce4-4608-bc3c-945a7193ffdd');\n",
              "var x = new MutationObserver(function (mutations, observer) {{\n",
              "        var display = window.getComputedStyle(gd).display;\n",
              "        if (!display || display === 'none') {{\n",
              "            console.log([gd, 'removed!']);\n",
              "            Plotly.purge(gd);\n",
              "            observer.disconnect();\n",
              "        }}\n",
              "}});\n",
              "\n",
              "// Listen for the removal of the full notebook cells\n",
              "var notebookContainer = gd.closest('#notebook-container');\n",
              "if (notebookContainer) {{\n",
              "    x.observe(notebookContainer, {childList: true});\n",
              "}}\n",
              "\n",
              "// Listen for the clearing of the current output cell\n",
              "var outputEl = gd.closest('.output');\n",
              "if (outputEl) {{\n",
              "    x.observe(outputEl, {childList: true});\n",
              "}}\n",
              "\n",
              "                        })                };                            </script>        </div>\n",
              "</body>\n",
              "</html>"
            ]
          },
          "metadata": {}
        }
      ]
    },
    {
      "cell_type": "markdown",
      "source": [
        "<hr>\n",
        "\n",
        "**Visualization in 3D**"
      ],
      "metadata": {
        "id": "I6fIaWGa595w"
      }
    },
    {
      "cell_type": "code",
      "source": [
        "import plotly.express as px\n",
        "fig = px.scatter_3d(df, x = x_train[:,0], y = y_train, z = x_train[:,1],\n",
        "                    labels={\n",
        "                        \"x\": \"LD1\",\n",
        "                        \"y\": \"LD2\",\n",
        "                        \"z\": \"LD3\"\n",
        "                    },\n",
        "                    opacity=1, color = y_train)\n",
        "\n",
        "fig.update_layout(scene=dict(xaxis_backgroundcolor=\"white\",\n",
        "                             yaxis_backgroundcolor=\"white\",\n",
        "                             zaxis_backgroundcolor=\"white\"))\n",
        "\n",
        "fig.update_layout(scene=dict(xaxis_showgrid=True, xaxis_gridwidth=1, xaxis_gridcolor='lightgrey',\n",
        "                             xaxis_zeroline=True, xaxis_zerolinewidth=1, xaxis_zerolinecolor='lightgrey',\n",
        "                             xaxis_showline=True, xaxis_linewidth=1, xaxis_linecolor='black',\n",
        "                             yaxis_showgrid=True, yaxis_gridwidth=1, yaxis_gridcolor='lightgrey',\n",
        "                             yaxis_zeroline=True, yaxis_zerolinewidth=1, yaxis_zerolinecolor='lightgrey',\n",
        "                             yaxis_showline=True, yaxis_linewidth=1, yaxis_linecolor='black',\n",
        "                             zaxis_showgrid=True, zaxis_gridwidth=1, zaxis_gridcolor='lightgrey',\n",
        "                             zaxis_zeroline=True, zaxis_zerolinewidth=1, zaxis_zerolinecolor='lightgrey',\n",
        "                             zaxis_showline=True, zaxis_linewidth=1, zaxis_linecolor='black'))\n",
        "\n",
        "fig.update_layout(title_text=\"3D LDA Scatter Plot\")\n",
        "\n",
        "fig.update_traces(marker=dict(size=3))\n",
        "\n",
        "fig.show()\n"
      ],
      "metadata": {
        "colab": {
          "base_uri": "https://localhost:8080/",
          "height": 542
        },
        "id": "mqiH6N465y6_",
        "outputId": "e88e8c69-84e9-4046-fda6-79175e0f293b"
      },
      "execution_count": 37,
      "outputs": [
        {
          "output_type": "display_data",
          "data": {
            "text/html": [
              "<html>\n",
              "<head><meta charset=\"utf-8\" /></head>\n",
              "<body>\n",
              "    <div>            <script src=\"https://cdnjs.cloudflare.com/ajax/libs/mathjax/2.7.5/MathJax.js?config=TeX-AMS-MML_SVG\"></script><script type=\"text/javascript\">if (window.MathJax && window.MathJax.Hub && window.MathJax.Hub.Config) {window.MathJax.Hub.Config({SVG: {font: \"STIX-Web\"}});}</script>                <script type=\"text/javascript\">window.PlotlyConfig = {MathJaxConfig: 'local'};</script>\n",
              "        <script charset=\"utf-8\" src=\"https://cdn.plot.ly/plotly-2.24.1.min.js\"></script>                <div id=\"72fc7eb2-8e3c-478e-92b0-b2d42b5c18d4\" class=\"plotly-graph-div\" style=\"height:525px; width:100%;\"></div>            <script type=\"text/javascript\">                                    window.PLOTLYENV=window.PLOTLYENV || {};                                    if (document.getElementById(\"72fc7eb2-8e3c-478e-92b0-b2d42b5c18d4\")) {                    Plotly.newPlot(                        \"72fc7eb2-8e3c-478e-92b0-b2d42b5c18d4\",                        [{\"hovertemplate\":\"LD1=%{x}\\u003cbr\\u003eLD2=%{y}\\u003cbr\\u003eLD3=%{z}\\u003cbr\\u003ecolor=%{marker.color}\\u003cextra\\u003e\\u003c\\u002fextra\\u003e\",\"legendgroup\":\"\",\"marker\":{\"color\":[5,2,0,8,7,3,7,0,2,2,3,5,8,7,3,6,5,9,9,2,5,6,3,0,7,1,1,9,6,1,1,0,0,2,9,3,9,9,3,7,7,1,3,5,4,6,1,2,1,1,8,7,6,9,2,0,4,4,8,8,7,1,3,1,7,1,9,5,1,7,0,0,2,2,6,9,4,1,9,0,6,7,7,9,5,4,7,0,7,6,8,7,1,4,6,2,8,7,5,9,0,3,9,6,6,1,9,8,2,9,8,9,7,4,8,5,5,9,7,7,6,8,1,3,5,7,9,5,5,2,1,1,2,2,4,8,7,5,8,8,9,4,9,0,1,1,8,9,3,4,2,9,1,7,3,3,3,1,7,6,3,0,6,5,2,3,5,7,8,0,9,5,2,2,1,4,1,8,2,4,1,6,2,0,8,1,0,6,9,7,7,8,2,3,2,6,9,5,7,1,4,8,1,2,9,3,4,8,4,0,3,5,1,8,1,5,0,3,0,2,4,1,1,0,3,9,2,6,0,4,6,6,5,4,0,3,8,6,6,4,1,5,7,4,0,5,4,8,9,7,0,4,7,6,3,3,4,8,8,1,6,5,9,3,2,2,1,8,2,7,6,0,4,3,0,8,2,6,2,1,6,3,8,2,6,7,5,5,6,9,1,8,9,4,6,4,6,1,4,0,2,9,8,6,0,6,5,6,9,0,3,5,6,7,4,3,0,9,2,0,8,1,2,7,0,7,0,7,3,6,3,4,9,2,4,3,4,9,6,6,2,7,8,5,3,3,3,5,1,9,6,5,8,2,0,7,3,9,6,7,2,1,0,1,4,3,2,2,5,3,3,3,3,8,0,7,6,5,7,9,4,9,6,8,4,6,7,1,8,6,8,3,6,0,2,8,3,6,1,1,5,2,8,5,9,6,1,6,3,5,1,5,4,8,9,0,1,7,1,2,9,8,3,1,4,3,5,6,6,7,3,4,7,7,4,0,5,6,6,1,8,6,2,9,8,1,8,5,2,4,9,5,9,7,6,5,6,5,6,2,6,8,0,2,3,9,7,5,1,1,7,1,9,6,9,8,5,0,3,2,3,7,7,0,7,5,1,1,1,4,6,1,0,4,3,5,9,7,7,0,7,0,6,2,9,6,3,3,7,6,9,5,4,2,7,4,9,4,0,9,2,7,4,5,3,3,4,9,0,8,6,4,4,0,2,3,9,3,3,3,4,8,5,7,4,0,4,9,5,0,1,4,9,5,2,7,1,9,4,8,2,4,1,9,8,8,7,8,0,2,1,9,9,3,5,0,7,5,8,3,3,6,6,4,3,3,6,5,0,5,6,6,3,8,1,9,2,6,2,1,1,0,5,6,7,8,6,7,5,7,6,3,1,4,2,0,8,6,3,0,5,7,4,6,8,7,8,8,0,1,6,1,6,2,3,8,3,6,5,7,5,2,4,0,5,5,9,3,3,8,6,3,3,9,5,7,5,5,1,2,1,4,9,1,3,2,9,2,2,2,1,4,0,6,7,3,6,4,3,0,7,4,1,5,0,8,0,5,1,2,3,2,8,5,1,7,7,3,0,9,7,7,9,3,7,8,6,1,8,8,6,1,9,1,8,6,9,4,6,2,6,8,0,7,8,9,7,9,2,1,3,5,6,1,6,7,8,5,2,9,0,7,1,7,0,7,8,1,9,2,0,1,7,9,5,6,5,4,8,2,6,9,5,3,9,0,1,0,7,8,2,9,2,0,2,6,7,9,2,7,9,7,4,1,9,8,6,6,6,5,0,2,4,8,9,7,6,6,2,3,0,0,2,1,7,1,0,8,9,6,7,8,6,7,2,9,9,2,1,0,4,0,8,8,8,8,2,3,5,9,2,5,2,4,5,0,2,3,4,3,6,1,1,4,1,1,1,4,6,2,2,4,6,3,0,4,8,3,4,2,0,8,7,3,0,7,8,9,5,0,5,8,3,8,4,2,7,2,2,9,0,4,9,2,2,9,0,5,1,5,4,1,4,8,3,8,4,5,7,7,5,3,2,0,0,7,6,0,7,2,9,4,1,6,2,1,1,2,6,9,2,9,7,3,9,4,9,8,5,0,2,5,1,5,1,7,5,1,5,4,8,3,4,3,2,4,5,9,2,8,1,7,8,3,8,3,2,0,7,3,7,3,1,2,1,2,3,4,7,9,6,3,1,8,8,1,7,7,8,6,7,0,0,2,0,7,3,2,2,7,1,0,4,6,0,2,0,0,0,9,3,6,4,3,5,4,4,2,8,9,7,1,0,8,3,8,4,0,2,9,3,9,0,8,2,7,8,7,1,7,3,0,8,1,5,2,8,1,7,5,2,9,6,9,8,2,1,9,6,8,8,5,5,6,6,1,3,4,6,6,3,0,7,4,7,3,6,3,5,7,4,6,7,6,7,5,3,1,2,3,1,5,6,9,3,9,9,0,6,1,3,9,4,4,8,2,0,1,3,5,4,9,1,0,1,9,9,0,3,9,1,7,7,0,5,0,8,8,7,4,3,0,9,5,1,6,4,7,1,4,2,7,2,9,4,3,6,9,1,4,2,9,2,4,3,3,4,7,2,8,6,6,0,4,9,8,4,4,8,5,7,6,5,6,8,0,4,9,5,0,5,3,6,9,1,1,8,4,0,9,2,6,9,8,6,8,7,1,5,7,2,8,0,8,8,6,7,0,9,3,8,2,0,2,1,7,4,3,1,4,2,8,2,5,3,8,5,5,5,8,1,5,3,1,1,9,1,4,4,4,3,5,6,8,2,5,7,5,1,5,7,9,9,2,7,1,9,0,9,3,7,5,9,0,3,5,1,1,5,0,0,5,0,4,1,2,2,6,8,8,0,3,4,3,3,8,4,0,6,0,2,3,3,2,1,0,0,4,0,0,1,8,2,0,4,1,5,6,8,0,3,9,8,2,8,4,0,6,4,1,0,0,1,2,9,7,0,8,6,3,9,2,4,4,8,3,8,0,0,6,8,5,4,6,5,7,1,4,4,5,2,4,3,7,2,7,1],\"coloraxis\":\"coloraxis\",\"opacity\":1,\"symbol\":\"circle\",\"size\":3},\"mode\":\"markers\",\"name\":\"\",\"scene\":\"scene\",\"showlegend\":false,\"x\":[-3.073096580235785,3.952759397185666,-3.001907693511237,-0.11532357445444011,0.9622232620248695,4.482765704714494,0.0873485318479502,-2.377416579760169,2.9876425728649276,4.299763540207199,3.7472227401024645,1.2693428151492068,0.5440791723781572,-2.4590619628021493,4.340721607342011,-2.2843519726491746,0.1329218430400941,3.18871052662079,-0.18835405994877877,4.028866432125372,1.5158963755213029,-2.9677712096036637,3.2976094034059757,-3.5145779216995865,0.06058386592872248,0.7097388001310219,0.5632847740998635,2.2329414403793,-3.032026074873907,0.00035540610780937124,0.5186170491518048,-1.4709134834536797,-3.0888129530421433,3.427580057462461,1.9280103889205489,1.5453397181056923,1.0296402098077675,-0.13449608862735116,2.809238479172471,1.0694048504068083,1.0956180831571414,1.3927246798049755,3.734386712155098,0.7271805489086545,-6.770799878074832,-4.52615883513041,-0.2282059874051667,5.369575969354928,2.106823383757175,-0.7974185687156035,1.5352143060156875,0.8841411775264723,-2.4923062334595514,1.5172982275554623,3.8292890079778146,-0.24817468949228358,-5.603768480065464,-4.564393744865159,0.09733800740884045,0.7554391865017083,0.4558478026915858,0.2501868810741693,2.9027244885401773,0.5953430466518428,0.4316766186769408,-0.36077009336210814,2.2278527826305075,1.0254513823383145,1.636415052384981,-0.14571441046891542,-1.9788270946672601,-5.1209707697791265,3.2602933037377015,3.9505290218283293,-3.7242529006367726,-0.8181612465361354,-6.44570496969309,-1.479657984477765,0.17901855775727799,-1.6440586743457484,-3.9112281001276132,-0.3217035262070414,1.272825370801328,1.8094317064266021,-0.19492617369477816,-4.114544833381831,0.1459961441804848,-2.590523159473835,0.5879975774504418,-1.8543193403527938,1.8438462264994893,-0.0337002032253116,1.6967374737167198,-6.23278769480996,-3.444180684048204,3.7439582357739707,0.5783683286584701,0.21833719781010286,2.0633035921029483,2.227087425104346,-2.9494434161051206,1.4775960869970866,0.4983644331416495,-3.347482393001429,-3.901221915848189,0.20000112078911086,1.2469457571483153,-1.4355505633704884,4.204776958003682,1.1809149979883782,0.7067510016262949,-1.533438651226938,1.0459267744085992,-6.294697370306727,0.851425792574571,0.4340322063414043,-1.2733334418744824,2.52798105926209,0.2301048743378996,-0.6485103468924428,-2.7812335806513735,0.2873229139033783,-1.5452654462110493,4.3923249928651025,1.6538243697090442,-0.48079466845318797,1.3944399631443762,0.12344293380026959,0.47362639134220025,0.8925943121466676,-1.6975009064638187,0.8243621322471869,3.753935986103632,4.36053117175982,-5.875841941968526,-0.31837108585896967,1.7381584764725806,1.7385164343832036,2.225630851144025,1.4958760399032862,1.7943652890158717,-7.070195187562142,1.718586524176594,-0.7704328442250494,-0.11738556752072563,1.0897617443028835,1.7639583697587156,2.7921323745665485,3.006663412153041,-6.064568546391516,3.2636344728557907,0.10498415045193339,-0.3654857215228557,0.47081270650984003,1.7860203185962036,3.508931518968169,3.6567438559628758,1.13163478358806,0.042035881578605085,-4.011085807100262,3.24679185020527,-3.505391477222355,-3.3473423938545777,-0.6301464664871861,4.1871715089809785,3.749604188922361,0.5383432058619348,-0.3584619129096829,0.5213316865445534,-2.3794820253676967,1.3945554139015253,3.037593975938432,3.6300450730318046,3.508119820976915,0.13600544220717886,-6.973687548808135,1.081155270204939,1.7133179184079412,2.1279055819516626,-6.425349413145479,1.8119056630160364,-3.4805389724314693,2.3641633795436223,-2.140531829721411,1.4846762880520545,0.8707967008195806,-3.301156751389448,-2.8236241275876037,-0.38724016264876415,1.7958105887020845,1.7337598035379462,1.601783445964445,4.932706522346946,3.7000454808214585,4.2464199226131765,-4.358074261130757,1.1054763174850981,1.4396483425898665,-0.06864495401516287,1.036723957444258,-4.264987878241137,0.5605093061354706,0.7626379436582009,3.3637096370730526,0.20056563253251292,3.644962578446661,-8.05696837459525,2.393161126015393,-3.8935287274497696,-2.745650817025772,3.0837824578555275,0.48730442801833534,0.9062042616938315,1.3105206148752035,0.21179762257729007,1.561934947013712,-2.988923494965619,3.661873148092989,-2.8843615898743318,3.849127169195413,-6.990127774091865,0.9116861668920256,1.9632572001967061,-2.748735131654789,3.4908760354557313,0.12922567098802537,3.0156937083323916,-3.852030024138859,-3.1315000753397157,-6.173832379488776,-1.932229936891954,-4.458766248539471,0.9153373055208704,-5.650877098402174,-2.1233890356110665,4.449679783037328,1.2606615397869148,-3.262526608191166,-4.200103029338087,-5.849021657983445,0.9612042887878111,1.2138292633204177,0.8499365804075847,-5.45828037193377,-1.7773272954841854,-0.04984433500054914,-5.818762200201452,0.4356402626115215,0.8698841420726378,1.1500588292181504,-0.9289621085492209,-4.7199102943350235,0.8786924588689222,-3.875692809762119,3.3535873044568074,3.9241169512820355,-3.9768519747763715,0.23045510438042804,0.2814765741904636,1.2705801021222727,-2.9723137329962412,1.7948962672614346,1.6618383744144491,3.2789256108775735,3.979279650152894,4.052555756073061,1.2434559050903662,1.9169354819129507,4.666085413151875,-0.5578279776319582,-3.0452776249774076,-1.9324808900267108,-3.571822120570819,2.621500240036239,-2.783521400625426,1.611968919909199,3.6181962836478836,-3.915019929069519,1.6750061304712267,0.9959082118049473,-2.8014644152853787,4.020181530008859,0.06668889751192165,3.4676846254993476,-2.571495786056367,0.5136005287751085,3.038052352662247,0.39908302990617406,-3.720463249340183,1.888150005969993,0.8842940616722355,0.9856553930395069,1.5539221829076761,-6.776482240007203,-2.9597412999417565,-6.33555250244331,-4.075091778133985,-0.0772067146556153,-5.731715435646861,-3.021099244594838,5.3018746852343,0.47944008279038003,1.3877764036410982,-4.95192273074523,-2.1797398675239186,-3.2290409601719596,-0.9719708554536889,-3.4502645116270014,0.058175320808249754,-1.9271688082483138,3.811175189557512,-1.3027067427787213,-3.7324735167542675,0.06565641580003038,-6.352394289542228,3.5648564578782134,-2.1433930679207704,0.739727488116878,4.870399460468059,-2.0572652525681256,-2.2621906462134884,-0.08472731799781025,2.924856387772064,1.0156520949330572,-1.790094277113918,-1.2372945833093207,-2.0610700174135386,0.21825763401757592,3.9249973306933073,-4.441074626303512,4.112341760464175,-4.535285249740476,1.345937271252971,2.451466681499428,-4.519874158594898,3.753077469905851,-4.60651759658641,0.14457894921438633,-3.481723456972959,-4.109838835477318,4.3610141596486365,1.7011910966867945,0.48607069867107827,0.4738103393428749,2.63128230640316,3.0308473013032438,3.7829876747728344,2.638534795451886,1.1830447763052228,1.7091740007738432,-2.4392262216451117,0.7065376582994362,0.12368222415407158,3.5240459287806427,-2.483119642674592,1.1099961986228786,1.476528744396444,0.9052649652022435,-2.286844956732531,1.2607646621927078,1.7352593961309393,0.5383081817496572,-3.864262931393867,1.4567593665322327,-5.217671193874267,3.7781481940951664,4.138773634324822,3.0737595075109554,1.6740339549682772,1.687340603931727,3.8825666302746806,2.4626604631492452,2.658418685638765,1.7604180568023309,-2.587259187679862,-0.6747598778236458,-3.5098389141882183,1.3353299610288123,0.6442990002530888,1.6459938318114278,-5.1147390370066725,2.3582393345217416,-2.5448995694374754,0.6923487700041072,-5.272504115505437,-2.9361318879263036,-1.4797538323844077,0.8547493222089018,1.3638252079516673,-4.127896967833063,-0.5028641995863651,2.5113301176162346,-4.474290358538568,-2.451187420464486,4.3815685176343715,0.3448509199526233,4.52700498076132,-2.2021218126951925,-0.16216716599007613,-1.103414082091263,0.8341955179970577,3.5996665762743163,-0.7838603050084798,2.055221515298106,0.9656048620643128,-0.9318502093652412,1.1810782881438822,-2.5416665545259294,3.63480909454161,2.293552988655634,-0.39287136697427216,1.6179564788018168,-5.628901900780625,1.2200898349480926,2.978783690699219,-1.6055424465142258,-0.7393802490940029,0.1415130427603476,-0.27777996613225947,3.938522942483597,0.9092933637086441,0.9891891678069321,2.8971322749187216,-0.07390791951283378,-5.96635759805623,4.815620674190304,1.6419813572347206,-2.836455174370417,-3.503744451198398,0.49161510017503,1.890288044150719,-4.842480257517425,-0.21680183680895326,0.5097217502404745,-5.142617406536639,-1.5641722109283516,2.4083932247289477,-2.395695230095785,-4.803743388912238,-0.6941897231552064,0.29722035829317117,-3.932776089311904,4.625281705405539,0.7553742875269935,2.6453081182914198,0.014234348705107404,0.48097580700319026,1.433168100503501,2.6502015882770253,-6.248126679909263,0.4824616190887801,0.40738712957650985,0.7656743408513258,0.05149955357598938,-2.4747247368004333,1.5075285663198363,-3.707592979387899,1.1216967958086683,-2.5904026459174334,2.355764554088119,-2.9857297132284186,0.37478562232723467,-1.728188852677792,5.516023825695075,2.321847127885489,-0.39464574091038407,-1.2485822088598708,0.1516423234181692,1.8708149748261937,-0.19209519211242396,-1.3515556870834695,0.357769447123226,0.6352908002063172,-2.647988182440559,0.8641893882470054,1.0837401506789082,1.9549633294208693,-4.06732046399621,2.215634308027975,1.1430839362546845,4.960880491154259,1.4673011952687884,0.8449469177101232,-2.638829442385357,0.8632130900856079,0.3720944273240125,0.7222531781551571,0.6051982926545696,0.11659733446374206,-6.555818076549402,-1.5622173080749477,0.7534616558875534,-2.7394748835785943,-3.1629005204310965,3.7915830903925754,0.8320414560436442,1.0725517907308644,1.0513739842041823,1.3353910319637907,-2.3298549822771317,0.07981299736561719,-2.6915933238642546,-0.03560171959005924,1.6751916910707654,1.9634617001973418,-3.7495932442321083,3.579234518240629,3.130466068322365,1.0089506040146377,-3.3863634904885154,1.3386405162129547,1.158558120728887,-7.134970766660998,3.2638966850701374,1.6015499880680972,-3.3523360313677912,0.7662582399714439,-5.181522411594296,-1.5589158998340598,1.5622592142151757,4.802932050768769,-0.5588647472709342,-6.0169038735063385,0.7957953677121945,3.7372573104289977,3.271814975492873,-7.631450304120374,2.512411576198212,-4.16085941864029,0.5016864137666988,-4.0004482668554795,-3.7594738137619075,-6.020697835343105,-0.3320305190792703,4.318198094383357,3.5612807590744744,0.8707341100426553,1.748469960878243,4.388780525768932,4.2065413813362795,-5.453845786032927,1.8045017824118494,0.8034802823458844,0.5202568032762083,-6.240563359379414,-1.0579953201339343,-4.28797143626362,1.6515425072188235,-1.0917199434301834,-2.1059069806796846,-0.5683412312081648,-2.428260416331657,2.001340683644566,0.8011454674102678,5.494766710465341,-0.7596602731187603,-0.1827006929427995,1.4079056166015822,-2.911233826945618,1.5136575036439615,4.686649725373914,-4.281270375330168,-0.7512967494337461,0.7419515551209375,1.5171813302982906,1.3057553476593289,-0.21411011042629277,0.9090468413992319,-1.558059786487904,3.5029653182495673,0.6544566284303521,2.0488736865336366,1.7506351767589212,3.775704629974221,1.50714649789484,-0.7568957962663662,1.1421759666076456,0.7267411147402367,0.5034603152544566,1.9358023894808731,2.6004284708285264,-4.215576096014547,-4.5160154119838305,-4.703134418499049,3.067354477385088,1.9838492801874745,-2.1813215215454274,1.058631790859391,-2.565315675984396,0.9310962151207854,-3.200581305276615,-1.4523921015103038,2.463082613669858,1.0302513056270848,1.0037664489070097,0.25900079795403874,4.117431805323212,-2.746847973376637,4.290514928667637,-1.1512127820804416,0.2604533427067764,-3.3618612752848587,1.3451045402026398,-3.6096535884719354,-0.09337942460521549,0.7602397980466623,-1.554626620738413,-0.24001247837362588,0.6077479561011072,1.346111508714081,-4.066180524812427,1.8450859622283595,-0.8723962599238584,-3.2834721872242394,2.443464053362936,-2.2735766959447123,1.6333428727347756,-2.0282800262287246,4.284822342383527,-2.2036553135007204,1.3998038316547856,0.44703682262384287,-4.153736082324195,-2.119275800469889,-1.444701783649591,-0.7456945179211429,-0.09373389935369045,1.697942418470628,-3.218073151798783,-0.7562742257618872,-3.3914396342651743,0.7455686019977501,-3.355193457244252,4.114422913051558,4.273852840536222,1.4049469755490782,2.886832878819291,-2.193509217954582,2.2181472430740774,1.3139586217559718,1.737753769112924,4.260150697297282,-6.6239697140637706,-3.6052000476342116,-0.1118502556255459,-0.6229836499149868,0.9558631284464395,2.3784882805650644,4.115893327229763,-0.3866376532292304,-4.8436592121548445,3.9582454897997885,2.5293808991765316,1.0123664755345136,1.6005313317314651,-0.11013322680121275,2.019043700090971,-0.3701077708102116,0.6150015023306131,4.21993144056216,-0.7262756603344717,-6.057119423659327,1.947126916164143,-0.046499984380009865,2.317974181139075,3.412977580343712,1.6128160496930468,4.492275060557365,4.5522275280704605,4.448136981357922,-0.6564593689681358,-0.3725364902219546,-2.8881471755583754,-3.2083078882716993,0.6195395431773312,4.959384025127126,-2.8585099454885583,-4.705061399996709,3.728327651038182,-4.47215379437983,1.3194870888939576,-6.6548004763393465,-0.45909509755149747,1.7317888450356687,-1.7059156952584107,0.8640914323153333,-2.4422534721436144,1.51368492591162,1.150403835011537,1.9799271069161495,3.1565578096458,4.892480811012587,0.4793340804231581,1.7110023871643618,0.4200465180067637,0.9326140022678574,-2.6807057521441533,3.111419502949569,-1.2321711718083286,0.19280729146418346,1.062601200419677,-0.4367530430914882,2.25308018533991,2.5455830789569407,-0.4708118321057647,2.4213437345061206,-3.8564471031104506,0.34721019907798917,0.03998107089104599,1.7273974282532991,-4.7579019645611655,0.017366586599535404,1.693443261750448,0.40377702534616994,1.3310507761991683,-3.2745419666600344,2.0200632613667544,-7.424392370028306,-3.880993915493164,3.3765223157952384,-3.652945517017935,0.947563824005189,-0.9289237646631666,1.9827305181574169,1.26499122805556,1.147318436617923,-1.1995868422287408,0.3654543210211015,4.693715166135559,1.1509834721931118,3.5498976257347086,0.7996873553342236,-4.085820077797195,-0.234028809464383,-2.3566074324345703,-0.07618984159680171,1.330343178793532,0.6879135599980023,4.788740044308835,2.042402623661202,-3.4278301453297897,-0.6089863841520331,0.07359817401105505,0.5194042261380589,-3.027421679505125,0.44541396205390466,1.9167237191088309,3.1649218751100716,0.8765053833928441,5.021694703615645,-1.875810674146608,0.32808923843413723,0.17226831116535468,0.8665144926070455,1.2880854432981406,-4.31969213935092,-1.0293836033555126,-3.742682506523037,1.439793683153632,1.520859666477122,-1.2103254527248568,2.7709875034923246,0.827323115465382,3.5796444502815365,2.0115192064594107,-2.36418090587691,1.0381296411308543,-0.618489128658379,-0.5034870866907132,1.1847816546157024,2.242359998775238,1.7043754081725733,4.710134961221029,-1.9978301638453293,4.56887426770505,-4.914360655198004,-0.2541859847111045,1.1150354637677857,4.0860921880097445,0.4412286053110112,-0.12991208571912025,-2.6501718365818734,-6.81766297504325,1.5869167528543942,0.23302209220632364,0.1471901404188436,-2.38309126732732,-4.566339091584009,-2.5496846310639767,-0.033634809108977905,-2.3220520735577503,3.2204013150230946,-5.973425488742384,1.1064115425234815,0.3789314618253261,0.21246378153183265,-3.1798349468451486,-2.098286386878625,4.4356167855071,5.08868395670606,-2.390544130814127,-2.965465348721737,2.121317534130734,-0.09649111090446251,0.27663717744124655,0.9940594195918104,-2.533598677610209,0.3091584909632443,1.2678504244016773,-3.8695516331501723,0.43015625340537406,0.11771503158484976,-3.495547037435494,-1.9234742244959713,3.1145259725567533,2.3588460236860582,2.031434438513354,4.025668391679076,0.7368433680369342,-0.7427916315960961,-5.191944580867272,-3.0806887773535814,1.6634612634066828,0.9038612890856401,0.6940931002960707,-0.7457643262110886,4.754132485962334,4.165511065192487,-1.4164670293569546,0.5416998318389473,3.731432116436146,-0.061670130062519105,3.7624939542522253,-4.840970185553579,2.1017608273311614,-1.8878809032572301,5.412470565750248,3.7242144740139205,-4.237005114274401,2.747666359679039,-4.032832823554134,-0.08094365047371449,0.7211531059492332,-6.109879484631396,-1.1878904200208258,-0.8830410077822054,0.9675246929446126,-6.058434496275842,-3.5105278473718924,2.481353415304436,3.8695918471298807,-0.17033088448642486,-2.7086201666890144,2.6438837054929656,-2.5896203348824,-5.540504784482388,-1.1310178249312355,3.0423801223297082,-7.016150372649501,2.697154135899331,-2.0512571927801817,0.5168562241980663,-0.05728849296660739,5.286020351160514,-1.935332596717242,-0.040543709878552506,0.7139241539266072,1.1343581401474554,1.634753151483846,-2.4598879108507004,-0.5116269984416552,-0.4145804086073581,4.177798382714861,1.4221786006648816,-5.835260362300052,2.3136508039800785,-0.4092004596819074,3.8748314232699768,3.8810246689296894,0.7623542053672282,-1.2197578290742979,-5.044218415531257,2.4211677140221814,3.7103260012172203,4.207450332176084,-0.1388725904251038,-2.372746148990766,1.8388171435610061,-0.1351201767852908,-0.4195211273184011,-5.9890906184688,1.7610353013444533,-5.486669986542472,0.6872299836749682,4.529628636327301,-0.00881325421305904,-5.534752995651053,1.8383584124505186,1.1130345506343307,1.1450932398560296,0.18537744964311853,4.2363891300925,3.5232038150579124,-2.283999879520364,-3.120567068213,0.8887945701578155,-3.760759348712491,-2.07122392061302,0.6078209441741529,4.699326574848776,1.7185308893872864,-5.985836040714723,0.6776013767757758,-1.903151343548478,2.378322483666307,-0.18543972303707507,1.7457695965987934,3.5466054987709352,-4.458704330450732,0.16849474662468225,2.6635110270920146,1.5169336324494753,0.5823341826509125,2.866154936421827,1.2811893022830063,-7.466382070310085,2.9277237891961736,0.8616996186596344,0.5709169602199019,-4.214877827072859,2.1280845618702546,0.7625571610840296,-0.09648752991122495,0.26277504715365263,1.9991243147142395,-1.3028825395766435,0.4774045508541435,0.9933119212131986,-0.025195993507621153,-5.694437291189502,0.023235849605246002,2.21113721574583,-4.597944801213075,3.0951029916994743,2.7372274284182287,-4.625857501775883,1.9406274441368512,-0.5346327836536913,3.4738437119698866,-0.5103532456194348,1.3962153774990893,-0.5415444100459335,0.026421826601768207,4.17778585517612,1.7538647119297541,2.090026264967139,4.737423632207264,-0.9183384367251888,1.2747456572711982,3.224116050046173,0.9676852174475329,1.9153041596462457,0.6982863463145044,4.532336670287317,0.9844509790488286,4.3139308979066024,4.6903823809165734,-3.1302808638810085,0.65308700838972,1.9066040837731817,-4.173283768129608,3.709813599976096,2.161921526254256,1.3502527623583311,1.0499646590954315,1.0295358638252565,-0.7513891565722572,0.17519062803932006,0.8200674538222057,-2.622225728024753,0.9269870602996501,-2.4752293190225347,-1.7505329437444836,3.702149360110189,-1.6818651879619568,-0.16071183392312738,3.0520964686273286,4.04470401975367,3.347117674779308,-0.07786071672052387,1.0364337202693155,-0.8527880850364675,-5.414268163813021,-2.471542791042637,-2.3863125848162743,4.0627276639711605,-1.0012606276276959,-3.061472705712806,-2.454801771506899,2.3213981509673,3.873200324686653,-3.1246577443983568,-6.227332482510001,2.636941574489811,1.582342691746766,-7.04835862760588,-3.83237526763108,4.1192056770748176,0.3694246860825083,1.379701253888554,1.029881729853142,0.1617036417451557,-1.5584998840857556,1.5320087317669597,3.303734208813241,-0.7999363928693651,-6.1691974634811615,-2.935268212121998,4.186335756913104,-1.3684676824663382,3.4763365599986082,2.3751743476472544,-1.7042984784086619,1.0051058914416544,3.497433553030528,-1.3159573444638777,1.2202773021191788,0.8129312798220387,-0.5033989538265081,-2.232714889420796,3.2955179167303292,-2.0350233628070185,1.4435586531441371,-0.27612521156319786,0.2507469573973593,3.0631553611431723,-0.2620646980512529,0.40069312479063096,-0.06604634569131625,-1.3780174980421966,3.521457867989098,1.633735870498342,-2.877032684260004,1.5070792359051668,0.8471869922529621,2.9930640917254236,-0.2332354523530837,1.3458453610189638,-2.8055275978236813,1.3746675683506708,0.4624814404057485,1.8259296645056942,-0.7468427106820701,-2.9634003699433786,-3.49791603292925,2.0954959486922364,4.437774494428978,-6.611774463091215,-3.3168365625634735,-2.973061131731226,3.3179796899696425,-2.436689001197605,1.19275199643711,-5.422000976814912,-0.9594374942321112,1.7524004196521095,-2.20600745097869,2.663152808103336,1.6300551738452491,-0.9338090488275655,-7.030325243601008,-3.0960352306016943,0.3720354380336514,-2.9243967617319115,-1.2720433372308229,-0.08181839148468831,3.193024966531138,2.4838016223993686,3.4865512219505588,3.7272218603556078,0.0362202357922952,-0.9539033182303431,-3.5005517996271736,0.5332280152784851,4.701943259865077,-0.9838281881816936,1.4306699933471694,-2.0115050143538604,-4.5249259491760885,0.8041473367387786,3.0709692788016545,1.6238117847401483,-6.620304047761301,-4.481320137618522,1.3067177616510517,4.753482554870072,-3.0383028848944784,0.0398239637047509,2.9105102206694404,0.17112297919472408,-6.529354008193003,2.144893512044309,0.0020508598889403757,-2.6109048303443676,1.2877226980447565,0.028334314299536957,0.7786126459360205,-3.2057839370654135,3.6965424682065366,0.570150936699477,0.2627791056795458,-0.42099062416633504,-0.6579110276794408,-2.9894566047922084,0.8972139753568141,-3.8418671173166716,1.0622183312439915,0.2604169260809031,0.27758322849633194,-5.879795171804282,4.956997890351833,-2.3356885221250634,1.6219259105763306,-0.5131072977730753,-1.1658727027157132,-2.8858597967624435,-5.59098482911036,0.2912149524942597,0.995432909798044,-7.457919840335053,4.486676587099447,0.6610364260652319,4.089345235341785,2.1760556856037425,-6.618267505644682,4.257300767190546,-2.1106557997046584,2.214055307991751,2.8298585073669384,-5.270601810625963,3.0812670295289646,1.487271308651779,2.7149203387622722,-6.011974362832607,3.1237311636932237,5.09012349208062,-7.031286038375547,-0.23098822446580175,3.268923308052735,0.650431650973053,-2.3407827767699585,-3.7724586109505265,-4.023121290621894,-0.24231076056383632,1.770448835469625,0.8558807679422554,-7.147371124286118,-5.736514892356744,1.241960101584754,-1.0080664854921322,1.4177953369155787,-3.9595093586981016,1.6611751934429144,-3.462510153498207,0.755051279073304,-2.2853505443161266,-6.519980524410294,-0.003426723889150752,1.3816552121850614,-1.9620180894910848,1.7172873843160228,3.2252880784072717,-0.7194236493644939,-0.15321085568317963,0.769614990518189,-1.178269779747481,0.9775323236382166,-6.093659349960028,-3.0153469211093715,1.7557290602323143,2.618706052202604,-2.5106977413592193,2.8991471820692754,1.3998585718019005,-3.8323731951135893,-1.2792514074927006,0.4651200752728279,0.38333688700219315,0.47393728181833433,-0.5562678482922705,4.265923139617019,1.2891780236219237,-2.1744664479609317,0.908194981533351,0.6588088905924062,-3.247788223027215,1.3929483775198968,-3.217398799573269,0.9640272766424117,4.839974370771203,-0.11294478049162364,1.1080683715750959,-2.4268417091356027,4.154442255876512,0.22277253810417086,0.5095276840341638,-5.148194526534294,0.6661325034845614,-0.034174808425697555,-4.063007556708049,4.080099437283054,1.2334800710063736,4.912715448415836,1.2172696448686429,2.8798914044236756,0.5356495543880181,1.6201474635458768,2.701699055225017,2.604146806359928,1.1377660226274278,2.5785948278407895,0.05682913037149529,5.652982334887733,0.5174516040406577,-0.30810535515732107,0.5009885958746325,-0.4761762066168811,-5.689421730897305,-7.615521530523173,-5.7716132422319095,3.4326872852988446,-1.2024456647612543,-3.08993564540255,1.2146688550428524,2.6879623354779856,0.5047938437504507,-0.8003265837558903,1.663923951070921,-0.41303032689031277,2.6718053377141544,0.2850488357901599,-0.028312358338869997,1.318084624447083,3.8099913885828296,0.5080459536823367,1.3219370487903268,1.93357933028832,-2.732958869488856,1.7954339891507953,3.57433517471387,-0.4786259867390694,1.518482495847106,1.8252777798498756,-2.839995062187775,4.156994754336718,1.2997629939261868,1.7732960254539138,2.706776504393796,0.12400703709828069,-2.2296383645642877,-3.1762408834962907,2.7707880486125496,-0.9146752692288754,-6.627835444661159,0.8116403417062554,4.277497407713703,2.756485244435696,-2.4241151072399356,0.3831443818501751,0.6896271906053273,-1.7177159060918832,3.714886940538446,-6.798861861573537,4.3545434733216934,4.377858868245949,0.30870964409800344,-6.508822300812247,-1.7272861542431581,-2.9422339699774227,-1.385753580100692,1.745067524303121,4.768680236502217,3.4938358864914187,2.126004556793693,1.2632841868714075,-3.923375465871242,-2.9590272162160347,-6.614140710535178,-2.015100093826264,-3.1727431094209018,1.2479093585852192,0.16093659934757334,5.691572801832073,-2.867136436725677,-5.209724131091479,-0.4481825601622101,1.3482312513285184,-3.318527313986367,0.4879366554259354,-1.9951624099594918,4.010962967363957,1.8288976261345797,0.9736800410921534,3.2658214604930276,-0.03334481438725693,-2.98524894092827,-1.3361143757208256,-1.7700466327764621,-6.089265901595915,-0.14149341388804876,-2.4669469394165424,-3.5882424342974795,1.44439725815081,3.7706079065021614,2.0486513875405143,1.6932817781288219,-1.764469451821758,0.9885914054312577,-3.088315444154967,3.3643796056372866,0.5786611114176943,4.855524872941693,-6.320917188930824,-7.131429450377088,0.6829627485481904,4.0990584223190405,-0.8502056442660552,-3.1226138770986465,-1.655992458474648,-2.9353297179951006,1.4039761965261646,0.5785488245989252,-4.477502115535874,-3.6893276175874576,1.859392049369833,0.6946192215968494,0.22115284005261815,-3.9971147358037626,-7.134577423987507,1.6127955758822103,1.7187377698451254,-1.1712849436270079,4.152208347284533,0.2446092401755271,4.596529095164059,-1.715597570474422,-0.8618660094091534],\"y\":[5,2,0,8,7,3,7,0,2,2,3,5,8,7,3,6,5,9,9,2,5,6,3,0,7,1,1,9,6,1,1,0,0,2,9,3,9,9,3,7,7,1,3,5,4,6,1,2,1,1,8,7,6,9,2,0,4,4,8,8,7,1,3,1,7,1,9,5,1,7,0,0,2,2,6,9,4,1,9,0,6,7,7,9,5,4,7,0,7,6,8,7,1,4,6,2,8,7,5,9,0,3,9,6,6,1,9,8,2,9,8,9,7,4,8,5,5,9,7,7,6,8,1,3,5,7,9,5,5,2,1,1,2,2,4,8,7,5,8,8,9,4,9,0,1,1,8,9,3,4,2,9,1,7,3,3,3,1,7,6,3,0,6,5,2,3,5,7,8,0,9,5,2,2,1,4,1,8,2,4,1,6,2,0,8,1,0,6,9,7,7,8,2,3,2,6,9,5,7,1,4,8,1,2,9,3,4,8,4,0,3,5,1,8,1,5,0,3,0,2,4,1,1,0,3,9,2,6,0,4,6,6,5,4,0,3,8,6,6,4,1,5,7,4,0,5,4,8,9,7,0,4,7,6,3,3,4,8,8,1,6,5,9,3,2,2,1,8,2,7,6,0,4,3,0,8,2,6,2,1,6,3,8,2,6,7,5,5,6,9,1,8,9,4,6,4,6,1,4,0,2,9,8,6,0,6,5,6,9,0,3,5,6,7,4,3,0,9,2,0,8,1,2,7,0,7,0,7,3,6,3,4,9,2,4,3,4,9,6,6,2,7,8,5,3,3,3,5,1,9,6,5,8,2,0,7,3,9,6,7,2,1,0,1,4,3,2,2,5,3,3,3,3,8,0,7,6,5,7,9,4,9,6,8,4,6,7,1,8,6,8,3,6,0,2,8,3,6,1,1,5,2,8,5,9,6,1,6,3,5,1,5,4,8,9,0,1,7,1,2,9,8,3,1,4,3,5,6,6,7,3,4,7,7,4,0,5,6,6,1,8,6,2,9,8,1,8,5,2,4,9,5,9,7,6,5,6,5,6,2,6,8,0,2,3,9,7,5,1,1,7,1,9,6,9,8,5,0,3,2,3,7,7,0,7,5,1,1,1,4,6,1,0,4,3,5,9,7,7,0,7,0,6,2,9,6,3,3,7,6,9,5,4,2,7,4,9,4,0,9,2,7,4,5,3,3,4,9,0,8,6,4,4,0,2,3,9,3,3,3,4,8,5,7,4,0,4,9,5,0,1,4,9,5,2,7,1,9,4,8,2,4,1,9,8,8,7,8,0,2,1,9,9,3,5,0,7,5,8,3,3,6,6,4,3,3,6,5,0,5,6,6,3,8,1,9,2,6,2,1,1,0,5,6,7,8,6,7,5,7,6,3,1,4,2,0,8,6,3,0,5,7,4,6,8,7,8,8,0,1,6,1,6,2,3,8,3,6,5,7,5,2,4,0,5,5,9,3,3,8,6,3,3,9,5,7,5,5,1,2,1,4,9,1,3,2,9,2,2,2,1,4,0,6,7,3,6,4,3,0,7,4,1,5,0,8,0,5,1,2,3,2,8,5,1,7,7,3,0,9,7,7,9,3,7,8,6,1,8,8,6,1,9,1,8,6,9,4,6,2,6,8,0,7,8,9,7,9,2,1,3,5,6,1,6,7,8,5,2,9,0,7,1,7,0,7,8,1,9,2,0,1,7,9,5,6,5,4,8,2,6,9,5,3,9,0,1,0,7,8,2,9,2,0,2,6,7,9,2,7,9,7,4,1,9,8,6,6,6,5,0,2,4,8,9,7,6,6,2,3,0,0,2,1,7,1,0,8,9,6,7,8,6,7,2,9,9,2,1,0,4,0,8,8,8,8,2,3,5,9,2,5,2,4,5,0,2,3,4,3,6,1,1,4,1,1,1,4,6,2,2,4,6,3,0,4,8,3,4,2,0,8,7,3,0,7,8,9,5,0,5,8,3,8,4,2,7,2,2,9,0,4,9,2,2,9,0,5,1,5,4,1,4,8,3,8,4,5,7,7,5,3,2,0,0,7,6,0,7,2,9,4,1,6,2,1,1,2,6,9,2,9,7,3,9,4,9,8,5,0,2,5,1,5,1,7,5,1,5,4,8,3,4,3,2,4,5,9,2,8,1,7,8,3,8,3,2,0,7,3,7,3,1,2,1,2,3,4,7,9,6,3,1,8,8,1,7,7,8,6,7,0,0,2,0,7,3,2,2,7,1,0,4,6,0,2,0,0,0,9,3,6,4,3,5,4,4,2,8,9,7,1,0,8,3,8,4,0,2,9,3,9,0,8,2,7,8,7,1,7,3,0,8,1,5,2,8,1,7,5,2,9,6,9,8,2,1,9,6,8,8,5,5,6,6,1,3,4,6,6,3,0,7,4,7,3,6,3,5,7,4,6,7,6,7,5,3,1,2,3,1,5,6,9,3,9,9,0,6,1,3,9,4,4,8,2,0,1,3,5,4,9,1,0,1,9,9,0,3,9,1,7,7,0,5,0,8,8,7,4,3,0,9,5,1,6,4,7,1,4,2,7,2,9,4,3,6,9,1,4,2,9,2,4,3,3,4,7,2,8,6,6,0,4,9,8,4,4,8,5,7,6,5,6,8,0,4,9,5,0,5,3,6,9,1,1,8,4,0,9,2,6,9,8,6,8,7,1,5,7,2,8,0,8,8,6,7,0,9,3,8,2,0,2,1,7,4,3,1,4,2,8,2,5,3,8,5,5,5,8,1,5,3,1,1,9,1,4,4,4,3,5,6,8,2,5,7,5,1,5,7,9,9,2,7,1,9,0,9,3,7,5,9,0,3,5,1,1,5,0,0,5,0,4,1,2,2,6,8,8,0,3,4,3,3,8,4,0,6,0,2,3,3,2,1,0,0,4,0,0,1,8,2,0,4,1,5,6,8,0,3,9,8,2,8,4,0,6,4,1,0,0,1,2,9,7,0,8,6,3,9,2,4,4,8,3,8,0,0,6,8,5,4,6,5,7,1,4,4,5,2,4,3,7,2,7,1],\"z\":[-0.45890239964877394,1.4334004427055251,-6.423180156586217,0.6162303463473063,1.2337531449311816,-0.4491051180735719,1.5233932946110424,-6.303627878474604,1.4718467796979742,0.297080341049352,-2.2973018573183723,-2.0323029380474606,0.6318831630549105,2.8741622994437885,-1.171773466375141,-0.5268771553976191,-2.7096166808102065,-1.0132295982172712,-0.7483438382987333,2.458985045453689,1.3468145418679005,-0.07945406146508936,-0.29361648312055666,-6.126449500879175,1.0887590409354833,2.960646343195475,3.5512538528959627,-1.6325180503164183,-1.3860060827918286,2.1609274746484464,2.675069700392406,-4.776284375171259,-4.765378164653426,1.876933516991031,-2.341759285405533,-0.907106873487905,-0.043079350525669476,-2.6324654987932785,-0.7212234365094382,2.270171803520277,0.7749334511444015,2.925415196317514,-0.2732799825865325,-3.865611978876751,3.082783883731755,1.7288428568963987,1.232648634037304,2.3777205882687333,2.9760845934370797,1.6748132518049772,0.7540329350799537,1.4616360719866608,-0.5570468877155921,-1.0983477266553772,3.601638912146653,-5.288964630159275,3.6162474006925165,1.2177383686944145,0.5719907715620411,0.44494606306820594,1.3447431277386817,-0.012434596961212662,-0.09314854537230795,2.248993836497047,1.3484870227849504,4.401284685887281,-0.4611470101463454,-2.0373761467603524,3.425236725138931,2.3990811352816177,-6.1802950899099685,-3.017379267052269,1.8357058060260216,0.7455162043694972,0.9004636967637678,-1.1283085045906809,3.5083000258698456,1.0226890207317707,-2.5429604716745935,-5.046867478731876,0.7764101691079585,1.077034256568578,1.2196585269463123,-2.435393231396958,-1.495460266172745,3.1580422743478853,1.4195444448557404,-5.0690742716077,2.4037946251953026,-0.40175246936747455,-0.25962120744502015,1.4979726143471623,2.7101701512582688,2.132196874844349,-0.12129253527928284,1.6182206121992841,0.8887158832469334,1.2631877014308563,-2.2004773882804787,-2.6547463416518866,-6.430975064299901,-0.8403355602210746,-2.7770839601355424,0.24348215457408234,1.3267930450647365,2.819978199155744,-1.9718429437243266,3.16256434734305,3.4011873548772824,-1.4973638359186188,-0.09199315888001015,0.062284969691190295,1.0980803302069058,3.5427674327024956,-0.1092755099363191,-2.2093609032971333,-3.6633436452900603,-4.0746864837717585,1.8220126238676695,0.6844854944141987,1.0773139019571962,1.3255645377608316,1.0981781376544784,-1.684140188134117,-3.0540623171240435,0.2478859307508134,-2.808663733612545,-1.6981171401621344,-1.9645680920132427,3.106800270244397,2.690685845475709,4.106251455196228,3.0734819424862687,1.123715357444858,-1.9091208233490904,-0.2848543186998589,2.032751454849387,-0.39845810572554674,-0.003626686339045835,-1.273786184314878,-1.1119193818384017,1.4281478162684906,-1.2809161051692974,-6.2575714766297885,2.4161539792252524,3.578309164856534,0.5656989545691217,-0.5654385625902094,1.1586131458340212,2.1700270465851963,1.2368148697965464,0.47695113922379195,2.9290953836476845,1.0628005122948392,-1.0039973888180884,-0.7687726962130362,-1.823459618889658,5.13725971871788,3.2551263333733793,0.21904840419628413,-0.8898004874649398,-5.3857360825797835,1.2569223383819914,-2.8943347915147917,1.383913173798064,0.6986415025697628,-1.9343866122263644,2.0388735189964318,0.6063208869725724,-2.9447389549424487,-2.0956158793722004,-0.05175853876081125,-0.14396965769600317,1.3433816257970423,3.9569175569545894,2.8115362923044662,3.305708649332206,-0.44841483796270315,0.8779701610027365,3.076264212255201,2.3534560255702166,0.17102441060992798,-0.2812355011038859,-4.699421263624611,0.7042470146850996,4.706073915852694,-5.78898599557118,-0.051665708861093715,0.5080593553446814,1.361143647610335,0.46058336845442815,0.3790885988781877,2.3689850427542423,1.1397607293957392,1.1705157446383383,1.3854213252097,-0.8695606895861708,-2.828527420772132,0.6617503321822299,3.2219463641142045,2.8471119055568623,1.7155124446304646,2.8250462232553817,2.5252908543901014,0.20802014021842857,0.674598778789865,2.4111181880895796,0.2264810821210969,2.1972916809071825,-4.393789855084322,0.21056295415953458,-1.416155411256246,3.6978234355912076,0.6400656060480954,4.0270032750922145,-0.5807545443640624,-2.5356629349378825,-2.6512026893254035,-5.159087555413357,0.784218334765452,2.2825432963569123,2.3634290769088424,2.239955065845235,-6.041816147400018,-0.9753059871072622,-3.7770479998386213,0.6623490417534009,0.12793103679766885,-3.6251844635047794,3.4480056363347336,2.0761442756897694,0.4543656930912999,-2.5025300449483643,1.6257062399886324,-4.487662634031053,-0.7337583647778219,0.24895145809407787,1.6690372620699652,1.1389382460767703,1.6613831750869774,2.678562245754727,-0.7578495906114158,1.537974138456868,1.0889572910419965,-4.234495124963483,-2.799105393845087,3.5550061636774015,0.3756611643174048,-2.0197403304191544,1.515157629375592,-4.82917299731534,0.1123546217330178,2.5462373268949423,1.486471871817469,0.277790701827546,-1.2739850830099284,3.3887278113595274,-0.28109570216402757,-0.47831820426128135,3.4566630950019963,1.8011641028316123,-2.3768243583212683,-2.2317855111947873,0.9673972738434744,2.16830903206748,0.0786036837841246,2.607389248513345,1.493804362491678,2.7188252992325794,0.4212873765903244,-0.07100031754144055,-5.406583389004771,2.199278856014391,-0.8156479034964853,-6.225755450258545,0.09696755393200468,0.6239454472471888,0.6123731281244973,-0.05569382268549713,3.405951636930252,0.13080040025814313,0.43262996355931466,-0.9661039731965451,1.1186657947834282,2.6139522781583557,1.3198406815861343,-1.8883231041759612,-3.1208908220586764,0.2471654407068658,-2.0433219777747054,3.48152777271037,1.5124772120707184,-2.687961723752143,2.9758231242544047,1.5131768062299038,1.990426645449228,0.5972856577091245,1.0491503419897656,2.2890881288080345,-4.737049724281082,2.143119080346505,0.13255342386234778,1.0982419701442814,0.9644500128551394,-5.415180241346715,2.0077644629751767,-2.5540678803410213,0.22732670799037918,-0.2924221004878524,-3.217686757737722,-0.10140038731018422,-1.6658769888975016,-1.1476772488199452,0.13138118898324178,1.4167450165335143,0.3129919371173927,-4.948753857007133,-0.7952079435373838,-0.7966675277139098,-5.168937086082015,1.5125216603232678,0.8185299017313654,0.45335566059421784,1.9751149891081488,-5.839358294061911,1.1563724406786244,-5.642864153500859,1.4269284248281182,-0.9811658960179634,1.8734382879750877,-0.011640510820838028,2.7563305589851645,-1.8719825068881528,2.0482398758167943,2.7825238861485335,0.20249481090213362,1.8943860583014762,-1.5137491398924816,0.10373810188537277,1.2203187741858001,0.5350276231599719,1.765187717178753,-0.15765446072159256,-3.3237482359806134,-0.009758812881943723,-1.0650568896569705,-1.1453181250747588,-1.7317587709889768,3.2810355809145273,-2.0901051650598275,2.1635894258807205,-3.1549237981370046,-0.08772543347133002,0.26186287304100236,-5.444389376836328,1.7566989116802665,-1.9976672858219349,-0.0947669701869723,1.2555724211490085,2.040679819158442,1.5021330163339042,3.1136157805067617,-6.41730683216582,1.5761260860490396,3.8503874292019664,-1.0896419189493614,1.0235034901586388,1.4842377455514089,-2.7418438500335895,0.14944489328601063,-1.1245384689361664,2.1021303858411606,-0.6558612516134334,1.9500504836970878,-5.461640598300047,-0.8520704616803502,-0.036558999688799367,-1.6475983090967654,2.5192901954285807,-0.533131418354635,4.239413207785652,-1.5821477130153974,-0.567009462668487,1.4045375410391439,3.708626133024621,-0.4382529144459705,1.207588186798238,4.018454093175595,-0.6317194856572125,-0.3635109173029766,0.5200807534789361,0.4367182910135481,1.388238467943536,-5.196186041138019,0.6345687437978449,1.9220546086670294,-0.37379412422626346,-1.3918259177745784,3.1894740924973686,2.6476725478412604,-1.8679780700781592,2.6484455070753685,1.1096852790360296,-1.1589303571018428,-2.868734358007536,0.2977657100811311,1.8107475787259764,0.18746760006953384,-1.249223205071747,-2.4845707510415784,2.2970429766072256,-1.662758028144819,0.41007268382257533,-0.34825317041191367,-1.0888589400086839,-4.270278917745766,3.626812367074088,2.201941004843067,1.8863647915954478,0.6737396095618099,-1.8070415260414905,-0.4099856145568878,-0.3639303450471343,3.8550167901746573,3.2750019090052103,-1.161573781652112,-1.20624558081355,1.9349494373424387,0.6305626719578362,-0.263690894288402,-0.5941369721444594,2.791459808594781,2.2063983138008565,1.8783308423239231,2.574385022336995,-5.109321650815253,0.354185285049004,0.39385238312225607,1.0181473183319913,3.163804750790483,1.8130165915972019,0.303167028732709,0.43031963437221515,-1.687552571681411,0.37278839282509174,2.999902786629856,2.01311730097502,-2.651891710933948,0.8065924725546333,2.4941531342186747,-2.079456746642143,-1.748581125991629,-3.0838746998837303,2.142098965798205,2.601164035908737,-2.0433933987938016,-0.5977241927983418,-3.117420506102064,-1.345649997151173,2.731522219586912,0.5942881942995081,0.4316084656806171,-5.603689250684252,2.2075169285452376,-0.12148086291130387,0.31136978844886415,2.0871425768827963,-2.564515626456565,4.590760005101984,1.317084091834893,0.29629223742910393,-0.3986997537135887,-2.1072685396193265,1.7859116443137608,-1.4840972593204576,1.4937083422153408,-2.0567232351917104,-3.90514609401506,-1.6950962407595853,-1.212278456509397,-1.6362114103004775,1.940452158479136,1.9741523090026685,-5.101605545231355,2.783543358242118,-2.19767027010563,4.333248350318838,3.0103079897329383,2.14910911241391,-0.754797593511428,1.7929558798440703,3.5916433972653,-2.812385936507315,3.3647515037738676,-1.189889410464035,-2.3041289802681555,-2.7101249750937364,1.5607059088942403,1.3377911693732394,-3.896035351766666,1.1191553326972188,-5.100702812984708,3.7143646364161933,5.35366005072236,-1.4047772135895917,0.017760470510104005,-1.0230790508412924,-1.2516567052979286,0.6179302311564526,0.04803996865899916,-1.954702106374893,-2.9209626630298184,1.2620526529268326,1.067636340626293,1.6277960534836209,1.5364294757408106,-1.6996610628616635,2.1591770148214806,-4.6698261925783715,-3.293677734144122,2.707356497636465,0.8536369559203132,1.8557803539136737,-2.724622290487209,-0.44145351337573097,-1.7461521478554782,1.4805084981487766,-1.7650305344517627,-5.895264352334277,0.6313905258546465,-0.19084813207440074,3.529922272200613,2.3427725303567764,-5.911645242644448,2.002759756584307,-0.3221296067863706,-0.9083752241364794,-1.284486272699991,-0.6843572557967195,-1.5307060120741354,1.980683339017149,-0.0458646432135349,-1.299953301693031,2.342962146352795,1.6133993467026904,-4.122475777269661,0.4570181649111299,-1.10356277683773,-0.8901026931566555,-4.758584805683822,2.250043337722984,2.0735519605903248,-1.7761022836043299,-2.7634487854170904,1.8598713805756135,1.0091649858383276,0.9826065114066374,-1.3088375803446926,1.9251801901605716,1.0855385859051714,0.4950039519633541,2.4634398739470686,4.420435241003496,0.4354942958870632,1.3454238069195008,0.11093143874572436,2.5260229604193802,-1.2092557308317802,-5.060692641417054,1.2282610737416706,4.02689314553221,-2.7943390076415047,-2.9372127764756097,-1.9837199386169033,-3.198847580334075,-4.619538077700656,0.9626111863273361,-1.3577251321288404,1.5805654388796535,-0.4414303831310447,-0.7459458528712624,-0.513443937858743,1.1788401269908748,2.4490919240537137,-0.2924104860948311,-0.4892198652824068,-0.015443736915745116,-1.7188819006684763,-5.7169611448642215,-1.0685888959879521,1.7779962145402926,0.8996897987368813,-0.9635060394627202,1.1907732758815919,2.592257341003808,-2.1509455055478894,0.31376990818802697,1.2587344417587454,2.527896791734506,4.479429138086016,4.626219106908048,-5.340519917282348,-1.4630927912972764,-0.7794683520978594,3.476347863072951,0.8125375868461923,2.0075962541927432,2.6701618675075953,-0.7479767355262056,1.8158032224080443,0.12598934905907275,-0.6904869848418885,1.659639829172366,1.115344297455737,-2.1065281149632784,-5.6229415798483995,0.3876269225670846,0.6338696781675677,-0.6075951863694885,-4.796090145186136,-3.2140408568764203,1.8416417888601715,1.4967368101663798,0.044442642652719744,-1.3186866641758364,1.3677344456611331,2.129842107129643,-1.1680111000097533,-5.480701228790346,3.0358907736081555,0.5910335453486033,2.496509477288212,0.2979168439616055,1.5174734524005982,-1.4788412920234504,0.9970060429206649,-0.15897521071694481,1.490524419059629,-0.11562364791788829,1.5560326683982713,-1.3003494792248935,0.9184505068133892,1.9135810417021135,-5.531665132671803,-1.7873312277148774,-1.9210578283512127,-1.4427291901538224,-1.3534058443065564,-1.124953547668087,1.310221606515112,1.0276774341197383,-1.7976859828640928,-0.5477799155767942,-2.3199972410083567,-2.4021599646282983,1.219004529784752,-2.9343230697020655,-0.5573590208524104,2.7250998618149866,1.6254350733391678,1.6786496251219856,2.089137744847852,-1.485157064700985,0.350049888660197,0.11916203049464341,0.052399415849230496,-2.4895927042664674,2.5669803507565154,1.9281452021560388,2.5817540225994517,1.5283002288305552,1.9959135989264385,-4.879803085041158,0.6139833276066018,1.2563669970057185,-1.0775013567905032,0.3717355453567193,2.2333513865078154,-0.668442811057054,-6.297248937030613,2.916404065528466,3.0343900219699993,3.402792757846984,-2.1733048075783854,-6.107337099656635,1.3288071655215365,-5.329978941071096,-2.6615605257248345,3.0514066786574254,3.1097519481077502,-1.2176597249869632,2.011682640869685,-0.19688762699966306,-1.8552635680119445,2.7708774573713075,-0.7112159931924306,0.4450352823315566,-0.011552086672915697,-5.908403895426614,-2.2323829681177902,1.2857441319586815,2.305586163607655,-2.1639064987497783,-1.451093314761861,1.0391791414453462,-0.4799109793513846,1.6396462111897265,2.1470763929965715,2.577890955679221,-0.4818058262273649,1.7759938116567695,2.2030325125179555,-2.989503146967609,3.4661042980352303,0.3247275588026783,1.2554691280757893,-1.1882041535545285,0.4968791221242861,0.33065680471133757,1.1949452945854595,1.6766126230720153,-1.2995421129646423,-4.085545653128815,0.1789838899621186,0.27735286829206834,-2.653952445546725,0.24896153550748396,-1.6924615890327614,2.6936731426546205,3.097001217013821,-0.3134027061166832,-1.8710780005731624,0.35280033289802193,2.2900896888368263,-1.1509247208846494,2.1589201211290203,1.2444272512519505,-2.09550319851048,1.9135558224746765,-2.2575644358371765,-4.824970328073401,0.6110214066031244,2.4339633753543786,0.794747358637758,-5.59706671777465,1.4419370002514276,1.2988550086686086,3.7731998093248755,-0.5995448810294811,1.539523462006733,-3.5127335170417497,1.8041115734829594,1.2298787520674406,-3.6044753664941456,-1.0633251713237932,0.17626339941111102,-1.3942250412314015,3.4315933452996426,0.4500053621039546,3.310561691396727,0.8374423265893243,-2.3328558942807986,-2.6364273901541915,-0.6293906143606446,-2.163967941745422,-5.8797811086164025,3.3027221604857737,-3.828469055711293,0.9104716177611143,1.970434001436749,-1.0177268124971706,-2.4392563685591258,0.8972029586749235,-4.434975509513544,0.36689746509306914,1.5545705110969557,2.0419296639482116,-2.553555148131561,2.188786326067014,0.8531986451380567,-0.38807692062820043,3.785167540082462,1.8499894837562936,3.500902617259677,-0.7705998698882711,-0.14839108125643183,2.132526661346278,1.1686009512023359,-0.29744856211894294,-0.8552450571445345,-4.253809273607944,0.08817826368056166,2.038238165668019,1.3967126389455689,-0.9594834899105532,0.8461495854020069,0.2872763949277554,-1.1347636387988997,1.8995697636555882,-0.48060476424254267,-4.5890199359869985,-5.248237700456627,0.2933870086403923,2.2780775587882673,-1.2035352355850581,3.5709253744522775,-5.88888185289457,0.8736971603444613,-0.9078033417003186,0.9605483133894761,1.9661149018077144,0.23777397569783382,-0.44986776663811195,2.094964640616137,-0.008237490049706036,-2.4813746511910773,-1.950173075322501,1.4817611977617449,2.5831881838442246,-5.352346758204195,3.576977611064864,-5.987849026270419,-0.11605773327745139,-0.1810156149287438,-0.44311400625691794,-0.6267288830300849,-0.47802910003958965,-0.5488164915940099,-1.2062301435712337,-3.7455553942796813,2.341787742527782,-2.3635871197055693,1.6522770423047985,2.0997247170163873,-2.473796888785182,-5.14993049564778,-0.6321974063112422,-0.10983758107850125,2.2904884334853772,-0.9837465071692645,0.5374687358284737,1.6228423379575287,2.1426797324546643,1.9328130898900773,2.412657234143533,3.4131881824989234,2.6643311174481092,1.7991565122211313,0.5298516094893342,1.2442515975580797,0.7168664048422848,1.7696593977249435,1.8172978343415211,-0.6796165964318707,-5.326108200916552,1.6707805290897702,1.959284513673306,-0.8069459854217587,2.57870055689285,0.5371826828368977,-4.767578270759437,1.573463318500111,1.6548433242495846,0.7239017112398415,-4.417051472292162,1.8091543778471748,2.558950630638311,-0.5981608428058398,-1.5484251946213776,-5.641367125058649,-3.7773612261091527,1.6115848660620957,0.9153343186473886,0.6035639063305974,2.588416277223237,1.053827489220871,1.4571804456357302,1.0918813353487662,-0.2982884760744871,-2.0846039950829094,-3.68811199561008,2.89909135157157,-1.4915617945030644,0.5138661430790847,1.286471687557263,0.1167612587024893,-5.6255524991339545,-1.3565597969602226,3.1500479410177578,-1.631334873120454,3.111580762575968,3.2001831799166776,-0.22182117909112464,-0.785380455346205,-1.322731274764167,0.9401487569851779,2.1457697716345043,-2.5889396201174297,0.6876102563544864,2.487816434977672,-1.876452708377094,-1.0444146713323172,0.8586795843830762,-5.802729384662806,-4.510783403204838,2.3548809101350674,2.7976962856992458,-4.971889030482389,1.0549446488837044,0.655847317400773,-1.976513273583028,1.2154425658320889,3.1203330132047378,-1.2520540775043274,0.9735748413563774,1.687364917457777,3.562537114730224,1.4382412939746942,0.9810967162888775,-2.4638561112295707,1.0803854615113204,-2.5620630028851137,1.5954006032624324,-1.1092886154597017,-1.5053653281735189,1.8932704328912555,-0.4782965923322807,0.8635775868469672,-1.6921942619068888,-4.301212200091873,-1.3351660311470794,-1.653703193222009,3.2721825919708176,-2.1587594785910658,3.095322671130885,0.7399806693774896,-1.1504163364364723,3.4388779129548155,-1.463807622637706,1.894521322108937,0.4991593731070557,-1.7141537320258076,3.5914450745687514,0.029339770668777857,-0.06290051229604561,-0.8457757921733982,-2.1553228963912714,0.1603219043660607,1.6585581981700335,2.0765002351777704,3.9166741630963537,1.558507401335255,-0.2645513407007473,-0.6408856940528072,0.4274985019028435,-1.1209140102784307,2.8306957491283833,-3.8949327220885857,2.195593063096575,-1.2385548200130476,1.4583601510475859,-1.4747930501033373,3.094546209960673,1.9851390642125897,1.6113211816294581,1.8337967940557864,-0.6072145029636242,2.2329014770078075,0.4952492881434838,-3.1974423918587207,-1.5016349516079495,-0.27196600804587057,4.175869113646105,0.45150433349992614,1.8147927586963144,3.0838412893824203,2.1261228204215477,2.299726051103258,0.8495613530276371,2.6262318656185504,1.3304440995896232,-4.883042720749589,-5.171658455466259,-0.6243421830312715,-5.978690030758905,0.70466955388863,-0.6152936302743914,2.3870174550663035,1.7891221476709211,1.481650385741807,3.904155929851574,-5.79161725553897,3.629869476910185,-0.033675251916841696,-2.1145742413057826,1.555571816469559,-5.36267757476803,-5.15528453651546,-6.287955790513503,-0.12427070368268858,0.13875764441784938,-0.40910985245422843,1.698684848236686,-0.7744631101009718,-2.115532370671992,1.4761929273478422,2.99006743988847,0.6206223623120782,2.4211785629890827,-3.8367023735033228,1.4803692312316152,2.3912284114203857,-5.394136504769157,1.3548453930243327,-1.8852380233502322,-0.4958895495835445,1.7289951050308494,-5.466281931839076,3.5747213662590838,-1.549165181258394,-0.9489251641578685,-1.573843482941879,-4.988781825541455,-1.7240682479355485,2.748868641268879,2.186186508936678,-0.19541544160898702,1.158139669509709,2.4890358013224856,3.5103842440133266,-0.3308778086125034,-5.460974786617363,0.41007726763186003,2.9267724170588987,-3.7514976719596755,1.9566828017715001,1.2069415878742904,2.3284860951932838,-0.4966232111541766,-0.9415539811884791,1.5541732506741184,-2.470235388834906,0.10984108233689827,-0.6525802294248242,0.08577294341745917,0.9830560519293978,3.2984282346060705,-1.606328705665761,1.0728586506150302,2.162931390076245,1.6583022122114233,-1.3098251500209195,-1.486081957121287,1.8718623315762373,0.3185862320202077,4.491311116325436,-0.8521412242633299,2.762489715415453,-0.09222186418907705,0.18600306129039926,-0.7546282884245907,-4.767052759750124,-0.11136466869340905,2.183748875651952,2.9756279057143695,0.025707638346232135,-0.5104546228468065,-1.2938563544481303,-1.0864755323845638,1.7986775477392531,2.298055679712488,1.4008696320293992,2.9673355526818126,0.605117475105355,0.7039769395534818,-2.1345666625922233,-2.355694919104931,4.541012604409912,1.8522421258799422,-1.5750340111254235,3.3279815364971665,-1.7729624843485858,1.26905001046925,-1.571473925178564,-1.5583825671351794,0.6940929109611089,-3.986473679768511,-5.352545384317782,0.5731658172612697,3.8929827639287673,-0.5079940474555851,-2.015979900055459,2.9590470864791314,3.860964979374315,1.0406777888566312,2.3461265504950113,-5.555488362508324,0.34705014132122397,0.14044279165724413,-1.3783582454244812,3.5350485960016598,-2.9087448834905594,1.84439674966491,-5.67563875651985,1.6878994060399166,0.12711592777888905,-0.27696790972025415,-3.5147596644307617,-1.0470886788186222,-1.933516057092037,3.76891875447441,2.271139472365293,0.9912510042564591,-6.7099752861877775,-2.071541169273181,-0.8204808384115033,-0.6487095847100938,1.5969362744204585,1.0652787903655145,-0.39091097819889903,-0.8559273931613198,-5.717190179159672,-2.4107917539885064,-0.9753783360467986,0.014324911563971645,0.5726928770733594,2.305960134955791,1.0719853493788942,3.4454043630821514,1.1252783649607372,1.7367426423994208,2.4903182807865187,-0.8573451329532085,-2.970998856796562,3.2431795613579535,-0.93478806430776,1.0046360638700242,-3.156587952716385,3.1831054331135658,2.2523099995222164,2.754407956965029,-2.943586000321549,-1.7450287337687505,1.1156739174599888,-0.4630025159523524,-0.8726896631531101,1.7653699502330527,0.8329137147320662,1.785068574726107,0.15206765987182927,0.4302725148020341,-0.762595982575976,-5.124095896866221,1.281874644964885,-2.3989189981032517,0.7684256495310198,1.0978707854776595,2.614274628281392,2.0363452019781043,-1.7573178258146132,0.8293790862871424,1.1485721319133322,-1.5203050598148524,0.00014229894006995164,0.37689279029013767,-6.06409429778196,1.530832914744952,-2.5287557204718487,-2.156259950260382,-5.2007439426511075,-2.9579760865203553,-0.18210891855915826,1.5876198540793025,-1.9635555744833364,2.2218295672209454,2.2078752869252147,0.1015470826413897,1.4261767464772652,-3.9236674385230534,-1.740498943876912,1.1405074620872355,2.4044880181825055,-2.580150926907027,2.2060017026148264,0.20960539777315185,2.3926685169693536,2.9877165794388185,2.8840592097938025,-3.2167609867183393,2.694620580576392,1.2024560840637213,0.4968173877356227,-4.754720217294119,0.18465771368686598,2.1767868547514837,0.44839976121168,1.3783078008441951,-6.0848267880751274,1.0786208199705325,-0.7287428013801053,1.0188813136315669,0.9937574366800399,-5.385377799326562,1.579976377272962,2.750988578582492,1.9773026846149717,1.6372427079897296,-1.9417495723600309,3.593690964878152,3.667570083376282,2.088915579956013,0.42017975722660983,2.221247629998765,-1.6163928767748301,-0.9047580609084174,0.1345321496597972,-2.339795673721639,-1.5824611654941954,-1.8007366014201283,0.930071535900821,0.6550918419054951,-1.5005173686106585,-0.6846199434095246,-0.8589932928244173,2.9937122948283186,0.25890465811530233,1.8295128019965603,3.1909649747671853,1.0371146878706485,1.8725236252866173,-1.2264687725032444,-0.7890801236437841,-0.9384883942404342,0.7895405660623128,2.056879426649869,-2.1732627705168763,3.3508196026929307,-1.9505359502554764,3.5284679948670563,-0.8353670190859562,1.9238425057736763,0.5736871348203743,-2.990715961245231,1.893678261112146,1.515028208476066,-0.007633079975586908,-2.892165730171441,-4.129495011224224,-2.56394541950457,-0.2808500109295703,1.0849352083768264,-1.263296557726515,-1.1706996562236591,-4.8568320908243,-2.353090368535384,-2.433417276358228,4.2220312722858555,1.5784628352456505,-1.3111951476338646,-6.170010171965207,-4.7612680961731435,-1.4854016616442716,-4.447983951867836,1.7460318856388177,3.7501415223802868,-0.07880799059596005,0.8959457715509992,1.7212634584931399,-0.03992910837231813,-1.9374455040427718,-5.850920417433146,-1.271964908787442,2.445419188128782,-0.41101831953025214,-0.2772884000068502,1.620100718572832,1.1362931669094354,-3.396815999119069,0.9627207115541903,-4.438163893876217,0.053357724904612394,-1.214769685292614,-0.06877411882519453,1.6748653434072793,1.228621949707405,-3.5547805878893683,-5.584157151364532,2.415837284088838,-4.401730273765588,-5.6440192161768685,1.3323625066712925,2.3606917655969997,2.4784690237167593,-4.088982121034392,1.2653684789011814,2.8631847950075455,-3.123932516828689,0.4936777747183322,0.05610442712362615,-5.232136907715381,-1.3196016836983093,-1.5742859457391998,0.3794261967336568,-0.6219406106303121,1.8371397551392923,3.033537888455773,-5.7264239294843,1.0379939492294221,2.15262736252252,1.7159735912047045,-5.960032950502478,-5.3176838468075625,3.838262546493356,0.32269434183208445,-2.218530188000769,0.4024553344148127,-5.079058738889823,0.975048701654257,-0.8205882118468479,-0.11035131952789227,-2.2440159778195587,2.2786275897663786,3.8389061267196656,2.7219423194023866,-0.6769616176172357,-0.6970441516739786,0.8635737037504307,-5.621834243048244,-5.34064569848543,-0.5809198762034542,1.6790503886000054,-1.8216484618914563,3.6816027657011716,0.7584786107607114,-1.7957810619439873,0.9609489948860175,3.4758088233210898,2.707191013352128,1.9947529177658674,-0.6816195561561087,2.2189393553181227,1.1172473109317325,-1.1183597305054287,1.8491832222397675,1.833505064721549,1.439610453662181,1.6570945674509756],\"type\":\"scatter3d\"}],                        {\"template\":{\"data\":{\"histogram2dcontour\":[{\"type\":\"histogram2dcontour\",\"colorbar\":{\"outlinewidth\":0,\"ticks\":\"\"},\"colorscale\":[[0.0,\"#0d0887\"],[0.1111111111111111,\"#46039f\"],[0.2222222222222222,\"#7201a8\"],[0.3333333333333333,\"#9c179e\"],[0.4444444444444444,\"#bd3786\"],[0.5555555555555556,\"#d8576b\"],[0.6666666666666666,\"#ed7953\"],[0.7777777777777778,\"#fb9f3a\"],[0.8888888888888888,\"#fdca26\"],[1.0,\"#f0f921\"]]}],\"choropleth\":[{\"type\":\"choropleth\",\"colorbar\":{\"outlinewidth\":0,\"ticks\":\"\"}}],\"histogram2d\":[{\"type\":\"histogram2d\",\"colorbar\":{\"outlinewidth\":0,\"ticks\":\"\"},\"colorscale\":[[0.0,\"#0d0887\"],[0.1111111111111111,\"#46039f\"],[0.2222222222222222,\"#7201a8\"],[0.3333333333333333,\"#9c179e\"],[0.4444444444444444,\"#bd3786\"],[0.5555555555555556,\"#d8576b\"],[0.6666666666666666,\"#ed7953\"],[0.7777777777777778,\"#fb9f3a\"],[0.8888888888888888,\"#fdca26\"],[1.0,\"#f0f921\"]]}],\"heatmap\":[{\"type\":\"heatmap\",\"colorbar\":{\"outlinewidth\":0,\"ticks\":\"\"},\"colorscale\":[[0.0,\"#0d0887\"],[0.1111111111111111,\"#46039f\"],[0.2222222222222222,\"#7201a8\"],[0.3333333333333333,\"#9c179e\"],[0.4444444444444444,\"#bd3786\"],[0.5555555555555556,\"#d8576b\"],[0.6666666666666666,\"#ed7953\"],[0.7777777777777778,\"#fb9f3a\"],[0.8888888888888888,\"#fdca26\"],[1.0,\"#f0f921\"]]}],\"heatmapgl\":[{\"type\":\"heatmapgl\",\"colorbar\":{\"outlinewidth\":0,\"ticks\":\"\"},\"colorscale\":[[0.0,\"#0d0887\"],[0.1111111111111111,\"#46039f\"],[0.2222222222222222,\"#7201a8\"],[0.3333333333333333,\"#9c179e\"],[0.4444444444444444,\"#bd3786\"],[0.5555555555555556,\"#d8576b\"],[0.6666666666666666,\"#ed7953\"],[0.7777777777777778,\"#fb9f3a\"],[0.8888888888888888,\"#fdca26\"],[1.0,\"#f0f921\"]]}],\"contourcarpet\":[{\"type\":\"contourcarpet\",\"colorbar\":{\"outlinewidth\":0,\"ticks\":\"\"}}],\"contour\":[{\"type\":\"contour\",\"colorbar\":{\"outlinewidth\":0,\"ticks\":\"\"},\"colorscale\":[[0.0,\"#0d0887\"],[0.1111111111111111,\"#46039f\"],[0.2222222222222222,\"#7201a8\"],[0.3333333333333333,\"#9c179e\"],[0.4444444444444444,\"#bd3786\"],[0.5555555555555556,\"#d8576b\"],[0.6666666666666666,\"#ed7953\"],[0.7777777777777778,\"#fb9f3a\"],[0.8888888888888888,\"#fdca26\"],[1.0,\"#f0f921\"]]}],\"surface\":[{\"type\":\"surface\",\"colorbar\":{\"outlinewidth\":0,\"ticks\":\"\"},\"colorscale\":[[0.0,\"#0d0887\"],[0.1111111111111111,\"#46039f\"],[0.2222222222222222,\"#7201a8\"],[0.3333333333333333,\"#9c179e\"],[0.4444444444444444,\"#bd3786\"],[0.5555555555555556,\"#d8576b\"],[0.6666666666666666,\"#ed7953\"],[0.7777777777777778,\"#fb9f3a\"],[0.8888888888888888,\"#fdca26\"],[1.0,\"#f0f921\"]]}],\"mesh3d\":[{\"type\":\"mesh3d\",\"colorbar\":{\"outlinewidth\":0,\"ticks\":\"\"}}],\"scatter\":[{\"fillpattern\":{\"fillmode\":\"overlay\",\"size\":10,\"solidity\":0.2},\"type\":\"scatter\"}],\"parcoords\":[{\"type\":\"parcoords\",\"line\":{\"colorbar\":{\"outlinewidth\":0,\"ticks\":\"\"}}}],\"scatterpolargl\":[{\"type\":\"scatterpolargl\",\"marker\":{\"colorbar\":{\"outlinewidth\":0,\"ticks\":\"\"}}}],\"bar\":[{\"error_x\":{\"color\":\"#2a3f5f\"},\"error_y\":{\"color\":\"#2a3f5f\"},\"marker\":{\"line\":{\"color\":\"#E5ECF6\",\"width\":0.5},\"pattern\":{\"fillmode\":\"overlay\",\"size\":10,\"solidity\":0.2}},\"type\":\"bar\"}],\"scattergeo\":[{\"type\":\"scattergeo\",\"marker\":{\"colorbar\":{\"outlinewidth\":0,\"ticks\":\"\"}}}],\"scatterpolar\":[{\"type\":\"scatterpolar\",\"marker\":{\"colorbar\":{\"outlinewidth\":0,\"ticks\":\"\"}}}],\"histogram\":[{\"marker\":{\"pattern\":{\"fillmode\":\"overlay\",\"size\":10,\"solidity\":0.2}},\"type\":\"histogram\"}],\"scattergl\":[{\"type\":\"scattergl\",\"marker\":{\"colorbar\":{\"outlinewidth\":0,\"ticks\":\"\"}}}],\"scatter3d\":[{\"type\":\"scatter3d\",\"line\":{\"colorbar\":{\"outlinewidth\":0,\"ticks\":\"\"}},\"marker\":{\"colorbar\":{\"outlinewidth\":0,\"ticks\":\"\"}}}],\"scattermapbox\":[{\"type\":\"scattermapbox\",\"marker\":{\"colorbar\":{\"outlinewidth\":0,\"ticks\":\"\"}}}],\"scatterternary\":[{\"type\":\"scatterternary\",\"marker\":{\"colorbar\":{\"outlinewidth\":0,\"ticks\":\"\"}}}],\"scattercarpet\":[{\"type\":\"scattercarpet\",\"marker\":{\"colorbar\":{\"outlinewidth\":0,\"ticks\":\"\"}}}],\"carpet\":[{\"aaxis\":{\"endlinecolor\":\"#2a3f5f\",\"gridcolor\":\"white\",\"linecolor\":\"white\",\"minorgridcolor\":\"white\",\"startlinecolor\":\"#2a3f5f\"},\"baxis\":{\"endlinecolor\":\"#2a3f5f\",\"gridcolor\":\"white\",\"linecolor\":\"white\",\"minorgridcolor\":\"white\",\"startlinecolor\":\"#2a3f5f\"},\"type\":\"carpet\"}],\"table\":[{\"cells\":{\"fill\":{\"color\":\"#EBF0F8\"},\"line\":{\"color\":\"white\"}},\"header\":{\"fill\":{\"color\":\"#C8D4E3\"},\"line\":{\"color\":\"white\"}},\"type\":\"table\"}],\"barpolar\":[{\"marker\":{\"line\":{\"color\":\"#E5ECF6\",\"width\":0.5},\"pattern\":{\"fillmode\":\"overlay\",\"size\":10,\"solidity\":0.2}},\"type\":\"barpolar\"}],\"pie\":[{\"automargin\":true,\"type\":\"pie\"}]},\"layout\":{\"autotypenumbers\":\"strict\",\"colorway\":[\"#636efa\",\"#EF553B\",\"#00cc96\",\"#ab63fa\",\"#FFA15A\",\"#19d3f3\",\"#FF6692\",\"#B6E880\",\"#FF97FF\",\"#FECB52\"],\"font\":{\"color\":\"#2a3f5f\"},\"hovermode\":\"closest\",\"hoverlabel\":{\"align\":\"left\"},\"paper_bgcolor\":\"white\",\"plot_bgcolor\":\"#E5ECF6\",\"polar\":{\"bgcolor\":\"#E5ECF6\",\"angularaxis\":{\"gridcolor\":\"white\",\"linecolor\":\"white\",\"ticks\":\"\"},\"radialaxis\":{\"gridcolor\":\"white\",\"linecolor\":\"white\",\"ticks\":\"\"}},\"ternary\":{\"bgcolor\":\"#E5ECF6\",\"aaxis\":{\"gridcolor\":\"white\",\"linecolor\":\"white\",\"ticks\":\"\"},\"baxis\":{\"gridcolor\":\"white\",\"linecolor\":\"white\",\"ticks\":\"\"},\"caxis\":{\"gridcolor\":\"white\",\"linecolor\":\"white\",\"ticks\":\"\"}},\"coloraxis\":{\"colorbar\":{\"outlinewidth\":0,\"ticks\":\"\"}},\"colorscale\":{\"sequential\":[[0.0,\"#0d0887\"],[0.1111111111111111,\"#46039f\"],[0.2222222222222222,\"#7201a8\"],[0.3333333333333333,\"#9c179e\"],[0.4444444444444444,\"#bd3786\"],[0.5555555555555556,\"#d8576b\"],[0.6666666666666666,\"#ed7953\"],[0.7777777777777778,\"#fb9f3a\"],[0.8888888888888888,\"#fdca26\"],[1.0,\"#f0f921\"]],\"sequentialminus\":[[0.0,\"#0d0887\"],[0.1111111111111111,\"#46039f\"],[0.2222222222222222,\"#7201a8\"],[0.3333333333333333,\"#9c179e\"],[0.4444444444444444,\"#bd3786\"],[0.5555555555555556,\"#d8576b\"],[0.6666666666666666,\"#ed7953\"],[0.7777777777777778,\"#fb9f3a\"],[0.8888888888888888,\"#fdca26\"],[1.0,\"#f0f921\"]],\"diverging\":[[0,\"#8e0152\"],[0.1,\"#c51b7d\"],[0.2,\"#de77ae\"],[0.3,\"#f1b6da\"],[0.4,\"#fde0ef\"],[0.5,\"#f7f7f7\"],[0.6,\"#e6f5d0\"],[0.7,\"#b8e186\"],[0.8,\"#7fbc41\"],[0.9,\"#4d9221\"],[1,\"#276419\"]]},\"xaxis\":{\"gridcolor\":\"white\",\"linecolor\":\"white\",\"ticks\":\"\",\"title\":{\"standoff\":15},\"zerolinecolor\":\"white\",\"automargin\":true,\"zerolinewidth\":2},\"yaxis\":{\"gridcolor\":\"white\",\"linecolor\":\"white\",\"ticks\":\"\",\"title\":{\"standoff\":15},\"zerolinecolor\":\"white\",\"automargin\":true,\"zerolinewidth\":2},\"scene\":{\"xaxis\":{\"backgroundcolor\":\"#E5ECF6\",\"gridcolor\":\"white\",\"linecolor\":\"white\",\"showbackground\":true,\"ticks\":\"\",\"zerolinecolor\":\"white\",\"gridwidth\":2},\"yaxis\":{\"backgroundcolor\":\"#E5ECF6\",\"gridcolor\":\"white\",\"linecolor\":\"white\",\"showbackground\":true,\"ticks\":\"\",\"zerolinecolor\":\"white\",\"gridwidth\":2},\"zaxis\":{\"backgroundcolor\":\"#E5ECF6\",\"gridcolor\":\"white\",\"linecolor\":\"white\",\"showbackground\":true,\"ticks\":\"\",\"zerolinecolor\":\"white\",\"gridwidth\":2}},\"shapedefaults\":{\"line\":{\"color\":\"#2a3f5f\"}},\"annotationdefaults\":{\"arrowcolor\":\"#2a3f5f\",\"arrowhead\":0,\"arrowwidth\":1},\"geo\":{\"bgcolor\":\"white\",\"landcolor\":\"#E5ECF6\",\"subunitcolor\":\"white\",\"showland\":true,\"showlakes\":true,\"lakecolor\":\"white\"},\"title\":{\"x\":0.05},\"mapbox\":{\"style\":\"light\"}}},\"scene\":{\"domain\":{\"x\":[0.0,1.0],\"y\":[0.0,1.0]},\"xaxis\":{\"title\":{\"text\":\"LD1\"},\"backgroundcolor\":\"white\",\"showgrid\":true,\"gridwidth\":1,\"gridcolor\":\"lightgrey\",\"zeroline\":true,\"zerolinewidth\":1,\"zerolinecolor\":\"lightgrey\",\"showline\":true,\"linewidth\":1,\"linecolor\":\"black\"},\"yaxis\":{\"title\":{\"text\":\"LD2\"},\"backgroundcolor\":\"white\",\"showgrid\":true,\"gridwidth\":1,\"gridcolor\":\"lightgrey\",\"zeroline\":true,\"zerolinewidth\":1,\"zerolinecolor\":\"lightgrey\",\"showline\":true,\"linewidth\":1,\"linecolor\":\"black\"},\"zaxis\":{\"title\":{\"text\":\"LD3\"},\"backgroundcolor\":\"white\",\"showgrid\":true,\"gridwidth\":1,\"gridcolor\":\"lightgrey\",\"zeroline\":true,\"zerolinewidth\":1,\"zerolinecolor\":\"lightgrey\",\"showline\":true,\"linewidth\":1,\"linecolor\":\"black\"}},\"coloraxis\":{\"colorbar\":{\"title\":{\"text\":\"color\"}},\"colorscale\":[[0.0,\"#0d0887\"],[0.1111111111111111,\"#46039f\"],[0.2222222222222222,\"#7201a8\"],[0.3333333333333333,\"#9c179e\"],[0.4444444444444444,\"#bd3786\"],[0.5555555555555556,\"#d8576b\"],[0.6666666666666666,\"#ed7953\"],[0.7777777777777778,\"#fb9f3a\"],[0.8888888888888888,\"#fdca26\"],[1.0,\"#f0f921\"]]},\"legend\":{\"tracegroupgap\":0},\"margin\":{\"t\":60},\"title\":{\"text\":\"3D LDA Scatter Plot\"}},                        {\"responsive\": true}                    ).then(function(){\n",
              "                            \n",
              "var gd = document.getElementById('72fc7eb2-8e3c-478e-92b0-b2d42b5c18d4');\n",
              "var x = new MutationObserver(function (mutations, observer) {{\n",
              "        var display = window.getComputedStyle(gd).display;\n",
              "        if (!display || display === 'none') {{\n",
              "            console.log([gd, 'removed!']);\n",
              "            Plotly.purge(gd);\n",
              "            observer.disconnect();\n",
              "        }}\n",
              "}});\n",
              "\n",
              "// Listen for the removal of the full notebook cells\n",
              "var notebookContainer = gd.closest('#notebook-container');\n",
              "if (notebookContainer) {{\n",
              "    x.observe(notebookContainer, {childList: true});\n",
              "}}\n",
              "\n",
              "// Listen for the clearing of the current output cell\n",
              "var outputEl = gd.closest('.output');\n",
              "if (outputEl) {{\n",
              "    x.observe(outputEl, {childList: true});\n",
              "}}\n",
              "\n",
              "                        })                };                            </script>        </div>\n",
              "</body>\n",
              "</html>"
            ]
          },
          "metadata": {}
        }
      ]
    },
    {
      "cell_type": "code",
      "source": [],
      "metadata": {
        "id": "ksNcKKhk6FhM"
      },
      "execution_count": null,
      "outputs": []
    }
  ]
}